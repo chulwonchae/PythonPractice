{
 "cells": [
  {
   "cell_type": "code",
   "execution_count": 1,
   "metadata": {},
   "outputs": [],
   "source": [
    "##클래스 선언\n",
    "class Class_1():\n",
    "    def func_1(self):\n",
    "        print(\"Class call\")\n"
   ]
  },
  {
   "cell_type": "code",
   "execution_count": 3,
   "metadata": {},
   "outputs": [],
   "source": [
    "#클래스 생성\n",
    "x = Class_1()"
   ]
  },
  {
   "cell_type": "code",
   "execution_count": 4,
   "metadata": {},
   "outputs": [
    {
     "name": "stdout",
     "output_type": "stream",
     "text": [
      "Class call\n"
     ]
    }
   ],
   "source": [
    "x.func_1()"
   ]
  },
  {
   "cell_type": "code",
   "execution_count": 6,
   "metadata": {},
   "outputs": [],
   "source": [
    "class Class_2():\n",
    "    def __init__(self, input_x, input_y):\n",
    "        self.x = input_x\n",
    "        self.y = input_y"
   ]
  },
  {
   "cell_type": "code",
   "execution_count": 8,
   "metadata": {},
   "outputs": [],
   "source": [
    "a = Class_2(\"test\",1)"
   ]
  },
  {
   "cell_type": "code",
   "execution_count": 9,
   "metadata": {},
   "outputs": [
    {
     "name": "stdout",
     "output_type": "stream",
     "text": [
      "test 1\n"
     ]
    }
   ],
   "source": [
    "print(a.x, a.y)"
   ]
  },
  {
   "cell_type": "code",
   "execution_count": 10,
   "metadata": {},
   "outputs": [],
   "source": [
    "b = Class_2(\"test2\", 2)"
   ]
  },
  {
   "cell_type": "code",
   "execution_count": 11,
   "metadata": {},
   "outputs": [
    {
     "name": "stdout",
     "output_type": "stream",
     "text": [
      "test 1\n",
      "test2 2\n"
     ]
    }
   ],
   "source": [
    "print(a.x,a.y)\n",
    "print(b.x,b.y)"
   ]
  },
  {
   "cell_type": "code",
   "execution_count": 12,
   "metadata": {},
   "outputs": [],
   "source": [
    "class Class_3():\n",
    "    def __init__(self, input_x, input_y):\n",
    "        self.x = input_x \n",
    "        self.y = input_y\n",
    "    def add(self):\n",
    "        self.result = self.x + self.y\n",
    "        return self.result \n",
    "    def subtract(self):\n",
    "        self.result = self.x - self.y\n",
    "        return self.result"
   ]
  },
  {
   "cell_type": "code",
   "execution_count": 13,
   "metadata": {},
   "outputs": [],
   "source": [
    "c = Class_3(10,4)"
   ]
  },
  {
   "cell_type": "code",
   "execution_count": 14,
   "metadata": {},
   "outputs": [
    {
     "name": "stdout",
     "output_type": "stream",
     "text": [
      "14\n",
      "6\n"
     ]
    }
   ],
   "source": [
    "print(c.add())\n",
    "print(c.subtract())"
   ]
  },
  {
   "cell_type": "code",
   "execution_count": 16,
   "metadata": {},
   "outputs": [
    {
     "name": "stdout",
     "output_type": "stream",
     "text": [
      "14\n",
      "13\n",
      "6\n",
      "-5\n"
     ]
    }
   ],
   "source": [
    "d= Class_3(4,9)\n",
    "print(c.add())\n",
    "print(d.add())\n",
    "print(c.subtract())\n",
    "print(d.subtract())"
   ]
  },
  {
   "cell_type": "code",
   "execution_count": 22,
   "metadata": {},
   "outputs": [],
   "source": [
    "#클래스 변수\n",
    "#클래스들은 각자 독립적인 변수들을 가지고 행동\n",
    "#클래스 변수는 class_3를 생성한 모든 곳에서 공유해서 사용 가능\n",
    "\n",
    "class Class_4():\n",
    "    list = []\n",
    "    def __init__(self,input_name):\n",
    "        self.name = input_name\n",
    "\n",
    "    def add_list(self,input_phone):\n",
    "        self.list.append(input_phone)\n"
   ]
  },
  {
   "cell_type": "code",
   "execution_count": 23,
   "metadata": {},
   "outputs": [],
   "source": [
    "test = Class_4(\"kim\")\n",
    "test2 = Class_4(\"lee\")\n",
    "\n"
   ]
  },
  {
   "cell_type": "code",
   "execution_count": 24,
   "metadata": {},
   "outputs": [],
   "source": [
    "test.add_list(\"01012345678\")\n",
    "test2.add_list(\"01042345432\")"
   ]
  },
  {
   "cell_type": "code",
   "execution_count": 26,
   "metadata": {},
   "outputs": [
    {
     "name": "stdout",
     "output_type": "stream",
     "text": [
      "kim\n",
      "lee\n"
     ]
    }
   ],
   "source": [
    "print(test.name)\n",
    "print(test2.name)"
   ]
  },
  {
   "cell_type": "code",
   "execution_count": 27,
   "metadata": {},
   "outputs": [
    {
     "name": "stdout",
     "output_type": "stream",
     "text": [
      "['01012345678', '01042345432']\n",
      "['01012345678', '01042345432']\n"
     ]
    }
   ],
   "source": [
    "print(test.list)\n",
    "print(test2.list)"
   ]
  },
  {
   "cell_type": "markdown",
   "metadata": {},
   "source": [
    "1. name 하나 당 휴대폰의 번호는 하나씩 나와야하는데, \n",
    "2. 2개씩 나오고 있는 상황\n",
    "3. 1개씩 나오도록 수정"
   ]
  },
  {
   "cell_type": "code",
   "execution_count": 37,
   "metadata": {},
   "outputs": [],
   "source": [
    "\n",
    "class Class_4():\n",
    "    #list = []\n",
    "    def __init__(self,input_name):\n",
    "        self.name = input_name\n",
    "        self.list = []\n",
    "\n",
    "    def add_list(self,input_phone):\n",
    "        self.list.append(input_phone)"
   ]
  },
  {
   "cell_type": "code",
   "execution_count": 38,
   "metadata": {},
   "outputs": [],
   "source": [
    "test = Class_4(\"kim\")\n",
    "test2 = Class_4(\"lee\")\n"
   ]
  },
  {
   "cell_type": "code",
   "execution_count": 39,
   "metadata": {},
   "outputs": [],
   "source": [
    "test.add_list(\"01012345678\")\n",
    "test2.add_list(\"01042345432\")"
   ]
  },
  {
   "cell_type": "code",
   "execution_count": 40,
   "metadata": {},
   "outputs": [
    {
     "name": "stdout",
     "output_type": "stream",
     "text": [
      "kim\n",
      "lee\n"
     ]
    }
   ],
   "source": [
    "print(test.name)\n",
    "print(test2.name)"
   ]
  },
  {
   "cell_type": "code",
   "execution_count": 41,
   "metadata": {},
   "outputs": [
    {
     "name": "stdout",
     "output_type": "stream",
     "text": [
      "['01012345678']\n",
      "['01042345432']\n"
     ]
    }
   ],
   "source": [
    "print(test.list)\n",
    "print(test2.list)"
   ]
  }
 ],
 "metadata": {
  "kernelspec": {
   "display_name": "Python 3.8.9 64-bit",
   "language": "python",
   "name": "python3"
  },
  "language_info": {
   "codemirror_mode": {
    "name": "ipython",
    "version": 3
   },
   "file_extension": ".py",
   "mimetype": "text/x-python",
   "name": "python",
   "nbconvert_exporter": "python",
   "pygments_lexer": "ipython3",
   "version": "3.8.9"
  },
  "orig_nbformat": 4,
  "vscode": {
   "interpreter": {
    "hash": "31f2aee4e71d21fbe5cf8b01ff0e069b9275f58929596ceb00d14d90e3e16cd6"
   }
  }
 },
 "nbformat": 4,
 "nbformat_minor": 2
}
