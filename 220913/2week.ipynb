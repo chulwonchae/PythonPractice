{
 "cells": [
  {
   "cell_type": "code",
   "execution_count": 6,
   "metadata": {},
   "outputs": [],
   "source": [
    "import pandas as pd\n",
    "import os"
   ]
  },
  {
   "cell_type": "code",
   "execution_count": 7,
   "metadata": {},
   "outputs": [],
   "source": [
    "#지정된 경로에 있는 파일 리스트\n",
    "\n",
    "files = os.listdir(\"../csv/2017\")"
   ]
  },
  {
   "cell_type": "code",
   "execution_count": 8,
   "metadata": {},
   "outputs": [
    {
     "data": {
      "text/plain": [
       "70132"
      ]
     },
     "execution_count": 8,
     "metadata": {},
     "output_type": "execute_result"
    }
   ],
   "source": [
    "#지정된 폴더에 있는 파일들을 하나의 데이터프레임으로 결합\n",
    "#빈 데이터프레임 생성\n",
    "#반복문을 이용하여 리스트에 있는 csv파일들을 하나씩 로드하여 \n",
    "#빈 데이터 프레임에 concat() 결합\n",
    "\n",
    "\n",
    "df_2017 = pd.DataFrame() #빈 데이터프레임 생성\n",
    "\n",
    "#반복문을 사용하여 빈 데이터 프레임에 결합\n",
    "for file in files: \n",
    "    path = \"../csv/2017/\"\n",
    "    df = pd.read_csv(path+file) #경로랑 파일이랑 같이\n",
    "    df_2017 = pd.concat([df_2017, df], ignore_index=True)\n",
    "len(df_2017)"
   ]
  },
  {
   "cell_type": "code",
   "execution_count": 9,
   "metadata": {},
   "outputs": [
    {
     "data": {
      "text/plain": [
       "['202110_expense_list.xlsx',\n",
       " '202110_expense_list.xml',\n",
       " '202105_expense_list.json',\n",
       " '202104_expense_list.xml',\n",
       " '202109_expense_list.xlsx',\n",
       " '202107_expense_list.csv',\n",
       " '202111_expense_list.xlsx',\n",
       " '202103_expense_list.csv',\n",
       " '202104_expense_list.json',\n",
       " '202108_expense_list.csv',\n",
       " '202108_expense_list.xlsx',\n",
       " '202101_expense_list.json',\n",
       " '202112_expense_list.xlsx',\n",
       " '202111_expense_list.xml',\n",
       " '202112_expense_list.csv',\n",
       " '202107_expense_list.json',\n",
       " '202106_expense_list.csv',\n",
       " '202105_expense_list.xml',\n",
       " '202102_expense_list.json',\n",
       " '202101_expense_list.xml',\n",
       " '202102_expense_list.csv',\n",
       " '202106_expense_list.json',\n",
       " '202103_expense_list.json',\n",
       " '202109_expense_list.csv',\n",
       " '202105_expense_list.csv',\n",
       " '202103_expense_list.xlsx',\n",
       " '202106_expense_list.xml',\n",
       " '202112_expense_list.xml',\n",
       " '202111_expense_list.csv',\n",
       " '202106_expense_list.xlsx',\n",
       " '202109_expense_list.xml',\n",
       " '202102_expense_list.xlsx',\n",
       " '202102_expense_list.xml',\n",
       " '202112_expense_list.json',\n",
       " '202101_expense_list.csv',\n",
       " '202107_expense_list.xlsx',\n",
       " '202107_expense_list.xml',\n",
       " '202108_expense_list.json',\n",
       " '202101_expense_list.xlsx',\n",
       " '202104_expense_list.csv',\n",
       " '202111_expense_list.json',\n",
       " '202110_expense_list.csv',\n",
       " '202104_expense_list.xlsx',\n",
       " '202109_expense_list.json',\n",
       " '202108_expense_list.xml',\n",
       " '202110_expense_list.json',\n",
       " '202105_expense_list.xlsx',\n",
       " '202103_expense_list.xml']"
      ]
     },
     "execution_count": 9,
     "metadata": {},
     "output_type": "execute_result"
    }
   ],
   "source": [
    "files = os.listdir(\"../csv/2021\")\n",
    "files"
   ]
  },
  {
   "cell_type": "code",
   "execution_count": 10,
   "metadata": {},
   "outputs": [
    {
     "data": {
      "text/plain": [
       "['202107_expense_list.csv',\n",
       " '202103_expense_list.csv',\n",
       " '202108_expense_list.csv',\n",
       " '202112_expense_list.csv',\n",
       " '202106_expense_list.csv',\n",
       " '202102_expense_list.csv',\n",
       " '202109_expense_list.csv',\n",
       " '202105_expense_list.csv',\n",
       " '202111_expense_list.csv',\n",
       " '202101_expense_list.csv',\n",
       " '202104_expense_list.csv',\n",
       " '202110_expense_list.csv']"
      ]
     },
     "execution_count": 10,
     "metadata": {},
     "output_type": "execute_result"
    }
   ],
   "source": [
    "#폴더 안에 csv파일만 가지고 오기\n",
    "files = [file for file in files if file.endswith(\".csv\")]\n",
    "files"
   ]
  },
  {
   "cell_type": "markdown",
   "metadata": {},
   "source": [
    "1. 컬럼명 변경 - ['nid', '제목', 'url', '부서레벨1','부서레벨2','부서레벨3','부서레벨4','부서레벨5','집행연도','집행','구분','부서명','집행일시','집행장소','집행목적','대상인원','결제방법','집행금액']\n",
    "2. 컬럼 삭제 - ['부서레벨3','부서레벨4','부서레벨5','예산','집행','구분']\n",
    "3. 월별 집행금액의 합 시각화 (바 그래프)\n",
    "4. pivot_table을 사용하여 그룹화(연도, 월) 집행금액의 합계를 그래프 출력 (바 그래프)"
   ]
  },
  {
   "cell_type": "code",
   "execution_count": 11,
   "metadata": {},
   "outputs": [
    {
     "data": {
      "text/html": [
       "<div>\n",
       "<style scoped>\n",
       "    .dataframe tbody tr th:only-of-type {\n",
       "        vertical-align: middle;\n",
       "    }\n",
       "\n",
       "    .dataframe tbody tr th {\n",
       "        vertical-align: top;\n",
       "    }\n",
       "\n",
       "    .dataframe thead th {\n",
       "        text-align: right;\n",
       "    }\n",
       "</style>\n",
       "<table border=\"1\" class=\"dataframe\">\n",
       "  <thead>\n",
       "    <tr style=\"text-align: right;\">\n",
       "      <th></th>\n",
       "      <th>nid</th>\n",
       "      <th>title</th>\n",
       "      <th>url</th>\n",
       "      <th>dept_nm_lvl_1</th>\n",
       "      <th>dept_nm_lvl_2</th>\n",
       "      <th>dept_nm_lvl_3</th>\n",
       "      <th>dept_nm_lvl_4</th>\n",
       "      <th>dept_nm_lvl_5</th>\n",
       "      <th>exec_yr</th>\n",
       "      <th>exec_month</th>\n",
       "      <th>expense_budget</th>\n",
       "      <th>expense_execution</th>\n",
       "      <th>category</th>\n",
       "      <th>dept_nm_full</th>\n",
       "      <th>exec_dt</th>\n",
       "      <th>exec_loc</th>\n",
       "      <th>exec_purpose</th>\n",
       "      <th>target_nm</th>\n",
       "      <th>payment_method</th>\n",
       "      <th>exec_amount</th>\n",
       "    </tr>\n",
       "  </thead>\n",
       "  <tbody>\n",
       "    <tr>\n",
       "      <th>0</th>\n",
       "      <td>11527154</td>\n",
       "      <td>2017년 2월 시의회사무처 보건복지전문위원실 업무추진비 집행내역</td>\n",
       "      <td>http://opengov.seoul.go.kr/public/11527154</td>\n",
       "      <td>의회사무처</td>\n",
       "      <td>보건복지전문위원실</td>\n",
       "      <td>NaN</td>\n",
       "      <td>NaN</td>\n",
       "      <td>NaN</td>\n",
       "      <td>2017</td>\n",
       "      <td>2</td>\n",
       "      <td>NaN</td>\n",
       "      <td>NaN</td>\n",
       "      <td>NaN</td>\n",
       "      <td>시의회사무처 보건복지전문위원실</td>\n",
       "      <td>2017-02-23 12:54</td>\n",
       "      <td>（주）스타벅스커피코 (중구 소공로)</td>\n",
       "      <td>제272회 임시회 현장방문 논의 간담회</td>\n",
       "      <td>수석전문위원 외 5명</td>\n",
       "      <td>카드</td>\n",
       "      <td>30000</td>\n",
       "    </tr>\n",
       "    <tr>\n",
       "      <th>1</th>\n",
       "      <td>11527154</td>\n",
       "      <td>2017년 2월 시의회사무처 보건복지전문위원실 업무추진비 집행내역</td>\n",
       "      <td>http://opengov.seoul.go.kr/public/11527154</td>\n",
       "      <td>의회사무처</td>\n",
       "      <td>보건복지전문위원실</td>\n",
       "      <td>NaN</td>\n",
       "      <td>NaN</td>\n",
       "      <td>NaN</td>\n",
       "      <td>2017</td>\n",
       "      <td>2</td>\n",
       "      <td>NaN</td>\n",
       "      <td>NaN</td>\n",
       "      <td>NaN</td>\n",
       "      <td>시의회사무처 보건복지전문위원실</td>\n",
       "      <td>2017-02-22 13:03</td>\n",
       "      <td>코바코보라매점 (동작구 보라매로5가)</td>\n",
       "      <td>보라매병원 자료수집 관련 간담회</td>\n",
       "      <td>수석전문위원 외 1명</td>\n",
       "      <td>카드</td>\n",
       "      <td>7500</td>\n",
       "    </tr>\n",
       "  </tbody>\n",
       "</table>\n",
       "</div>"
      ],
      "text/plain": [
       "        nid                                 title  \\\n",
       "0  11527154  2017년 2월 시의회사무처 보건복지전문위원실 업무추진비 집행내역   \n",
       "1  11527154  2017년 2월 시의회사무처 보건복지전문위원실 업무추진비 집행내역   \n",
       "\n",
       "                                          url dept_nm_lvl_1 dept_nm_lvl_2  \\\n",
       "0  http://opengov.seoul.go.kr/public/11527154         의회사무처     보건복지전문위원실   \n",
       "1  http://opengov.seoul.go.kr/public/11527154         의회사무처     보건복지전문위원실   \n",
       "\n",
       "  dept_nm_lvl_3 dept_nm_lvl_4 dept_nm_lvl_5  exec_yr  exec_month  \\\n",
       "0           NaN           NaN           NaN     2017           2   \n",
       "1           NaN           NaN           NaN     2017           2   \n",
       "\n",
       "   expense_budget  expense_execution category      dept_nm_full  \\\n",
       "0             NaN                NaN      NaN  시의회사무처 보건복지전문위원실   \n",
       "1             NaN                NaN      NaN  시의회사무처 보건복지전문위원실   \n",
       "\n",
       "            exec_dt              exec_loc           exec_purpose    target_nm  \\\n",
       "0  2017-02-23 12:54   （주）스타벅스커피코 (중구 소공로)  제272회 임시회 현장방문 논의 간담회  수석전문위원 외 5명   \n",
       "1  2017-02-22 13:03  코바코보라매점 (동작구 보라매로5가)      보라매병원 자료수집 관련 간담회  수석전문위원 외 1명   \n",
       "\n",
       "  payment_method  exec_amount  \n",
       "0             카드        30000  \n",
       "1             카드         7500  "
      ]
     },
     "execution_count": 11,
     "metadata": {},
     "output_type": "execute_result"
    }
   ],
   "source": [
    "df_2017.head(2)"
   ]
  },
  {
   "cell_type": "code",
   "execution_count": 12,
   "metadata": {},
   "outputs": [],
   "source": [
    "df_2017.columns = ['nid', '제목', 'url', '부서레벨1','부서레벨2','부서레벨3','부서레벨4','부서레벨5','집행연도','집행월','예산','집행','구분','부서명','집행일시','집행장소','집행목적','대상인원','결제방법','집행금액']"
   ]
  },
  {
   "cell_type": "code",
   "execution_count": 13,
   "metadata": {},
   "outputs": [],
   "source": [
    "df_2017.drop(['부서레벨3','부서레벨4','부서레벨5','예산','집행','구분'], axis = 1, inplace = True) # axis 드랍할 축 지정"
   ]
  },
  {
   "cell_type": "code",
   "execution_count": 14,
   "metadata": {},
   "outputs": [
    {
     "data": {
      "text/html": [
       "<div>\n",
       "<style scoped>\n",
       "    .dataframe tbody tr th:only-of-type {\n",
       "        vertical-align: middle;\n",
       "    }\n",
       "\n",
       "    .dataframe tbody tr th {\n",
       "        vertical-align: top;\n",
       "    }\n",
       "\n",
       "    .dataframe thead th {\n",
       "        text-align: right;\n",
       "    }\n",
       "</style>\n",
       "<table border=\"1\" class=\"dataframe\">\n",
       "  <thead>\n",
       "    <tr style=\"text-align: right;\">\n",
       "      <th></th>\n",
       "      <th>nid</th>\n",
       "      <th>제목</th>\n",
       "      <th>url</th>\n",
       "      <th>부서레벨1</th>\n",
       "      <th>부서레벨2</th>\n",
       "      <th>집행연도</th>\n",
       "      <th>집행월</th>\n",
       "      <th>부서명</th>\n",
       "      <th>집행일시</th>\n",
       "      <th>집행장소</th>\n",
       "      <th>집행목적</th>\n",
       "      <th>대상인원</th>\n",
       "      <th>결제방법</th>\n",
       "      <th>집행금액</th>\n",
       "    </tr>\n",
       "  </thead>\n",
       "  <tbody>\n",
       "    <tr>\n",
       "      <th>0</th>\n",
       "      <td>11527154</td>\n",
       "      <td>2017년 2월 시의회사무처 보건복지전문위원실 업무추진비 집행내역</td>\n",
       "      <td>http://opengov.seoul.go.kr/public/11527154</td>\n",
       "      <td>의회사무처</td>\n",
       "      <td>보건복지전문위원실</td>\n",
       "      <td>2017</td>\n",
       "      <td>2</td>\n",
       "      <td>시의회사무처 보건복지전문위원실</td>\n",
       "      <td>2017-02-23 12:54</td>\n",
       "      <td>（주）스타벅스커피코 (중구 소공로)</td>\n",
       "      <td>제272회 임시회 현장방문 논의 간담회</td>\n",
       "      <td>수석전문위원 외 5명</td>\n",
       "      <td>카드</td>\n",
       "      <td>30000</td>\n",
       "    </tr>\n",
       "  </tbody>\n",
       "</table>\n",
       "</div>"
      ],
      "text/plain": [
       "        nid                                    제목  \\\n",
       "0  11527154  2017년 2월 시의회사무처 보건복지전문위원실 업무추진비 집행내역   \n",
       "\n",
       "                                          url  부서레벨1      부서레벨2  집행연도  집행월  \\\n",
       "0  http://opengov.seoul.go.kr/public/11527154  의회사무처  보건복지전문위원실  2017    2   \n",
       "\n",
       "                부서명              집행일시                 집행장소  \\\n",
       "0  시의회사무처 보건복지전문위원실  2017-02-23 12:54  （주）스타벅스커피코 (중구 소공로)   \n",
       "\n",
       "                    집행목적         대상인원 결제방법   집행금액  \n",
       "0  제272회 임시회 현장방문 논의 간담회  수석전문위원 외 5명   카드  30000  "
      ]
     },
     "execution_count": 14,
     "metadata": {},
     "output_type": "execute_result"
    }
   ],
   "source": [
    "df_2017.head(1)"
   ]
  },
  {
   "cell_type": "code",
   "execution_count": 15,
   "metadata": {},
   "outputs": [
    {
     "data": {
      "text/plain": [
       "집행월\n",
       "1      710368860\n",
       "2      712679864\n",
       "3      737250454\n",
       "4      635265805\n",
       "5      647582378\n",
       "6      758257342\n",
       "7      701604626\n",
       "8      661174850\n",
       "9      806170700\n",
       "10     637219943\n",
       "11     843619171\n",
       "12    1225747394\n",
       "Name: 집행금액, dtype: int64"
      ]
     },
     "execution_count": 15,
     "metadata": {},
     "output_type": "execute_result"
    }
   ],
   "source": [
    "month_df = df_2017.groupby(\"집행월\").sum()[\"집행금액\"]\n",
    "month_df"
   ]
  },
  {
   "cell_type": "code",
   "execution_count": 16,
   "metadata": {},
   "outputs": [
    {
     "data": {
      "text/html": [
       "<div>\n",
       "<style scoped>\n",
       "    .dataframe tbody tr th:only-of-type {\n",
       "        vertical-align: middle;\n",
       "    }\n",
       "\n",
       "    .dataframe tbody tr th {\n",
       "        vertical-align: top;\n",
       "    }\n",
       "\n",
       "    .dataframe thead tr th {\n",
       "        text-align: left;\n",
       "    }\n",
       "\n",
       "    .dataframe thead tr:last-of-type th {\n",
       "        text-align: right;\n",
       "    }\n",
       "</style>\n",
       "<table border=\"1\" class=\"dataframe\">\n",
       "  <thead>\n",
       "    <tr>\n",
       "      <th></th>\n",
       "      <th>집행금액</th>\n",
       "    </tr>\n",
       "    <tr>\n",
       "      <th>집행연도</th>\n",
       "      <th>2017</th>\n",
       "    </tr>\n",
       "    <tr>\n",
       "      <th>집행월</th>\n",
       "      <th></th>\n",
       "    </tr>\n",
       "  </thead>\n",
       "  <tbody>\n",
       "    <tr>\n",
       "      <th>1</th>\n",
       "      <td>710368860</td>\n",
       "    </tr>\n",
       "    <tr>\n",
       "      <th>2</th>\n",
       "      <td>712679864</td>\n",
       "    </tr>\n",
       "    <tr>\n",
       "      <th>3</th>\n",
       "      <td>737250454</td>\n",
       "    </tr>\n",
       "    <tr>\n",
       "      <th>4</th>\n",
       "      <td>635265805</td>\n",
       "    </tr>\n",
       "    <tr>\n",
       "      <th>5</th>\n",
       "      <td>647582378</td>\n",
       "    </tr>\n",
       "    <tr>\n",
       "      <th>6</th>\n",
       "      <td>758257342</td>\n",
       "    </tr>\n",
       "    <tr>\n",
       "      <th>7</th>\n",
       "      <td>701604626</td>\n",
       "    </tr>\n",
       "    <tr>\n",
       "      <th>8</th>\n",
       "      <td>661174850</td>\n",
       "    </tr>\n",
       "    <tr>\n",
       "      <th>9</th>\n",
       "      <td>806170700</td>\n",
       "    </tr>\n",
       "    <tr>\n",
       "      <th>10</th>\n",
       "      <td>637219943</td>\n",
       "    </tr>\n",
       "    <tr>\n",
       "      <th>11</th>\n",
       "      <td>843619171</td>\n",
       "    </tr>\n",
       "    <tr>\n",
       "      <th>12</th>\n",
       "      <td>1225747394</td>\n",
       "    </tr>\n",
       "  </tbody>\n",
       "</table>\n",
       "</div>"
      ],
      "text/plain": [
       "            집행금액\n",
       "집행연도        2017\n",
       "집행월             \n",
       "1      710368860\n",
       "2      712679864\n",
       "3      737250454\n",
       "4      635265805\n",
       "5      647582378\n",
       "6      758257342\n",
       "7      701604626\n",
       "8      661174850\n",
       "9      806170700\n",
       "10     637219943\n",
       "11     843619171\n",
       "12    1225747394"
      ]
     },
     "execution_count": 16,
     "metadata": {},
     "output_type": "execute_result"
    }
   ],
   "source": [
    "pivot_month = pd.pivot_table(df_2017, index = [\"집행월\"], columns = [\"집행연도\"], values = [\"집행금액\"], aggfunc = \"sum\")\n",
    "pivot_month"
   ]
  },
  {
   "cell_type": "code",
   "execution_count": 17,
   "metadata": {},
   "outputs": [
    {
     "data": {
      "text/plain": [
       "<AxesSubplot:xlabel='집행월'>"
      ]
     },
     "execution_count": 17,
     "metadata": {},
     "output_type": "execute_result"
    },
    {
     "name": "stderr",
     "output_type": "stream",
     "text": [
      "/Users/chulwonchae/Library/Python/3.8/lib/python/site-packages/IPython/core/events.py:89: UserWarning: Glyph 51665 (\\N{HANGUL SYLLABLE JIB}) missing from current font.\n",
      "  func(*args, **kwargs)\n",
      "/Users/chulwonchae/Library/Python/3.8/lib/python/site-packages/IPython/core/events.py:89: UserWarning: Glyph 54665 (\\N{HANGUL SYLLABLE HAENG}) missing from current font.\n",
      "  func(*args, **kwargs)\n",
      "/Users/chulwonchae/Library/Python/3.8/lib/python/site-packages/IPython/core/events.py:89: UserWarning: Glyph 50900 (\\N{HANGUL SYLLABLE WEOL}) missing from current font.\n",
      "  func(*args, **kwargs)\n",
      "/Users/chulwonchae/Library/Python/3.8/lib/python/site-packages/IPython/core/pylabtools.py:151: UserWarning: Glyph 51665 (\\N{HANGUL SYLLABLE JIB}) missing from current font.\n",
      "  fig.canvas.print_figure(bytes_io, **kw)\n",
      "/Users/chulwonchae/Library/Python/3.8/lib/python/site-packages/IPython/core/pylabtools.py:151: UserWarning: Glyph 54665 (\\N{HANGUL SYLLABLE HAENG}) missing from current font.\n",
      "  fig.canvas.print_figure(bytes_io, **kw)\n",
      "/Users/chulwonchae/Library/Python/3.8/lib/python/site-packages/IPython/core/pylabtools.py:151: UserWarning: Glyph 50900 (\\N{HANGUL SYLLABLE WEOL}) missing from current font.\n",
      "  fig.canvas.print_figure(bytes_io, **kw)\n"
     ]
    },
    {
     "data": {
      "image/png": "[encoded data removed]",
      "text/plain": [
       "<Figure size 640x480 with 1 Axes>"
      ]
     },
     "metadata": {},
     "output_type": "display_data"
    }
   ],
   "source": [
    "month_df.plot.bar()"
   ]
  },
  {
   "cell_type": "code",
   "execution_count": 18,
   "metadata": {},
   "outputs": [],
   "source": [
    "import matplotlib.pyplot as plt"
   ]
  },
  {
   "cell_type": "code",
   "execution_count": 22,
   "metadata": {},
   "outputs": [
    {
     "data": {
      "image/png": "[encoded data removed]",
      "text/plain": [
       "<Figure size 640x480 with 1 Axes>"
      ]
     },
     "metadata": {},
     "output_type": "display_data"
    }
   ],
   "source": [
    "# 바그래프 matplot 이용하여 출력\n",
    "# x값 y값\n",
    "# x-> 집행월 y ->집행금액의 합계\n",
    "\n",
    "\n",
    "x = month_df.index\n",
    "plt.bar(x,month_df)\n",
    "plt.show()"
   ]
  },
  {
   "cell_type": "code",
   "execution_count": 20,
   "metadata": {},
   "outputs": [
    {
     "data": {
      "text/plain": [
       "<AxesSubplot:ylabel='집행월'>"
      ]
     },
     "execution_count": 20,
     "metadata": {},
     "output_type": "execute_result"
    },
    {
     "name": "stderr",
     "output_type": "stream",
     "text": [
      "/Users/chulwonchae/Library/Python/3.8/lib/python/site-packages/IPython/core/events.py:89: UserWarning: Glyph 51665 (\\N{HANGUL SYLLABLE JIB}) missing from current font.\n",
      "  func(*args, **kwargs)\n",
      "/Users/chulwonchae/Library/Python/3.8/lib/python/site-packages/IPython/core/events.py:89: UserWarning: Glyph 54665 (\\N{HANGUL SYLLABLE HAENG}) missing from current font.\n",
      "  func(*args, **kwargs)\n",
      "/Users/chulwonchae/Library/Python/3.8/lib/python/site-packages/IPython/core/events.py:89: UserWarning: Glyph 50900 (\\N{HANGUL SYLLABLE WEOL}) missing from current font.\n",
      "  func(*args, **kwargs)\n",
      "/Users/chulwonchae/Library/Python/3.8/lib/python/site-packages/IPython/core/events.py:89: UserWarning: Glyph 50672 (\\N{HANGUL SYLLABLE YEON}) missing from current font.\n",
      "  func(*args, **kwargs)\n",
      "/Users/chulwonchae/Library/Python/3.8/lib/python/site-packages/IPython/core/events.py:89: UserWarning: Glyph 46020 (\\N{HANGUL SYLLABLE DO}) missing from current font.\n",
      "  func(*args, **kwargs)\n",
      "/Users/chulwonchae/Library/Python/3.8/lib/python/site-packages/IPython/core/events.py:89: UserWarning: Glyph 44552 (\\N{HANGUL SYLLABLE GEUM}) missing from current font.\n",
      "  func(*args, **kwargs)\n",
      "/Users/chulwonchae/Library/Python/3.8/lib/python/site-packages/IPython/core/events.py:89: UserWarning: Glyph 50529 (\\N{HANGUL SYLLABLE AEG}) missing from current font.\n",
      "  func(*args, **kwargs)\n",
      "/Users/chulwonchae/Library/Python/3.8/lib/python/site-packages/IPython/core/pylabtools.py:151: UserWarning: Glyph 51665 (\\N{HANGUL SYLLABLE JIB}) missing from current font.\n",
      "  fig.canvas.print_figure(bytes_io, **kw)\n",
      "/Users/chulwonchae/Library/Python/3.8/lib/python/site-packages/IPython/core/pylabtools.py:151: UserWarning: Glyph 54665 (\\N{HANGUL SYLLABLE HAENG}) missing from current font.\n",
      "  fig.canvas.print_figure(bytes_io, **kw)\n",
      "/Users/chulwonchae/Library/Python/3.8/lib/python/site-packages/IPython/core/pylabtools.py:151: UserWarning: Glyph 50900 (\\N{HANGUL SYLLABLE WEOL}) missing from current font.\n",
      "  fig.canvas.print_figure(bytes_io, **kw)\n",
      "/Users/chulwonchae/Library/Python/3.8/lib/python/site-packages/IPython/core/pylabtools.py:151: UserWarning: Glyph 50672 (\\N{HANGUL SYLLABLE YEON}) missing from current font.\n",
      "  fig.canvas.print_figure(bytes_io, **kw)\n",
      "/Users/chulwonchae/Library/Python/3.8/lib/python/site-packages/IPython/core/pylabtools.py:151: UserWarning: Glyph 46020 (\\N{HANGUL SYLLABLE DO}) missing from current font.\n",
      "  fig.canvas.print_figure(bytes_io, **kw)\n",
      "/Users/chulwonchae/Library/Python/3.8/lib/python/site-packages/IPython/core/pylabtools.py:151: UserWarning: Glyph 44552 (\\N{HANGUL SYLLABLE GEUM}) missing from current font.\n",
      "  fig.canvas.print_figure(bytes_io, **kw)\n",
      "/Users/chulwonchae/Library/Python/3.8/lib/python/site-packages/IPython/core/pylabtools.py:151: UserWarning: Glyph 50529 (\\N{HANGUL SYLLABLE AEG}) missing from current font.\n",
      "  fig.canvas.print_figure(bytes_io, **kw)\n"
     ]
    },
    {
     "data": {
      "image/png": "[encoded data removed]",
      "text/plain": [
       "<Figure size 640x480 with 1 Axes>"
      ]
     },
     "metadata": {},
     "output_type": "display_data"
    }
   ],
   "source": [
    "pivot_month.plot.barh()"
   ]
  },
  {
   "cell_type": "code",
   "execution_count": null,
   "metadata": {},
   "outputs": [],
   "source": []
  }
 ],
 "metadata": {
  "kernelspec": {
   "display_name": "Python 3.8.7 64-bit",
   "language": "python",
   "name": "python3"
  },
  "language_info": {
   "codemirror_mode": {
    "name": "ipython",
    "version": 3
   },
   "file_extension": ".py",
   "mimetype": "text/x-python",
   "name": "python",
   "nbconvert_exporter": "python",
   "pygments_lexer": "ipython3",
   "version": "3.8.7"
  },
  "orig_nbformat": 4,
  "vscode": {
   "interpreter": {
    "hash": "aee8b7b246df8f9039afb4144a1f6fd8d2ca17a180786b69acc140d282b71a49"
   }
  }
 },
 "nbformat": 4,
 "nbformat_minor": 2
}
