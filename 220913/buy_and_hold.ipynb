{
 "cells": [
  {
   "cell_type": "code",
   "execution_count": 1,
   "metadata": {},
   "outputs": [],
   "source": [
    "import pandas as pd\n",
    "import numpy as np"
   ]
  },
  {
   "cell_type": "code",
   "execution_count": 2,
   "metadata": {},
   "outputs": [
    {
     "data": {
      "text/html": [
       "<div>\n",
       "<style scoped>\n",
       "    .dataframe tbody tr th:only-of-type {\n",
       "        vertical-align: middle;\n",
       "    }\n",
       "\n",
       "    .dataframe tbody tr th {\n",
       "        vertical-align: top;\n",
       "    }\n",
       "\n",
       "    .dataframe thead th {\n",
       "        text-align: right;\n",
       "    }\n",
       "</style>\n",
       "<table border=\"1\" class=\"dataframe\">\n",
       "  <thead>\n",
       "    <tr style=\"text-align: right;\">\n",
       "      <th></th>\n",
       "      <th>Open</th>\n",
       "      <th>High</th>\n",
       "      <th>Low</th>\n",
       "      <th>Close</th>\n",
       "      <th>Adj Close</th>\n",
       "      <th>Volume</th>\n",
       "    </tr>\n",
       "    <tr>\n",
       "      <th>Date</th>\n",
       "      <th></th>\n",
       "      <th></th>\n",
       "      <th></th>\n",
       "      <th></th>\n",
       "      <th></th>\n",
       "      <th></th>\n",
       "    </tr>\n",
       "  </thead>\n",
       "  <tbody>\n",
       "    <tr>\n",
       "      <th>1980-12-12</th>\n",
       "      <td>0.513393</td>\n",
       "      <td>0.515625</td>\n",
       "      <td>0.513393</td>\n",
       "      <td>0.513393</td>\n",
       "      <td>0.410525</td>\n",
       "      <td>117258400.0</td>\n",
       "    </tr>\n",
       "    <tr>\n",
       "      <th>1980-12-15</th>\n",
       "      <td>0.488839</td>\n",
       "      <td>0.488839</td>\n",
       "      <td>0.486607</td>\n",
       "      <td>0.486607</td>\n",
       "      <td>0.389106</td>\n",
       "      <td>43971200.0</td>\n",
       "    </tr>\n",
       "  </tbody>\n",
       "</table>\n",
       "</div>"
      ],
      "text/plain": [
       "                Open      High       Low     Close  Adj Close       Volume\n",
       "Date                                                                      \n",
       "1980-12-12  0.513393  0.515625  0.513393  0.513393   0.410525  117258400.0\n",
       "1980-12-15  0.488839  0.488839  0.486607  0.486607   0.389106   43971200.0"
      ]
     },
     "execution_count": 2,
     "metadata": {},
     "output_type": "execute_result"
    }
   ],
   "source": [
    "df = pd.read_csv(\"../csv/AAPL.csv\", index_col = \"Date\")\n",
    "df.head(2)"
   ]
  },
  {
   "cell_type": "code",
   "execution_count": 3,
   "metadata": {},
   "outputs": [
    {
     "data": {
      "text/html": [
       "<div>\n",
       "<style scoped>\n",
       "    .dataframe tbody tr th:only-of-type {\n",
       "        vertical-align: middle;\n",
       "    }\n",
       "\n",
       "    .dataframe tbody tr th {\n",
       "        vertical-align: top;\n",
       "    }\n",
       "\n",
       "    .dataframe thead th {\n",
       "        text-align: right;\n",
       "    }\n",
       "</style>\n",
       "<table border=\"1\" class=\"dataframe\">\n",
       "  <thead>\n",
       "    <tr style=\"text-align: right;\">\n",
       "      <th></th>\n",
       "      <th>Open</th>\n",
       "      <th>High</th>\n",
       "      <th>Low</th>\n",
       "      <th>Close</th>\n",
       "      <th>Adj Close</th>\n",
       "      <th>Volume</th>\n",
       "    </tr>\n",
       "    <tr>\n",
       "      <th>Date</th>\n",
       "      <th></th>\n",
       "      <th></th>\n",
       "      <th></th>\n",
       "      <th></th>\n",
       "      <th></th>\n",
       "      <th></th>\n",
       "    </tr>\n",
       "  </thead>\n",
       "  <tbody>\n",
       "    <tr>\n",
       "      <th>1981-08-10</th>\n",
       "      <td>NaN</td>\n",
       "      <td>NaN</td>\n",
       "      <td>NaN</td>\n",
       "      <td>NaN</td>\n",
       "      <td>NaN</td>\n",
       "      <td>NaN</td>\n",
       "    </tr>\n",
       "    <tr>\n",
       "      <th>1981-08-21</th>\n",
       "      <td>0.363839</td>\n",
       "      <td>0.363839</td>\n",
       "      <td>0.359375</td>\n",
       "      <td>0.359375</td>\n",
       "      <td>0.287367</td>\n",
       "      <td>NaN</td>\n",
       "    </tr>\n",
       "  </tbody>\n",
       "</table>\n",
       "</div>"
      ],
      "text/plain": [
       "                Open      High       Low     Close  Adj Close  Volume\n",
       "Date                                                                 \n",
       "1981-08-10       NaN       NaN       NaN       NaN        NaN     NaN\n",
       "1981-08-21  0.363839  0.363839  0.359375  0.359375   0.287367     NaN"
      ]
     },
     "execution_count": 3,
     "metadata": {},
     "output_type": "execute_result"
    }
   ],
   "source": [
    "#결측치 조회(NaN, 음의 무한대, 양의 무한대)\n",
    "df[df.isin([np.nan, np.inf, -np.inf]).any(1)]"
   ]
  },
  {
   "cell_type": "code",
   "execution_count": 5,
   "metadata": {},
   "outputs": [
    {
     "data": {
      "text/html": [
       "<div>\n",
       "<style scoped>\n",
       "    .dataframe tbody tr th:only-of-type {\n",
       "        vertical-align: middle;\n",
       "    }\n",
       "\n",
       "    .dataframe tbody tr th {\n",
       "        vertical-align: top;\n",
       "    }\n",
       "\n",
       "    .dataframe thead th {\n",
       "        text-align: right;\n",
       "    }\n",
       "</style>\n",
       "<table border=\"1\" class=\"dataframe\">\n",
       "  <thead>\n",
       "    <tr style=\"text-align: right;\">\n",
       "      <th></th>\n",
       "      <th>Open</th>\n",
       "      <th>High</th>\n",
       "      <th>Low</th>\n",
       "      <th>Close</th>\n",
       "      <th>Adj Close</th>\n",
       "      <th>Volume</th>\n",
       "    </tr>\n",
       "    <tr>\n",
       "      <th>Date</th>\n",
       "      <th></th>\n",
       "      <th></th>\n",
       "      <th></th>\n",
       "      <th></th>\n",
       "      <th></th>\n",
       "      <th></th>\n",
       "    </tr>\n",
       "  </thead>\n",
       "  <tbody>\n",
       "    <tr>\n",
       "      <th>1980-12-12</th>\n",
       "      <td>0.513393</td>\n",
       "      <td>0.515625</td>\n",
       "      <td>0.513393</td>\n",
       "      <td>0.513393</td>\n",
       "      <td>0.410525</td>\n",
       "      <td>117258400.0</td>\n",
       "    </tr>\n",
       "    <tr>\n",
       "      <th>1980-12-15</th>\n",
       "      <td>0.488839</td>\n",
       "      <td>0.488839</td>\n",
       "      <td>0.486607</td>\n",
       "      <td>0.486607</td>\n",
       "      <td>0.389106</td>\n",
       "      <td>43971200.0</td>\n",
       "    </tr>\n",
       "    <tr>\n",
       "      <th>1980-12-16</th>\n",
       "      <td>0.453125</td>\n",
       "      <td>0.453125</td>\n",
       "      <td>0.450893</td>\n",
       "      <td>0.450893</td>\n",
       "      <td>0.360548</td>\n",
       "      <td>26432000.0</td>\n",
       "    </tr>\n",
       "    <tr>\n",
       "      <th>1980-12-17</th>\n",
       "      <td>0.462054</td>\n",
       "      <td>0.464286</td>\n",
       "      <td>0.462054</td>\n",
       "      <td>0.462054</td>\n",
       "      <td>0.369472</td>\n",
       "      <td>21610400.0</td>\n",
       "    </tr>\n",
       "    <tr>\n",
       "      <th>1980-12-18</th>\n",
       "      <td>0.475446</td>\n",
       "      <td>0.477679</td>\n",
       "      <td>0.475446</td>\n",
       "      <td>0.475446</td>\n",
       "      <td>0.380182</td>\n",
       "      <td>18362400.0</td>\n",
       "    </tr>\n",
       "    <tr>\n",
       "      <th>...</th>\n",
       "      <td>...</td>\n",
       "      <td>...</td>\n",
       "      <td>...</td>\n",
       "      <td>...</td>\n",
       "      <td>...</td>\n",
       "      <td>...</td>\n",
       "    </tr>\n",
       "    <tr>\n",
       "      <th>2019-06-18</th>\n",
       "      <td>196.050003</td>\n",
       "      <td>200.289993</td>\n",
       "      <td>195.210007</td>\n",
       "      <td>198.449997</td>\n",
       "      <td>198.449997</td>\n",
       "      <td>26551000.0</td>\n",
       "    </tr>\n",
       "    <tr>\n",
       "      <th>2019-06-19</th>\n",
       "      <td>199.679993</td>\n",
       "      <td>199.880005</td>\n",
       "      <td>197.309998</td>\n",
       "      <td>197.869995</td>\n",
       "      <td>197.869995</td>\n",
       "      <td>21124200.0</td>\n",
       "    </tr>\n",
       "    <tr>\n",
       "      <th>2019-06-20</th>\n",
       "      <td>200.369995</td>\n",
       "      <td>200.610001</td>\n",
       "      <td>198.029999</td>\n",
       "      <td>199.460007</td>\n",
       "      <td>199.460007</td>\n",
       "      <td>21514000.0</td>\n",
       "    </tr>\n",
       "    <tr>\n",
       "      <th>2019-06-21</th>\n",
       "      <td>198.800003</td>\n",
       "      <td>200.850006</td>\n",
       "      <td>198.149994</td>\n",
       "      <td>198.779999</td>\n",
       "      <td>198.779999</td>\n",
       "      <td>47735300.0</td>\n",
       "    </tr>\n",
       "    <tr>\n",
       "      <th>2019-06-24</th>\n",
       "      <td>198.539993</td>\n",
       "      <td>200.160004</td>\n",
       "      <td>198.169998</td>\n",
       "      <td>199.169998</td>\n",
       "      <td>199.169998</td>\n",
       "      <td>9025362.0</td>\n",
       "    </tr>\n",
       "  </tbody>\n",
       "</table>\n",
       "<p>9713 rows × 6 columns</p>\n",
       "</div>"
      ],
      "text/plain": [
       "                  Open        High         Low       Close   Adj Close  \\\n",
       "Date                                                                     \n",
       "1980-12-12    0.513393    0.515625    0.513393    0.513393    0.410525   \n",
       "1980-12-15    0.488839    0.488839    0.486607    0.486607    0.389106   \n",
       "1980-12-16    0.453125    0.453125    0.450893    0.450893    0.360548   \n",
       "1980-12-17    0.462054    0.464286    0.462054    0.462054    0.369472   \n",
       "1980-12-18    0.475446    0.477679    0.475446    0.475446    0.380182   \n",
       "...                ...         ...         ...         ...         ...   \n",
       "2019-06-18  196.050003  200.289993  195.210007  198.449997  198.449997   \n",
       "2019-06-19  199.679993  199.880005  197.309998  197.869995  197.869995   \n",
       "2019-06-20  200.369995  200.610001  198.029999  199.460007  199.460007   \n",
       "2019-06-21  198.800003  200.850006  198.149994  198.779999  198.779999   \n",
       "2019-06-24  198.539993  200.160004  198.169998  199.169998  199.169998   \n",
       "\n",
       "                 Volume  \n",
       "Date                     \n",
       "1980-12-12  117258400.0  \n",
       "1980-12-15   43971200.0  \n",
       "1980-12-16   26432000.0  \n",
       "1980-12-17   21610400.0  \n",
       "1980-12-18   18362400.0  \n",
       "...                 ...  \n",
       "2019-06-18   26551000.0  \n",
       "2019-06-19   21124200.0  \n",
       "2019-06-20   21514000.0  \n",
       "2019-06-21   47735300.0  \n",
       "2019-06-24    9025362.0  \n",
       "\n",
       "[9713 rows x 6 columns]"
      ]
     },
     "execution_count": 5,
     "metadata": {},
     "output_type": "execute_result"
    }
   ],
   "source": [
    "#결측치를 제외한 데이터를 출력\n",
    "#df.dropna(axis =0)\n",
    "df[~df.isin([np.nan, np.inf, -np.inf]).any(1)] # ~물결 표시는 반대."
   ]
  },
  {
   "cell_type": "code",
   "execution_count": 6,
   "metadata": {},
   "outputs": [
    {
     "data": {
      "text/html": [
       "<div>\n",
       "<style scoped>\n",
       "    .dataframe tbody tr th:only-of-type {\n",
       "        vertical-align: middle;\n",
       "    }\n",
       "\n",
       "    .dataframe tbody tr th {\n",
       "        vertical-align: top;\n",
       "    }\n",
       "\n",
       "    .dataframe thead th {\n",
       "        text-align: right;\n",
       "    }\n",
       "</style>\n",
       "<table border=\"1\" class=\"dataframe\">\n",
       "  <thead>\n",
       "    <tr style=\"text-align: right;\">\n",
       "      <th></th>\n",
       "      <th>Adj Close</th>\n",
       "    </tr>\n",
       "    <tr>\n",
       "      <th>Date</th>\n",
       "      <th></th>\n",
       "    </tr>\n",
       "  </thead>\n",
       "  <tbody>\n",
       "    <tr>\n",
       "      <th>1980-12-12</th>\n",
       "      <td>0.410525</td>\n",
       "    </tr>\n",
       "    <tr>\n",
       "      <th>1980-12-15</th>\n",
       "      <td>0.389106</td>\n",
       "    </tr>\n",
       "    <tr>\n",
       "      <th>1980-12-16</th>\n",
       "      <td>0.360548</td>\n",
       "    </tr>\n",
       "    <tr>\n",
       "      <th>1980-12-17</th>\n",
       "      <td>0.369472</td>\n",
       "    </tr>\n",
       "    <tr>\n",
       "      <th>1980-12-18</th>\n",
       "      <td>0.380182</td>\n",
       "    </tr>\n",
       "    <tr>\n",
       "      <th>...</th>\n",
       "      <td>...</td>\n",
       "    </tr>\n",
       "    <tr>\n",
       "      <th>2019-06-18</th>\n",
       "      <td>198.449997</td>\n",
       "    </tr>\n",
       "    <tr>\n",
       "      <th>2019-06-19</th>\n",
       "      <td>197.869995</td>\n",
       "    </tr>\n",
       "    <tr>\n",
       "      <th>2019-06-20</th>\n",
       "      <td>199.460007</td>\n",
       "    </tr>\n",
       "    <tr>\n",
       "      <th>2019-06-21</th>\n",
       "      <td>198.779999</td>\n",
       "    </tr>\n",
       "    <tr>\n",
       "      <th>2019-06-24</th>\n",
       "      <td>199.169998</td>\n",
       "    </tr>\n",
       "  </tbody>\n",
       "</table>\n",
       "<p>9715 rows × 1 columns</p>\n",
       "</div>"
      ],
      "text/plain": [
       "             Adj Close\n",
       "Date                  \n",
       "1980-12-12    0.410525\n",
       "1980-12-15    0.389106\n",
       "1980-12-16    0.360548\n",
       "1980-12-17    0.369472\n",
       "1980-12-18    0.380182\n",
       "...                ...\n",
       "2019-06-18  198.449997\n",
       "2019-06-19  197.869995\n",
       "2019-06-20  199.460007\n",
       "2019-06-21  198.779999\n",
       "2019-06-24  199.169998\n",
       "\n",
       "[9715 rows x 1 columns]"
      ]
     },
     "execution_count": 6,
     "metadata": {},
     "output_type": "execute_result"
    }
   ],
   "source": [
    "#종가만 가지고 테스트\n",
    "#시간과 종가만 있는 데이터 프레임\n",
    "price_df = df.loc[:,[\"Adj Close\"]]\n",
    "price_df"
   ]
  },
  {
   "cell_type": "code",
   "execution_count": 7,
   "metadata": {},
   "outputs": [
    {
     "data": {
      "text/plain": [
       "<AxesSubplot:xlabel='Date'>"
      ]
     },
     "execution_count": 7,
     "metadata": {},
     "output_type": "execute_result"
    },
    {
     "data": {
      "image/png": "[encoded data removed]",
      "text/plain": [
       "<Figure size 640x480 with 1 Axes>"
      ]
     },
     "metadata": {},
     "output_type": "display_data"
    }
   ],
   "source": [
    "price_df.plot()"
   ]
  },
  {
   "cell_type": "code",
   "execution_count": 12,
   "metadata": {},
   "outputs": [
    {
     "data": {
      "text/html": [
       "<div>\n",
       "<style scoped>\n",
       "    .dataframe tbody tr th:only-of-type {\n",
       "        vertical-align: middle;\n",
       "    }\n",
       "\n",
       "    .dataframe tbody tr th {\n",
       "        vertical-align: top;\n",
       "    }\n",
       "\n",
       "    .dataframe thead th {\n",
       "        text-align: right;\n",
       "    }\n",
       "</style>\n",
       "<table border=\"1\" class=\"dataframe\">\n",
       "  <thead>\n",
       "    <tr style=\"text-align: right;\">\n",
       "      <th></th>\n",
       "      <th>Adj Close</th>\n",
       "      <th>daily_rtn</th>\n",
       "    </tr>\n",
       "    <tr>\n",
       "      <th>Date</th>\n",
       "      <th></th>\n",
       "      <th></th>\n",
       "    </tr>\n",
       "  </thead>\n",
       "  <tbody>\n",
       "    <tr>\n",
       "      <th>1980-12-12</th>\n",
       "      <td>0.410525</td>\n",
       "      <td>NaN</td>\n",
       "    </tr>\n",
       "    <tr>\n",
       "      <th>1980-12-15</th>\n",
       "      <td>0.389106</td>\n",
       "      <td>-0.052175</td>\n",
       "    </tr>\n",
       "    <tr>\n",
       "      <th>1980-12-16</th>\n",
       "      <td>0.360548</td>\n",
       "      <td>-0.073394</td>\n",
       "    </tr>\n",
       "    <tr>\n",
       "      <th>1980-12-17</th>\n",
       "      <td>0.369472</td>\n",
       "      <td>0.024751</td>\n",
       "    </tr>\n",
       "    <tr>\n",
       "      <th>1980-12-18</th>\n",
       "      <td>0.380182</td>\n",
       "      <td>0.028987</td>\n",
       "    </tr>\n",
       "  </tbody>\n",
       "</table>\n",
       "</div>"
      ],
      "text/plain": [
       "            Adj Close  daily_rtn\n",
       "Date                            \n",
       "1980-12-12   0.410525        NaN\n",
       "1980-12-15   0.389106  -0.052175\n",
       "1980-12-16   0.360548  -0.073394\n",
       "1980-12-17   0.369472   0.024751\n",
       "1980-12-18   0.380182   0.028987"
      ]
     },
     "execution_count": 12,
     "metadata": {},
     "output_type": "execute_result"
    }
   ],
   "source": [
    "##일별 수익율, 파생변수 생성 = (오늘날짜의 종가 - 어제 날짜의 종가) / 어제 날짜의 종가\n",
    "#price_df[\"daily_rtn\"] = price_df[\"Adj Close\"].diff()/price_df[\"Adj Close\"].shift()\n",
    "\n",
    "price_df[\"daily_rtn\"] = price_df[\"Adj Close\"].pct_change()\n",
    "price_df.head()"
   ]
  },
  {
   "cell_type": "code",
   "execution_count": 11,
   "metadata": {},
   "outputs": [
    {
     "data": {
      "text/plain": [
       "Date\n",
       "1980-12-12         NaN\n",
       "1980-12-15   -0.052175\n",
       "1980-12-16   -0.073394\n",
       "1980-12-17    0.024751\n",
       "1980-12-18    0.028987\n",
       "                ...   \n",
       "2019-06-18    0.023518\n",
       "2019-06-19   -0.002923\n",
       "2019-06-20    0.008036\n",
       "2019-06-21   -0.003409\n",
       "2019-06-24    0.001962\n",
       "Name: daily_rtn, Length: 9715, dtype: float64"
      ]
     },
     "execution_count": 11,
     "metadata": {},
     "output_type": "execute_result"
    }
   ],
   "source": [
    "price_df[\"daily_rtn\"] "
   ]
  },
  {
   "cell_type": "code",
   "execution_count": 15,
   "metadata": {},
   "outputs": [
    {
     "data": {
      "text/html": [
       "<div>\n",
       "<style scoped>\n",
       "    .dataframe tbody tr th:only-of-type {\n",
       "        vertical-align: middle;\n",
       "    }\n",
       "\n",
       "    .dataframe tbody tr th {\n",
       "        vertical-align: top;\n",
       "    }\n",
       "\n",
       "    .dataframe thead th {\n",
       "        text-align: right;\n",
       "    }\n",
       "</style>\n",
       "<table border=\"1\" class=\"dataframe\">\n",
       "  <thead>\n",
       "    <tr style=\"text-align: right;\">\n",
       "      <th></th>\n",
       "      <th>Adj Close</th>\n",
       "      <th>daily_rtn</th>\n",
       "      <th>st_rtn</th>\n",
       "    </tr>\n",
       "    <tr>\n",
       "      <th>Date</th>\n",
       "      <th></th>\n",
       "      <th></th>\n",
       "      <th></th>\n",
       "    </tr>\n",
       "  </thead>\n",
       "  <tbody>\n",
       "    <tr>\n",
       "      <th>2019-06-18</th>\n",
       "      <td>198.449997</td>\n",
       "      <td>0.023518</td>\n",
       "      <td>483.405388</td>\n",
       "    </tr>\n",
       "    <tr>\n",
       "      <th>2019-06-19</th>\n",
       "      <td>197.869995</td>\n",
       "      <td>-0.002923</td>\n",
       "      <td>481.992558</td>\n",
       "    </tr>\n",
       "    <tr>\n",
       "      <th>2019-06-20</th>\n",
       "      <td>199.460007</td>\n",
       "      <td>0.008036</td>\n",
       "      <td>485.865677</td>\n",
       "    </tr>\n",
       "    <tr>\n",
       "      <th>2019-06-21</th>\n",
       "      <td>198.779999</td>\n",
       "      <td>-0.003409</td>\n",
       "      <td>484.209242</td>\n",
       "    </tr>\n",
       "    <tr>\n",
       "      <th>2019-06-24</th>\n",
       "      <td>199.169998</td>\n",
       "      <td>0.001962</td>\n",
       "      <td>485.159242</td>\n",
       "    </tr>\n",
       "  </tbody>\n",
       "</table>\n",
       "</div>"
      ],
      "text/plain": [
       "             Adj Close  daily_rtn      st_rtn\n",
       "Date                                         \n",
       "2019-06-18  198.449997   0.023518  483.405388\n",
       "2019-06-19  197.869995  -0.002923  481.992558\n",
       "2019-06-20  199.460007   0.008036  485.865677\n",
       "2019-06-21  198.779999  -0.003409  484.209242\n",
       "2019-06-24  199.169998   0.001962  485.159242"
      ]
     },
     "execution_count": 15,
     "metadata": {},
     "output_type": "execute_result"
    }
   ],
   "source": [
    "##일별 수익율의 누적곱 확인\n",
    "price_df['st_rtn'] = (1+ price_df[\"daily_rtn\"]).cumprod()\n",
    "price_df.head()\n",
    "price_df.tail()"
   ]
  },
  {
   "cell_type": "code",
   "execution_count": 17,
   "metadata": {},
   "outputs": [],
   "source": [
    "first_date = price_df.index[0]\n",
    "last_date = price_df.index[-1]"
   ]
  },
  {
   "cell_type": "code",
   "execution_count": 18,
   "metadata": {},
   "outputs": [
    {
     "name": "stdout",
     "output_type": "stream",
     "text": [
      "1980-12-12 2019-06-24\n"
     ]
    }
   ],
   "source": [
    "print(first_date,last_date)"
   ]
  },
  {
   "cell_type": "code",
   "execution_count": 19,
   "metadata": {},
   "outputs": [
    {
     "name": "stdout",
     "output_type": "stream",
     "text": [
      "485.15924243346933\n"
     ]
    }
   ],
   "source": [
    "print(price_df.loc[last_date,'Adj Close']/price_df.loc[first_date,'Adj Close'])"
   ]
  },
  {
   "cell_type": "code",
   "execution_count": 20,
   "metadata": {},
   "outputs": [
    {
     "name": "stdout",
     "output_type": "stream",
     "text": [
      "485.1592424334637\n"
     ]
    }
   ],
   "source": [
    "print(price_df.loc[last_date,'st_rtn'])"
   ]
  },
  {
   "cell_type": "code",
   "execution_count": 22,
   "metadata": {},
   "outputs": [
    {
     "data": {
      "text/plain": [
       "<AxesSubplot:xlabel='Date'>"
      ]
     },
     "execution_count": 22,
     "metadata": {},
     "output_type": "execute_result"
    },
    {
     "data": {
      "image/png": "[encoded data removed]",
      "text/plain": [
       "<Figure size 640x480 with 1 Axes>"
      ]
     },
     "metadata": {},
     "output_type": "display_data"
    }
   ],
   "source": [
    "#backtesting\n",
    "#cummax() - 종가에서 최고가 저장\n",
    "#cummin() - 최대 하락\n",
    "historical_max = price_df[\"Adj Close\"].cummax()\n",
    "daily_drawdown = price_df[\"Adj Close\"]/historical_max - 1.0\n",
    "historical_min = daily_drawdown.cummin()\n",
    "historical_min.plot()"
   ]
  },
  {
   "cell_type": "code",
   "execution_count": 23,
   "metadata": {},
   "outputs": [
    {
     "data": {
      "text/plain": [
       "Date\n",
       "1980-12-12      0.410525\n",
       "1980-12-15      0.410525\n",
       "1980-12-16      0.410525\n",
       "1980-12-17      0.410525\n",
       "1980-12-18      0.410525\n",
       "                 ...    \n",
       "2019-06-18    229.392090\n",
       "2019-06-19    229.392090\n",
       "2019-06-20    229.392090\n",
       "2019-06-21    229.392090\n",
       "2019-06-24    229.392090\n",
       "Name: Adj Close, Length: 9715, dtype: float64"
      ]
     },
     "execution_count": 23,
     "metadata": {},
     "output_type": "execute_result"
    }
   ],
   "source": [
    "historical_max"
   ]
  },
  {
   "cell_type": "code",
   "execution_count": 24,
   "metadata": {},
   "outputs": [
    {
     "data": {
      "text/plain": [
       "Date\n",
       "1980-12-12    0.000000\n",
       "1980-12-15   -0.052175\n",
       "1980-12-16   -0.121739\n",
       "1980-12-17   -0.121739\n",
       "1980-12-18   -0.121739\n",
       "                ...   \n",
       "2019-06-18   -0.818015\n",
       "2019-06-19   -0.818015\n",
       "2019-06-20   -0.818015\n",
       "2019-06-21   -0.818015\n",
       "2019-06-24   -0.818015\n",
       "Name: Adj Close, Length: 9715, dtype: float64"
      ]
     },
     "execution_count": 24,
     "metadata": {},
     "output_type": "execute_result"
    }
   ],
   "source": [
    "historical_min"
   ]
  },
  {
   "cell_type": "code",
   "execution_count": 25,
   "metadata": {},
   "outputs": [],
   "source": [
    "## CAGR : 일별 date 사용 -> 전체연도를 계산하는 경우 전체 데이터의 기간을 252영업일 기준으로 나눈 역수를 제곱한 후 -1 \n",
    "        ## 예를 들어 2020년 154억원에서 2025년 254억으로 성장 할 것이다.   = (254/154) ^ (1.5) -1 = 10.5%   즉 2021년에는 154 * 1+(10.5%) = 170억 예상\n",
    "## MDD : 최대 낙폭\n",
    "## VOL : 연 주가 수익률 표준 편차 = 일별 주가 수익률 * 252일 제곱근\n",
    "## sharpe : 총 위험 1단위 당 초과 수익률\n",
    "\n",
    "CAGR = price_df.loc[last_date, 'st_rtn'] ** (252/len(price_df))-1\n",
    "sharpe = np.mean(price_df[\"daily_rtn\"])/np.std(price_df[\"daily_rtn\"])*np.sqrt(252)\n",
    "VOL = np.std(price_df[\"daily_rtn\"]) * np.sqrt(252)\n",
    "MDD = historical_min.min()"
   ]
  },
  {
   "cell_type": "code",
   "execution_count": 31,
   "metadata": {},
   "outputs": [
    {
     "name": "stdout",
     "output_type": "stream",
     "text": [
      "0.45678860242516073\n",
      "CAGR:  17.4 %\n",
      "Sharpe:  0.58\n",
      "VOL:  45.68 %\n",
      "MDD:  81.8 %\n"
     ]
    }
   ],
   "source": [
    "print(VOL)\n",
    "print('CAGR: ', round(CAGR*100,2), '%')\n",
    "print('Sharpe: ', round(sharpe,2))\n",
    "print('VOL: ', round(VOL*100,2), '%')\n",
    "print('MDD: ', round(-1*MDD*100,2), '%')\n"
   ]
  },
  {
   "cell_type": "code",
   "execution_count": 45,
   "metadata": {},
   "outputs": [
    {
     "data": {
      "text/plain": [
       "<module 'buy_and_hold' from '/Users/chulwonchae/UBION/220913/buy_and_hold/__init__.py'>"
      ]
     },
     "execution_count": 45,
     "metadata": {},
     "output_type": "execute_result"
    }
   ],
   "source": [
    "import buy_and_hold as b_h\n",
    "import imp\n",
    "imp.reload(b_h)"
   ]
  },
  {
   "cell_type": "code",
   "execution_count": 46,
   "metadata": {},
   "outputs": [],
   "source": [
    "df = pd.read_csv(\"../csv/AMZN.csv\", index_col = \"Date\")"
   ]
  },
  {
   "cell_type": "code",
   "execution_count": 47,
   "metadata": {},
   "outputs": [],
   "source": [
    "#클래스 생성\n",
    "bh_df = b_h.buyandhold(df, 'Adj Close')"
   ]
  },
  {
   "cell_type": "code",
   "execution_count": 48,
   "metadata": {},
   "outputs": [
    {
     "data": {
      "text/html": [
       "<div>\n",
       "<style scoped>\n",
       "    .dataframe tbody tr th:only-of-type {\n",
       "        vertical-align: middle;\n",
       "    }\n",
       "\n",
       "    .dataframe tbody tr th {\n",
       "        vertical-align: top;\n",
       "    }\n",
       "\n",
       "    .dataframe thead th {\n",
       "        text-align: right;\n",
       "    }\n",
       "</style>\n",
       "<table border=\"1\" class=\"dataframe\">\n",
       "  <thead>\n",
       "    <tr style=\"text-align: right;\">\n",
       "      <th></th>\n",
       "      <th>Adj Close</th>\n",
       "    </tr>\n",
       "    <tr>\n",
       "      <th>Date</th>\n",
       "      <th></th>\n",
       "    </tr>\n",
       "  </thead>\n",
       "  <tbody>\n",
       "    <tr>\n",
       "      <th>1997-05-15</th>\n",
       "      <td>1.958333</td>\n",
       "    </tr>\n",
       "    <tr>\n",
       "      <th>1997-05-16</th>\n",
       "      <td>1.729167</td>\n",
       "    </tr>\n",
       "    <tr>\n",
       "      <th>1997-05-19</th>\n",
       "      <td>1.708333</td>\n",
       "    </tr>\n",
       "    <tr>\n",
       "      <th>1997-05-20</th>\n",
       "      <td>1.635417</td>\n",
       "    </tr>\n",
       "    <tr>\n",
       "      <th>1997-05-21</th>\n",
       "      <td>1.427083</td>\n",
       "    </tr>\n",
       "    <tr>\n",
       "      <th>...</th>\n",
       "      <td>...</td>\n",
       "    </tr>\n",
       "    <tr>\n",
       "      <th>2019-06-18</th>\n",
       "      <td>1901.369995</td>\n",
       "    </tr>\n",
       "    <tr>\n",
       "      <th>2019-06-19</th>\n",
       "      <td>1908.790039</td>\n",
       "    </tr>\n",
       "    <tr>\n",
       "      <th>2019-06-20</th>\n",
       "      <td>1918.189941</td>\n",
       "    </tr>\n",
       "    <tr>\n",
       "      <th>2019-06-21</th>\n",
       "      <td>1911.300049</td>\n",
       "    </tr>\n",
       "    <tr>\n",
       "      <th>2019-06-24</th>\n",
       "      <td>1907.953857</td>\n",
       "    </tr>\n",
       "  </tbody>\n",
       "</table>\n",
       "<p>5563 rows × 1 columns</p>\n",
       "</div>"
      ],
      "text/plain": [
       "              Adj Close\n",
       "Date                   \n",
       "1997-05-15     1.958333\n",
       "1997-05-16     1.729167\n",
       "1997-05-19     1.708333\n",
       "1997-05-20     1.635417\n",
       "1997-05-21     1.427083\n",
       "...                 ...\n",
       "2019-06-18  1901.369995\n",
       "2019-06-19  1908.790039\n",
       "2019-06-20  1918.189941\n",
       "2019-06-21  1911.300049\n",
       "2019-06-24  1907.953857\n",
       "\n",
       "[5563 rows x 1 columns]"
      ]
     },
     "execution_count": 48,
     "metadata": {},
     "output_type": "execute_result"
    }
   ],
   "source": [
    "bh_df.drop_na()"
   ]
  },
  {
   "cell_type": "code",
   "execution_count": 49,
   "metadata": {},
   "outputs": [
    {
     "data": {
      "text/html": [
       "<div>\n",
       "<style scoped>\n",
       "    .dataframe tbody tr th:only-of-type {\n",
       "        vertical-align: middle;\n",
       "    }\n",
       "\n",
       "    .dataframe tbody tr th {\n",
       "        vertical-align: top;\n",
       "    }\n",
       "\n",
       "    .dataframe thead th {\n",
       "        text-align: right;\n",
       "    }\n",
       "</style>\n",
       "<table border=\"1\" class=\"dataframe\">\n",
       "  <thead>\n",
       "    <tr style=\"text-align: right;\">\n",
       "      <th></th>\n",
       "      <th>Adj Close</th>\n",
       "      <th>daily_rtn</th>\n",
       "      <th>st_rtn</th>\n",
       "    </tr>\n",
       "    <tr>\n",
       "      <th>Date</th>\n",
       "      <th></th>\n",
       "      <th></th>\n",
       "      <th></th>\n",
       "    </tr>\n",
       "  </thead>\n",
       "  <tbody>\n",
       "    <tr>\n",
       "      <th>1997-05-15</th>\n",
       "      <td>1.958333</td>\n",
       "      <td>NaN</td>\n",
       "      <td>NaN</td>\n",
       "    </tr>\n",
       "    <tr>\n",
       "      <th>1997-05-16</th>\n",
       "      <td>1.729167</td>\n",
       "      <td>-0.117021</td>\n",
       "      <td>0.882979</td>\n",
       "    </tr>\n",
       "    <tr>\n",
       "      <th>1997-05-19</th>\n",
       "      <td>1.708333</td>\n",
       "      <td>-0.012049</td>\n",
       "      <td>0.872340</td>\n",
       "    </tr>\n",
       "    <tr>\n",
       "      <th>1997-05-20</th>\n",
       "      <td>1.635417</td>\n",
       "      <td>-0.042683</td>\n",
       "      <td>0.835107</td>\n",
       "    </tr>\n",
       "    <tr>\n",
       "      <th>1997-05-21</th>\n",
       "      <td>1.427083</td>\n",
       "      <td>-0.127389</td>\n",
       "      <td>0.728723</td>\n",
       "    </tr>\n",
       "    <tr>\n",
       "      <th>...</th>\n",
       "      <td>...</td>\n",
       "      <td>...</td>\n",
       "      <td>...</td>\n",
       "    </tr>\n",
       "    <tr>\n",
       "      <th>2019-06-18</th>\n",
       "      <td>1901.369995</td>\n",
       "      <td>0.008133</td>\n",
       "      <td>970.912503</td>\n",
       "    </tr>\n",
       "    <tr>\n",
       "      <th>2019-06-19</th>\n",
       "      <td>1908.790039</td>\n",
       "      <td>0.003902</td>\n",
       "      <td>974.701462</td>\n",
       "    </tr>\n",
       "    <tr>\n",
       "      <th>2019-06-20</th>\n",
       "      <td>1918.189941</td>\n",
       "      <td>0.004925</td>\n",
       "      <td>979.501413</td>\n",
       "    </tr>\n",
       "    <tr>\n",
       "      <th>2019-06-21</th>\n",
       "      <td>1911.300049</td>\n",
       "      <td>-0.003592</td>\n",
       "      <td>975.983170</td>\n",
       "    </tr>\n",
       "    <tr>\n",
       "      <th>2019-06-24</th>\n",
       "      <td>1907.953857</td>\n",
       "      <td>-0.001751</td>\n",
       "      <td>974.274476</td>\n",
       "    </tr>\n",
       "  </tbody>\n",
       "</table>\n",
       "<p>5563 rows × 3 columns</p>\n",
       "</div>"
      ],
      "text/plain": [
       "              Adj Close  daily_rtn      st_rtn\n",
       "Date                                          \n",
       "1997-05-15     1.958333        NaN         NaN\n",
       "1997-05-16     1.729167  -0.117021    0.882979\n",
       "1997-05-19     1.708333  -0.012049    0.872340\n",
       "1997-05-20     1.635417  -0.042683    0.835107\n",
       "1997-05-21     1.427083  -0.127389    0.728723\n",
       "...                 ...        ...         ...\n",
       "2019-06-18  1901.369995   0.008133  970.912503\n",
       "2019-06-19  1908.790039   0.003902  974.701462\n",
       "2019-06-20  1918.189941   0.004925  979.501413\n",
       "2019-06-21  1911.300049  -0.003592  975.983170\n",
       "2019-06-24  1907.953857  -0.001751  974.274476\n",
       "\n",
       "[5563 rows x 3 columns]"
      ]
     },
     "execution_count": 49,
     "metadata": {},
     "output_type": "execute_result"
    }
   ],
   "source": [
    "# 파생변수 생성 함수 add_column\n",
    "bh_df.add_column()"
   ]
  },
  {
   "cell_type": "code",
   "execution_count": 50,
   "metadata": {},
   "outputs": [
    {
     "data": {
      "text/plain": [
       "[0.365793900198663, 0.8136327617304074, 0.6008984712355606, -0.944042179261863]"
      ]
     },
     "execution_count": 50,
     "metadata": {},
     "output_type": "execute_result"
    }
   ],
   "source": [
    "bh_df.testing()"
   ]
  },
  {
   "cell_type": "code",
   "execution_count": 51,
   "metadata": {},
   "outputs": [],
   "source": [
    "result = bh_df.testing()"
   ]
  },
  {
   "cell_type": "code",
   "execution_count": 53,
   "metadata": {},
   "outputs": [
    {
     "name": "stdout",
     "output_type": "stream",
     "text": [
      "CAGR:  36.58 %\n",
      "Sharpe:  0.81\n",
      "VOL:  60.09 %\n",
      "MDD:  94.4 %\n"
     ]
    }
   ],
   "source": [
    "CAGR = result[0]\n",
    "sharpe = result[1]\n",
    "VOL = result[2]\n",
    "MDD = result[3]\n",
    "\n",
    "\n",
    "print('CAGR: ', round(CAGR*100,2), '%')\n",
    "print('Sharpe: ', round(sharpe,2))\n",
    "print('VOL: ', round(VOL*100,2), '%')\n",
    "print('MDD: ', round(-1*MDD*100,2), '%')"
   ]
  },
  {
   "cell_type": "code",
   "execution_count": 55,
   "metadata": {},
   "outputs": [
    {
     "name": "stdout",
     "output_type": "stream",
     "text": [
      "Collecting finance-datareader\n",
      "  Downloading finance_datareader-0.9.34-py3-none-any.whl (17 kB)\n",
      "Collecting requests-file\n",
      "  Downloading requests_file-1.5.1-py2.py3-none-any.whl (3.7 kB)\n",
      "Collecting tqdm\n",
      "  Downloading tqdm-4.64.1-py2.py3-none-any.whl (78 kB)\n",
      "\u001b[K     |████████████████████████████████| 78 kB 10.3 MB/s eta 0:00:01\n",
      "\u001b[?25hRequirement already satisfied: lxml in /Users/chulwonchae/Library/Python/3.8/lib/python/site-packages (from finance-datareader) (4.9.1)\n",
      "Requirement already satisfied: pandas>=0.19.2 in /Library/Frameworks/Python.framework/Versions/3.8/lib/python3.8/site-packages (from finance-datareader) (1.4.3)\n",
      "Requirement already satisfied: requests>=2.3.0 in /Library/Frameworks/Python.framework/Versions/3.8/lib/python3.8/site-packages (from finance-datareader) (2.28.1)\n",
      "Requirement already satisfied: six in /Library/Frameworks/Python.framework/Versions/3.8/lib/python3.8/site-packages (from requests-file->finance-datareader) (1.16.0)\n",
      "Requirement already satisfied: python-dateutil>=2.8.1 in /Users/chulwonchae/Library/Python/3.8/lib/python/site-packages (from pandas>=0.19.2->finance-datareader) (2.8.2)\n",
      "Requirement already satisfied: pytz>=2020.1 in /Library/Frameworks/Python.framework/Versions/3.8/lib/python3.8/site-packages (from pandas>=0.19.2->finance-datareader) (2022.2.1)\n",
      "Requirement already satisfied: numpy>=1.18.5; platform_machine != \"aarch64\" and platform_machine != \"arm64\" and python_version < \"3.10\" in /Library/Frameworks/Python.framework/Versions/3.8/lib/python3.8/site-packages (from pandas>=0.19.2->finance-datareader) (1.23.2)\n",
      "Requirement already satisfied: idna<4,>=2.5 in /Library/Frameworks/Python.framework/Versions/3.8/lib/python3.8/site-packages (from requests>=2.3.0->finance-datareader) (3.3)\n",
      "Requirement already satisfied: urllib3<1.27,>=1.21.1 in /Library/Frameworks/Python.framework/Versions/3.8/lib/python3.8/site-packages (from requests>=2.3.0->finance-datareader) (1.26.12)\n",
      "Requirement already satisfied: charset-normalizer<3,>=2 in /Library/Frameworks/Python.framework/Versions/3.8/lib/python3.8/site-packages (from requests>=2.3.0->finance-datareader) (2.1.1)\n",
      "Requirement already satisfied: certifi>=2017.4.17 in /Library/Frameworks/Python.framework/Versions/3.8/lib/python3.8/site-packages (from requests>=2.3.0->finance-datareader) (2022.6.15)\n",
      "Installing collected packages: requests-file, tqdm, finance-datareader\n",
      "Successfully installed finance-datareader-0.9.34 requests-file-1.5.1 tqdm-4.64.1\n",
      "\u001b[33mWARNING: You are using pip version 20.2.3; however, version 22.2.2 is available.\n",
      "You should consider upgrading via the '/usr/local/bin/python3 -m pip install --upgrade pip' command.\u001b[0m\n",
      "Note: you may need to restart the kernel to use updated packages.\n"
     ]
    }
   ],
   "source": [
    "pip install finance-datareader"
   ]
  },
  {
   "cell_type": "code",
   "execution_count": 56,
   "metadata": {},
   "outputs": [
    {
     "name": "stdout",
     "output_type": "stream",
     "text": [
      "Collecting bs4\n",
      "  Downloading bs4-0.0.1.tar.gz (1.1 kB)\n",
      "Requirement already satisfied: beautifulsoup4 in /Users/chulwonchae/Library/Python/3.8/lib/python/site-packages (from bs4) (4.11.1)\n",
      "Requirement already satisfied: soupsieve>1.2 in /Users/chulwonchae/Library/Python/3.8/lib/python/site-packages (from beautifulsoup4->bs4) (2.3.2.post1)\n",
      "Using legacy 'setup.py install' for bs4, since package 'wheel' is not installed.\n",
      "Installing collected packages: bs4\n",
      "    Running setup.py install for bs4 ... \u001b[?25ldone\n",
      "\u001b[?25hSuccessfully installed bs4-0.0.1\n",
      "\u001b[33mWARNING: You are using pip version 20.2.3; however, version 22.2.2 is available.\n",
      "You should consider upgrading via the '/usr/local/bin/python3 -m pip install --upgrade pip' command.\u001b[0m\n",
      "Note: you may need to restart the kernel to use updated packages.\n"
     ]
    }
   ],
   "source": [
    "pip install bs4"
   ]
  },
  {
   "cell_type": "code",
   "execution_count": 57,
   "metadata": {},
   "outputs": [],
   "source": [
    "import FinanceDataReader as fdr"
   ]
  },
  {
   "cell_type": "code",
   "execution_count": 58,
   "metadata": {},
   "outputs": [
    {
     "data": {
      "text/html": [
       "<div>\n",
       "<style scoped>\n",
       "    .dataframe tbody tr th:only-of-type {\n",
       "        vertical-align: middle;\n",
       "    }\n",
       "\n",
       "    .dataframe tbody tr th {\n",
       "        vertical-align: top;\n",
       "    }\n",
       "\n",
       "    .dataframe thead th {\n",
       "        text-align: right;\n",
       "    }\n",
       "</style>\n",
       "<table border=\"1\" class=\"dataframe\">\n",
       "  <thead>\n",
       "    <tr style=\"text-align: right;\">\n",
       "      <th></th>\n",
       "      <th>Close</th>\n",
       "      <th>Open</th>\n",
       "      <th>High</th>\n",
       "      <th>Low</th>\n",
       "      <th>Volume</th>\n",
       "      <th>Change</th>\n",
       "    </tr>\n",
       "    <tr>\n",
       "      <th>Date</th>\n",
       "      <th></th>\n",
       "      <th></th>\n",
       "      <th></th>\n",
       "      <th></th>\n",
       "      <th></th>\n",
       "      <th></th>\n",
       "    </tr>\n",
       "  </thead>\n",
       "  <tbody>\n",
       "    <tr>\n",
       "      <th>2020-01-02</th>\n",
       "      <td>2175.17</td>\n",
       "      <td>2201.21</td>\n",
       "      <td>2202.32</td>\n",
       "      <td>2171.84</td>\n",
       "      <td>494680000.0</td>\n",
       "      <td>-0.0102</td>\n",
       "    </tr>\n",
       "    <tr>\n",
       "      <th>2020-01-03</th>\n",
       "      <td>2176.46</td>\n",
       "      <td>2192.58</td>\n",
       "      <td>2203.38</td>\n",
       "      <td>2165.39</td>\n",
       "      <td>631560000.0</td>\n",
       "      <td>0.0006</td>\n",
       "    </tr>\n",
       "    <tr>\n",
       "      <th>2020-01-06</th>\n",
       "      <td>2155.07</td>\n",
       "      <td>2154.97</td>\n",
       "      <td>2164.42</td>\n",
       "      <td>2149.95</td>\n",
       "      <td>592670000.0</td>\n",
       "      <td>-0.0098</td>\n",
       "    </tr>\n",
       "    <tr>\n",
       "      <th>2020-01-07</th>\n",
       "      <td>2175.54</td>\n",
       "      <td>2166.60</td>\n",
       "      <td>2181.62</td>\n",
       "      <td>2164.27</td>\n",
       "      <td>568240000.0</td>\n",
       "      <td>0.0095</td>\n",
       "    </tr>\n",
       "    <tr>\n",
       "      <th>2020-01-08</th>\n",
       "      <td>2151.31</td>\n",
       "      <td>2156.27</td>\n",
       "      <td>2162.32</td>\n",
       "      <td>2137.72</td>\n",
       "      <td>913830000.0</td>\n",
       "      <td>-0.0111</td>\n",
       "    </tr>\n",
       "    <tr>\n",
       "      <th>...</th>\n",
       "      <td>...</td>\n",
       "      <td>...</td>\n",
       "      <td>...</td>\n",
       "      <td>...</td>\n",
       "      <td>...</td>\n",
       "      <td>...</td>\n",
       "    </tr>\n",
       "    <tr>\n",
       "      <th>2022-09-02</th>\n",
       "      <td>2409.41</td>\n",
       "      <td>2427.70</td>\n",
       "      <td>2432.37</td>\n",
       "      <td>2402.67</td>\n",
       "      <td>391600000.0</td>\n",
       "      <td>-0.0026</td>\n",
       "    </tr>\n",
       "    <tr>\n",
       "      <th>2022-09-05</th>\n",
       "      <td>2403.68</td>\n",
       "      <td>2410.07</td>\n",
       "      <td>2424.77</td>\n",
       "      <td>2392.63</td>\n",
       "      <td>354740000.0</td>\n",
       "      <td>-0.0024</td>\n",
       "    </tr>\n",
       "    <tr>\n",
       "      <th>2022-09-06</th>\n",
       "      <td>2410.02</td>\n",
       "      <td>2409.72</td>\n",
       "      <td>2422.53</td>\n",
       "      <td>2399.26</td>\n",
       "      <td>294220000.0</td>\n",
       "      <td>0.0026</td>\n",
       "    </tr>\n",
       "    <tr>\n",
       "      <th>2022-09-07</th>\n",
       "      <td>2376.46</td>\n",
       "      <td>2395.66</td>\n",
       "      <td>2398.40</td>\n",
       "      <td>2365.35</td>\n",
       "      <td>378200000.0</td>\n",
       "      <td>-0.0139</td>\n",
       "    </tr>\n",
       "    <tr>\n",
       "      <th>2022-09-08</th>\n",
       "      <td>2384.28</td>\n",
       "      <td>2393.27</td>\n",
       "      <td>2394.06</td>\n",
       "      <td>2379.06</td>\n",
       "      <td>423620000.0</td>\n",
       "      <td>0.0033</td>\n",
       "    </tr>\n",
       "  </tbody>\n",
       "</table>\n",
       "<p>666 rows × 6 columns</p>\n",
       "</div>"
      ],
      "text/plain": [
       "              Close     Open     High      Low       Volume  Change\n",
       "Date                                                               \n",
       "2020-01-02  2175.17  2201.21  2202.32  2171.84  494680000.0 -0.0102\n",
       "2020-01-03  2176.46  2192.58  2203.38  2165.39  631560000.0  0.0006\n",
       "2020-01-06  2155.07  2154.97  2164.42  2149.95  592670000.0 -0.0098\n",
       "2020-01-07  2175.54  2166.60  2181.62  2164.27  568240000.0  0.0095\n",
       "2020-01-08  2151.31  2156.27  2162.32  2137.72  913830000.0 -0.0111\n",
       "...             ...      ...      ...      ...          ...     ...\n",
       "2022-09-02  2409.41  2427.70  2432.37  2402.67  391600000.0 -0.0026\n",
       "2022-09-05  2403.68  2410.07  2424.77  2392.63  354740000.0 -0.0024\n",
       "2022-09-06  2410.02  2409.72  2422.53  2399.26  294220000.0  0.0026\n",
       "2022-09-07  2376.46  2395.66  2398.40  2365.35  378200000.0 -0.0139\n",
       "2022-09-08  2384.28  2393.27  2394.06  2379.06  423620000.0  0.0033\n",
       "\n",
       "[666 rows x 6 columns]"
      ]
     },
     "execution_count": 58,
     "metadata": {},
     "output_type": "execute_result"
    }
   ],
   "source": [
    "ko_df = fdr.DataReader('KS11','2020-01-01','2022-09-10') # 종목코드, 시작시간, 종료시간\n",
    "ko_df"
   ]
  },
  {
   "cell_type": "code",
   "execution_count": 59,
   "metadata": {},
   "outputs": [],
   "source": [
    "bh_df_2 = b_h.buyandhold(ko_df, 'Close')"
   ]
  },
  {
   "cell_type": "code",
   "execution_count": 60,
   "metadata": {},
   "outputs": [
    {
     "data": {
      "text/html": [
       "<div>\n",
       "<style scoped>\n",
       "    .dataframe tbody tr th:only-of-type {\n",
       "        vertical-align: middle;\n",
       "    }\n",
       "\n",
       "    .dataframe tbody tr th {\n",
       "        vertical-align: top;\n",
       "    }\n",
       "\n",
       "    .dataframe thead th {\n",
       "        text-align: right;\n",
       "    }\n",
       "</style>\n",
       "<table border=\"1\" class=\"dataframe\">\n",
       "  <thead>\n",
       "    <tr style=\"text-align: right;\">\n",
       "      <th></th>\n",
       "      <th>Close</th>\n",
       "    </tr>\n",
       "    <tr>\n",
       "      <th>Date</th>\n",
       "      <th></th>\n",
       "    </tr>\n",
       "  </thead>\n",
       "  <tbody>\n",
       "    <tr>\n",
       "      <th>2020-01-02</th>\n",
       "      <td>2175.17</td>\n",
       "    </tr>\n",
       "    <tr>\n",
       "      <th>2020-01-03</th>\n",
       "      <td>2176.46</td>\n",
       "    </tr>\n",
       "    <tr>\n",
       "      <th>2020-01-06</th>\n",
       "      <td>2155.07</td>\n",
       "    </tr>\n",
       "    <tr>\n",
       "      <th>2020-01-07</th>\n",
       "      <td>2175.54</td>\n",
       "    </tr>\n",
       "    <tr>\n",
       "      <th>2020-01-08</th>\n",
       "      <td>2151.31</td>\n",
       "    </tr>\n",
       "    <tr>\n",
       "      <th>...</th>\n",
       "      <td>...</td>\n",
       "    </tr>\n",
       "    <tr>\n",
       "      <th>2022-09-02</th>\n",
       "      <td>2409.41</td>\n",
       "    </tr>\n",
       "    <tr>\n",
       "      <th>2022-09-05</th>\n",
       "      <td>2403.68</td>\n",
       "    </tr>\n",
       "    <tr>\n",
       "      <th>2022-09-06</th>\n",
       "      <td>2410.02</td>\n",
       "    </tr>\n",
       "    <tr>\n",
       "      <th>2022-09-07</th>\n",
       "      <td>2376.46</td>\n",
       "    </tr>\n",
       "    <tr>\n",
       "      <th>2022-09-08</th>\n",
       "      <td>2384.28</td>\n",
       "    </tr>\n",
       "  </tbody>\n",
       "</table>\n",
       "<p>666 rows × 1 columns</p>\n",
       "</div>"
      ],
      "text/plain": [
       "              Close\n",
       "Date               \n",
       "2020-01-02  2175.17\n",
       "2020-01-03  2176.46\n",
       "2020-01-06  2155.07\n",
       "2020-01-07  2175.54\n",
       "2020-01-08  2151.31\n",
       "...             ...\n",
       "2022-09-02  2409.41\n",
       "2022-09-05  2403.68\n",
       "2022-09-06  2410.02\n",
       "2022-09-07  2376.46\n",
       "2022-09-08  2384.28\n",
       "\n",
       "[666 rows x 1 columns]"
      ]
     },
     "execution_count": 60,
     "metadata": {},
     "output_type": "execute_result"
    }
   ],
   "source": [
    "bh_df_2.drop_na()"
   ]
  },
  {
   "cell_type": "code",
   "execution_count": 61,
   "metadata": {},
   "outputs": [
    {
     "data": {
      "text/html": [
       "<div>\n",
       "<style scoped>\n",
       "    .dataframe tbody tr th:only-of-type {\n",
       "        vertical-align: middle;\n",
       "    }\n",
       "\n",
       "    .dataframe tbody tr th {\n",
       "        vertical-align: top;\n",
       "    }\n",
       "\n",
       "    .dataframe thead th {\n",
       "        text-align: right;\n",
       "    }\n",
       "</style>\n",
       "<table border=\"1\" class=\"dataframe\">\n",
       "  <thead>\n",
       "    <tr style=\"text-align: right;\">\n",
       "      <th></th>\n",
       "      <th>Close</th>\n",
       "      <th>daily_rtn</th>\n",
       "      <th>st_rtn</th>\n",
       "    </tr>\n",
       "    <tr>\n",
       "      <th>Date</th>\n",
       "      <th></th>\n",
       "      <th></th>\n",
       "      <th></th>\n",
       "    </tr>\n",
       "  </thead>\n",
       "  <tbody>\n",
       "    <tr>\n",
       "      <th>2020-01-02</th>\n",
       "      <td>2175.17</td>\n",
       "      <td>NaN</td>\n",
       "      <td>NaN</td>\n",
       "    </tr>\n",
       "    <tr>\n",
       "      <th>2020-01-03</th>\n",
       "      <td>2176.46</td>\n",
       "      <td>0.000593</td>\n",
       "      <td>1.000593</td>\n",
       "    </tr>\n",
       "    <tr>\n",
       "      <th>2020-01-06</th>\n",
       "      <td>2155.07</td>\n",
       "      <td>-0.009828</td>\n",
       "      <td>0.990759</td>\n",
       "    </tr>\n",
       "    <tr>\n",
       "      <th>2020-01-07</th>\n",
       "      <td>2175.54</td>\n",
       "      <td>0.009499</td>\n",
       "      <td>1.000170</td>\n",
       "    </tr>\n",
       "    <tr>\n",
       "      <th>2020-01-08</th>\n",
       "      <td>2151.31</td>\n",
       "      <td>-0.011137</td>\n",
       "      <td>0.989031</td>\n",
       "    </tr>\n",
       "    <tr>\n",
       "      <th>...</th>\n",
       "      <td>...</td>\n",
       "      <td>...</td>\n",
       "      <td>...</td>\n",
       "    </tr>\n",
       "    <tr>\n",
       "      <th>2022-09-02</th>\n",
       "      <td>2409.41</td>\n",
       "      <td>-0.002567</td>\n",
       "      <td>1.107688</td>\n",
       "    </tr>\n",
       "    <tr>\n",
       "      <th>2022-09-05</th>\n",
       "      <td>2403.68</td>\n",
       "      <td>-0.002378</td>\n",
       "      <td>1.105054</td>\n",
       "    </tr>\n",
       "    <tr>\n",
       "      <th>2022-09-06</th>\n",
       "      <td>2410.02</td>\n",
       "      <td>0.002638</td>\n",
       "      <td>1.107969</td>\n",
       "    </tr>\n",
       "    <tr>\n",
       "      <th>2022-09-07</th>\n",
       "      <td>2376.46</td>\n",
       "      <td>-0.013925</td>\n",
       "      <td>1.092540</td>\n",
       "    </tr>\n",
       "    <tr>\n",
       "      <th>2022-09-08</th>\n",
       "      <td>2384.28</td>\n",
       "      <td>0.003291</td>\n",
       "      <td>1.096135</td>\n",
       "    </tr>\n",
       "  </tbody>\n",
       "</table>\n",
       "<p>666 rows × 3 columns</p>\n",
       "</div>"
      ],
      "text/plain": [
       "              Close  daily_rtn    st_rtn\n",
       "Date                                    \n",
       "2020-01-02  2175.17        NaN       NaN\n",
       "2020-01-03  2176.46   0.000593  1.000593\n",
       "2020-01-06  2155.07  -0.009828  0.990759\n",
       "2020-01-07  2175.54   0.009499  1.000170\n",
       "2020-01-08  2151.31  -0.011137  0.989031\n",
       "...             ...        ...       ...\n",
       "2022-09-02  2409.41  -0.002567  1.107688\n",
       "2022-09-05  2403.68  -0.002378  1.105054\n",
       "2022-09-06  2410.02   0.002638  1.107969\n",
       "2022-09-07  2376.46  -0.013925  1.092540\n",
       "2022-09-08  2384.28   0.003291  1.096135\n",
       "\n",
       "[666 rows x 3 columns]"
      ]
     },
     "execution_count": 61,
     "metadata": {},
     "output_type": "execute_result"
    }
   ],
   "source": [
    "bh_df_2.add_column()"
   ]
  },
  {
   "cell_type": "code",
   "execution_count": 62,
   "metadata": {},
   "outputs": [
    {
     "data": {
      "text/plain": [
       "[0.03534167310986103,\n",
       " 0.2682887239170728,\n",
       " 0.21954966989801789,\n",
       " -0.35708898445253057]"
      ]
     },
     "execution_count": 62,
     "metadata": {},
     "output_type": "execute_result"
    }
   ],
   "source": [
    "bh_df_2.testing()"
   ]
  },
  {
   "cell_type": "code",
   "execution_count": 63,
   "metadata": {},
   "outputs": [],
   "source": [
    "result = bh_df_2.testing()"
   ]
  },
  {
   "cell_type": "code",
   "execution_count": 64,
   "metadata": {},
   "outputs": [
    {
     "name": "stdout",
     "output_type": "stream",
     "text": [
      "CAGR:  3.53 %\n",
      "Sharpe:  0.27\n",
      "VOL:  21.95 %\n",
      "MDD:  35.71 %\n"
     ]
    }
   ],
   "source": [
    "CAGR = result[0]\n",
    "sharpe = result[1]\n",
    "VOL = result[2]\n",
    "MDD = result[3]\n",
    "\n",
    "\n",
    "print('CAGR: ', round(CAGR*100,2), '%')\n",
    "print('Sharpe: ', round(sharpe,2))\n",
    "print('VOL: ', round(VOL*100,2), '%')\n",
    "print('MDD: ', round(-1*MDD*100,2), '%')"
   ]
  },
  {
   "cell_type": "markdown",
   "metadata": {},
   "source": []
  },
  {
   "cell_type": "code",
   "execution_count": null,
   "metadata": {},
   "outputs": [],
   "source": []
  }
 ],
 "metadata": {
  "kernelspec": {
   "display_name": "Python 3.8.7 64-bit",
   "language": "python",
   "name": "python3"
  },
  "language_info": {
   "codemirror_mode": {
    "name": "ipython",
    "version": 3
   },
   "file_extension": ".py",
   "mimetype": "text/x-python",
   "name": "python",
   "nbconvert_exporter": "python",
   "pygments_lexer": "ipython3",
   "version": "3.8.7"
  },
  "orig_nbformat": 4,
  "vscode": {
   "interpreter": {
    "hash": "aee8b7b246df8f9039afb4144a1f6fd8d2ca17a180786b69acc140d282b71a49"
   }
  }
 },
 "nbformat": 4,
 "nbformat_minor": 2
}
