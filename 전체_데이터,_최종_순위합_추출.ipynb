{
  "nbformat": 4,
  "nbformat_minor": 0,
  "metadata": {
    "colab": {
      "provenance": [],
      "collapsed_sections": []
    },
    "kernelspec": {
      "name": "python3",
      "display_name": "Python 3"
    },
    "language_info": {
      "name": "python"
    }
  },
  "cells": [
    {
      "cell_type": "markdown",
      "source": [
        "# "
      ],
      "metadata": {
        "id": "cZ3tBw7KMDqY"
      }
    },
    {
      "cell_type": "code",
      "execution_count": null,
      "metadata": {
        "id": "VQq5XjJJ1bVX",
        "colab": {
          "base_uri": "https://localhost:8080/"
        },
        "outputId": "96ecfc01-e20c-48d6-bdad-a2857c610090"
      },
      "outputs": [
        {
          "output_type": "stream",
          "name": "stdout",
          "text": [
            "Looking in indexes: https://pypi.org/simple, https://us-python.pkg.dev/colab-wheels/public/simple/\n",
            "Requirement already satisfied: xlwt in /usr/local/lib/python3.7/dist-packages (1.3.0)\n",
            "Looking in indexes: https://pypi.org/simple, https://us-python.pkg.dev/colab-wheels/public/simple/\n",
            "Requirement already satisfied: openpyxl in /usr/local/lib/python3.7/dist-packages (3.0.10)\n",
            "Requirement already satisfied: et-xmlfile in /usr/local/lib/python3.7/dist-packages (from openpyxl) (1.1.0)\n",
            "Looking in indexes: https://pypi.org/simple, https://us-python.pkg.dev/colab-wheels/public/simple/\n",
            "Requirement already satisfied: xlrd in /usr/local/lib/python3.7/dist-packages (1.1.0)\n"
          ]
        }
      ],
      "source": [
        "!pip install xlwt\n",
        "!pip install openpyxl\n",
        "!pip install xlrd"
      ]
    },
    {
      "cell_type": "code",
      "source": [
        "import pandas as pd\n",
        "import numpy as np\n",
        "import re\n",
        "import openpyxl"
      ],
      "metadata": {
        "id": "URqMBv8r4TM2"
      },
      "execution_count": null,
      "outputs": []
    },
    {
      "cell_type": "code",
      "source": [
        "#드라이브 연결\n",
        "from google.colab import drive\n",
        "drive.mount('/content/drive')\n",
        "\n",
        "# from google.colab import files\n",
        "# file_upload = files.upload()"
      ],
      "metadata": {
        "colab": {
          "base_uri": "https://localhost:8080/"
        },
        "id": "i4W8eAUw4U9K",
        "outputId": "4dae9531-9d70-4ded-f303-af65acaca54e"
      },
      "execution_count": null,
      "outputs": [
        {
          "output_type": "stream",
          "name": "stdout",
          "text": [
            "Mounted at /content/drive\n"
          ]
        }
      ]
    },
    {
      "cell_type": "code",
      "source": [
        "pip install --upgrade xlrd"
      ],
      "metadata": {
        "colab": {
          "base_uri": "https://localhost:8080/"
        },
        "id": "ayTX6OhVB5wL",
        "outputId": "47fcb4f7-899d-4b6b-f625-950999a94923"
      },
      "execution_count": null,
      "outputs": [
        {
          "output_type": "stream",
          "name": "stdout",
          "text": [
            "Looking in indexes: https://pypi.org/simple, https://us-python.pkg.dev/colab-wheels/public/simple/\n",
            "Requirement already satisfied: xlrd in /usr/local/lib/python3.7/dist-packages (1.1.0)\n",
            "Collecting xlrd\n",
            "  Downloading xlrd-2.0.1-py2.py3-none-any.whl (96 kB)\n",
            "\u001b[K     |████████████████████████████████| 96 kB 3.1 MB/s \n",
            "\u001b[?25hInstalling collected packages: xlrd\n",
            "  Attempting uninstall: xlrd\n",
            "    Found existing installation: xlrd 1.1.0\n",
            "    Uninstalling xlrd-1.1.0:\n",
            "      Successfully uninstalled xlrd-1.1.0\n",
            "Successfully installed xlrd-2.0.1\n"
          ]
        }
      ]
    },
    {
      "cell_type": "code",
      "source": [
        "filename_BS15= '/content/drive/MyDrive/data/2015_totalBS.xls'\n",
        "filename_BS16= '/content/drive/MyDrive/data/2016_totalBS.xls'\n",
        "filename_BS17= '/content/drive/MyDrive/data/2017_totalBS.xls'\n",
        "filename_BS18= '/content/drive/MyDrive/data/2018_totalBS.xls'\n",
        "filename_BS19= '/content/drive/MyDrive/data/2019_totalBS.xls'\n",
        "filename_BS20= '/content/drive/MyDrive/data/2020_totalBS.xls'\n",
        "filename_BS21= '/content/drive/MyDrive/data/2021_totalBS.xls'\n",
        "\n",
        "filename_CF15= '/content/drive/MyDrive/data/2015_totalCF.xls'\n",
        "filename_CF16= '/content/drive/MyDrive/data/2016_totalCF.xls'\n",
        "filename_CF17= '/content/drive/MyDrive/data/2017_totalCF.xls'\n",
        "filename_CF18= '/content/drive/MyDrive/data/2018_totalCF.xls'\n",
        "filename_CF19= '/content/drive/MyDrive/data/2019_totalCF.xls'\n",
        "filename_CF20= '/content/drive/MyDrive/data/2020_totalCF.xls'\n",
        "filename_CF21= '/content/drive/MyDrive/data/2021_totalCF.xls'\n",
        "\n",
        "\n",
        "filename_bs16= '/content/drive/MyDrive/data/BaS_2016.xlsx'\n",
        "\n",
        "filename_bs17= '/content/drive/MyDrive/data/BaS_2017.xlsx'\n",
        "filename_bs18= '/content/drive/MyDrive/data/BaS_2018.xlsx'\n",
        "filename_bs19= '/content/drive/MyDrive/data/BaS_2019.xlsx'\n",
        "filename_bs20= '/content/drive/MyDrive/data/BaS_2020.xlsx'\n",
        "filename_bs21= '/content/drive/MyDrive/data/BaS_2021.xlsx'\n",
        "filename_bs22= '/content/drive/MyDrive/data/BaS_2022.xlsx'\n",
        "\n"
      ],
      "metadata": {
        "id": "xr2CzKXw4W73"
      },
      "execution_count": null,
      "outputs": []
    },
    {
      "cell_type": "code",
      "source": [
        "bs15 = pd.read_excel(filename_BS15)\n",
        "bs16 = pd.read_excel(filename_BS16)\n",
        "bs17 = pd.read_excel(filename_BS17)\n",
        "bs18 = pd.read_excel(filename_BS18)\n",
        "bs19 = pd.read_excel(filename_BS19)\n",
        "bs20 = pd.read_excel(filename_BS20)\n",
        "bs21 = pd.read_excel(filename_BS21)\n",
        "\n",
        "cf15 = pd.read_excel(filename_CF15)\n",
        "cf16 = pd.read_excel(filename_CF16)\n",
        "cf17 = pd.read_excel(filename_CF17)\n",
        "cf18 = pd.read_excel(filename_CF18)\n",
        "cf19 = pd.read_excel(filename_CF19)\n",
        "cf20 = pd.read_excel(filename_CF20)\n",
        "cf21 = pd.read_excel(filename_CF21)\n",
        "\n",
        "d16 = pd.read_excel(filename_bs16, dtype={x : 'str' for x in [\"종목코드\"]})\n",
        "d17 = pd.read_excel(filename_bs17, dtype={x : 'str' for x in [\"종목코드\"]})\n",
        "d18 = pd.read_excel(filename_bs18, dtype={x : 'str' for x in [\"종목코드\"]})\n",
        "d19 = pd.read_excel(filename_bs19, dtype={x : 'str' for x in [\"종목코드\"]})\n",
        "d20 = pd.read_excel(filename_bs20, dtype={x : 'str' for x in [\"종목코드\"]})\n",
        "d21 = pd.read_excel(filename_bs21, dtype={x : 'str' for x in [\"종목코드\"]})\n",
        "d22 = pd.read_excel(filename_bs22, dtype={x : 'str' for x in [\"종목코드\"]})"
      ],
      "metadata": {
        "id": "ufetaO9lCm1F"
      },
      "execution_count": null,
      "outputs": []
    },
    {
      "cell_type": "code",
      "source": [
        "ll = [bs15, bs16, bs17, bs18, bs19, bs20, bs21, d16, d17, d18, d19, d20, d21, d22]\n",
        "#bs15, bs16, bs17, bs18, bs19, bs20, bs21, cf15, cf16, cf17, cf18, cf19, cf20, cf21, \n",
        "\n",
        "for i in ll :\n",
        "\n",
        "  i.drop('Unnamed: 0', axis= 1, inplace= True)\n"
      ],
      "metadata": {
        "id": "ZrkHHHGBD0b3"
      },
      "execution_count": null,
      "outputs": []
    },
    {
      "cell_type": "code",
      "source": [
        "l2 = [bs15, bs16, bs17, bs18, bs19, bs20, bs21, cf15, cf16, cf17, cf18, cf19, cf20, cf21]\n",
        "\n",
        "for i in l2 : \n",
        "  for j in range(len(i)):\n",
        "    i['종목코드'][j] = i['종목코드'][j][1:-1]\n",
        "\n"
      ],
      "metadata": {
        "colab": {
          "base_uri": "https://localhost:8080/"
        },
        "id": "7j-U1bK0F8Gw",
        "outputId": "7156855f-fa5d-4c48-8661-e028473388b6"
      },
      "execution_count": null,
      "outputs": [
        {
          "output_type": "stream",
          "name": "stderr",
          "text": [
            "/usr/local/lib/python3.7/dist-packages/ipykernel_launcher.py:5: SettingWithCopyWarning: \n",
            "A value is trying to be set on a copy of a slice from a DataFrame\n",
            "\n",
            "See the caveats in the documentation: https://pandas.pydata.org/pandas-docs/stable/user_guide/indexing.html#returning-a-view-versus-a-copy\n",
            "  \"\"\"\n"
          ]
        }
      ]
    },
    {
      "cell_type": "code",
      "source": [
        "# 시총 200위만 포함\n",
        "D16 = d16.head(200)\n",
        "D17 = d17.head(200)\n",
        "D18 = d18.head(200)\n",
        "D19 = d19.head(200)\n",
        "D20 = d20.head(200)\n",
        "D21 = d21.head(200)\n",
        "D22 = d22.head(200)"
      ],
      "metadata": {
        "id": "KGoWGbuyBAUL"
      },
      "execution_count": null,
      "outputs": []
    },
    {
      "cell_type": "code",
      "source": [
        "d16"
      ],
      "metadata": {
        "colab": {
          "base_uri": "https://localhost:8080/",
          "height": 424
        },
        "id": "MXBdiHZbJRea",
        "outputId": "00b04b9d-176b-48a9-ed52-88b3d0bc8f5b"
      },
      "execution_count": null,
      "outputs": [
        {
          "output_type": "execute_result",
          "data": {
            "text/plain": [
              "       종목코드         날짜      종가   PBR  PBR 순위             시가총액  시가총액 순위  \\\n",
              "0    005930 2016-03-31   26240  1.38     461  190330970144000        1   \n",
              "1    015760 2016-03-31   60200  0.72     228   38646237435400        2   \n",
              "2    005380 2016-03-31  152500  0.76     242   33592163047500        3   \n",
              "3    028260 2016-03-31  143000  3.65     662   27125676149000        4   \n",
              "4    012330 2016-03-31  249000  1.05     361   24238621887000        5   \n",
              "..      ...        ...     ...   ...     ...              ...      ...   \n",
              "722  002420 2016-03-31   10070  0.80     258      21439339200      723   \n",
              "723  001140 2016-03-31    1546  0.85     278      19159219600      724   \n",
              "724  007630 2016-03-31    1500  1.43     474      17680797000      725   \n",
              "725  001470 2016-03-31    9050  0.03       1      15932863470      726   \n",
              "726  007280 2016-03-31    2050  0.17       3      15200000000      727   \n",
              "\n",
              "        buy      sell  \n",
              "0     25580   41200.0  \n",
              "1     59100   46450.0  \n",
              "2    149500  157500.0  \n",
              "3    140000  127500.0  \n",
              "4    239000  240500.0  \n",
              "..      ...       ...  \n",
              "722    9668   13995.0  \n",
              "723    1513    1667.0  \n",
              "724    1815    3505.0  \n",
              "725    9050    1176.0  \n",
              "726    2050    1780.0  \n",
              "\n",
              "[727 rows x 9 columns]"
            ],
            "text/html": [
              "\n",
              "  <div id=\"df-e623ed67-d920-4a91-9a1b-5c2ad91f0a95\">\n",
              "    <div class=\"colab-df-container\">\n",
              "      <div>\n",
              "<style scoped>\n",
              "    .dataframe tbody tr th:only-of-type {\n",
              "        vertical-align: middle;\n",
              "    }\n",
              "\n",
              "    .dataframe tbody tr th {\n",
              "        vertical-align: top;\n",
              "    }\n",
              "\n",
              "    .dataframe thead th {\n",
              "        text-align: right;\n",
              "    }\n",
              "</style>\n",
              "<table border=\"1\" class=\"dataframe\">\n",
              "  <thead>\n",
              "    <tr style=\"text-align: right;\">\n",
              "      <th></th>\n",
              "      <th>종목코드</th>\n",
              "      <th>날짜</th>\n",
              "      <th>종가</th>\n",
              "      <th>PBR</th>\n",
              "      <th>PBR 순위</th>\n",
              "      <th>시가총액</th>\n",
              "      <th>시가총액 순위</th>\n",
              "      <th>buy</th>\n",
              "      <th>sell</th>\n",
              "    </tr>\n",
              "  </thead>\n",
              "  <tbody>\n",
              "    <tr>\n",
              "      <th>0</th>\n",
              "      <td>005930</td>\n",
              "      <td>2016-03-31</td>\n",
              "      <td>26240</td>\n",
              "      <td>1.38</td>\n",
              "      <td>461</td>\n",
              "      <td>190330970144000</td>\n",
              "      <td>1</td>\n",
              "      <td>25580</td>\n",
              "      <td>41200.0</td>\n",
              "    </tr>\n",
              "    <tr>\n",
              "      <th>1</th>\n",
              "      <td>015760</td>\n",
              "      <td>2016-03-31</td>\n",
              "      <td>60200</td>\n",
              "      <td>0.72</td>\n",
              "      <td>228</td>\n",
              "      <td>38646237435400</td>\n",
              "      <td>2</td>\n",
              "      <td>59100</td>\n",
              "      <td>46450.0</td>\n",
              "    </tr>\n",
              "    <tr>\n",
              "      <th>2</th>\n",
              "      <td>005380</td>\n",
              "      <td>2016-03-31</td>\n",
              "      <td>152500</td>\n",
              "      <td>0.76</td>\n",
              "      <td>242</td>\n",
              "      <td>33592163047500</td>\n",
              "      <td>3</td>\n",
              "      <td>149500</td>\n",
              "      <td>157500.0</td>\n",
              "    </tr>\n",
              "    <tr>\n",
              "      <th>3</th>\n",
              "      <td>028260</td>\n",
              "      <td>2016-03-31</td>\n",
              "      <td>143000</td>\n",
              "      <td>3.65</td>\n",
              "      <td>662</td>\n",
              "      <td>27125676149000</td>\n",
              "      <td>4</td>\n",
              "      <td>140000</td>\n",
              "      <td>127500.0</td>\n",
              "    </tr>\n",
              "    <tr>\n",
              "      <th>4</th>\n",
              "      <td>012330</td>\n",
              "      <td>2016-03-31</td>\n",
              "      <td>249000</td>\n",
              "      <td>1.05</td>\n",
              "      <td>361</td>\n",
              "      <td>24238621887000</td>\n",
              "      <td>5</td>\n",
              "      <td>239000</td>\n",
              "      <td>240500.0</td>\n",
              "    </tr>\n",
              "    <tr>\n",
              "      <th>...</th>\n",
              "      <td>...</td>\n",
              "      <td>...</td>\n",
              "      <td>...</td>\n",
              "      <td>...</td>\n",
              "      <td>...</td>\n",
              "      <td>...</td>\n",
              "      <td>...</td>\n",
              "      <td>...</td>\n",
              "      <td>...</td>\n",
              "    </tr>\n",
              "    <tr>\n",
              "      <th>722</th>\n",
              "      <td>002420</td>\n",
              "      <td>2016-03-31</td>\n",
              "      <td>10070</td>\n",
              "      <td>0.80</td>\n",
              "      <td>258</td>\n",
              "      <td>21439339200</td>\n",
              "      <td>723</td>\n",
              "      <td>9668</td>\n",
              "      <td>13995.0</td>\n",
              "    </tr>\n",
              "    <tr>\n",
              "      <th>723</th>\n",
              "      <td>001140</td>\n",
              "      <td>2016-03-31</td>\n",
              "      <td>1546</td>\n",
              "      <td>0.85</td>\n",
              "      <td>278</td>\n",
              "      <td>19159219600</td>\n",
              "      <td>724</td>\n",
              "      <td>1513</td>\n",
              "      <td>1667.0</td>\n",
              "    </tr>\n",
              "    <tr>\n",
              "      <th>724</th>\n",
              "      <td>007630</td>\n",
              "      <td>2016-03-31</td>\n",
              "      <td>1500</td>\n",
              "      <td>1.43</td>\n",
              "      <td>474</td>\n",
              "      <td>17680797000</td>\n",
              "      <td>725</td>\n",
              "      <td>1815</td>\n",
              "      <td>3505.0</td>\n",
              "    </tr>\n",
              "    <tr>\n",
              "      <th>725</th>\n",
              "      <td>001470</td>\n",
              "      <td>2016-03-31</td>\n",
              "      <td>9050</td>\n",
              "      <td>0.03</td>\n",
              "      <td>1</td>\n",
              "      <td>15932863470</td>\n",
              "      <td>726</td>\n",
              "      <td>9050</td>\n",
              "      <td>1176.0</td>\n",
              "    </tr>\n",
              "    <tr>\n",
              "      <th>726</th>\n",
              "      <td>007280</td>\n",
              "      <td>2016-03-31</td>\n",
              "      <td>2050</td>\n",
              "      <td>0.17</td>\n",
              "      <td>3</td>\n",
              "      <td>15200000000</td>\n",
              "      <td>727</td>\n",
              "      <td>2050</td>\n",
              "      <td>1780.0</td>\n",
              "    </tr>\n",
              "  </tbody>\n",
              "</table>\n",
              "<p>727 rows × 9 columns</p>\n",
              "</div>\n",
              "      <button class=\"colab-df-convert\" onclick=\"convertToInteractive('df-e623ed67-d920-4a91-9a1b-5c2ad91f0a95')\"\n",
              "              title=\"Convert this dataframe to an interactive table.\"\n",
              "              style=\"display:none;\">\n",
              "        \n",
              "  <svg xmlns=\"http://www.w3.org/2000/svg\" height=\"24px\"viewBox=\"0 0 24 24\"\n",
              "       width=\"24px\">\n",
              "    <path d=\"M0 0h24v24H0V0z\" fill=\"none\"/>\n",
              "    <path d=\"M18.56 5.44l.94 2.06.94-2.06 2.06-.94-2.06-.94-.94-2.06-.94 2.06-2.06.94zm-11 1L8.5 8.5l.94-2.06 2.06-.94-2.06-.94L8.5 2.5l-.94 2.06-2.06.94zm10 10l.94 2.06.94-2.06 2.06-.94-2.06-.94-.94-2.06-.94 2.06-2.06.94z\"/><path d=\"M17.41 7.96l-1.37-1.37c-.4-.4-.92-.59-1.43-.59-.52 0-1.04.2-1.43.59L10.3 9.45l-7.72 7.72c-.78.78-.78 2.05 0 2.83L4 21.41c.39.39.9.59 1.41.59.51 0 1.02-.2 1.41-.59l7.78-7.78 2.81-2.81c.8-.78.8-2.07 0-2.86zM5.41 20L4 18.59l7.72-7.72 1.47 1.35L5.41 20z\"/>\n",
              "  </svg>\n",
              "      </button>\n",
              "      \n",
              "  <style>\n",
              "    .colab-df-container {\n",
              "      display:flex;\n",
              "      flex-wrap:wrap;\n",
              "      gap: 12px;\n",
              "    }\n",
              "\n",
              "    .colab-df-convert {\n",
              "      background-color: #E8F0FE;\n",
              "      border: none;\n",
              "      border-radius: 50%;\n",
              "      cursor: pointer;\n",
              "      display: none;\n",
              "      fill: #1967D2;\n",
              "      height: 32px;\n",
              "      padding: 0 0 0 0;\n",
              "      width: 32px;\n",
              "    }\n",
              "\n",
              "    .colab-df-convert:hover {\n",
              "      background-color: #E2EBFA;\n",
              "      box-shadow: 0px 1px 2px rgba(60, 64, 67, 0.3), 0px 1px 3px 1px rgba(60, 64, 67, 0.15);\n",
              "      fill: #174EA6;\n",
              "    }\n",
              "\n",
              "    [theme=dark] .colab-df-convert {\n",
              "      background-color: #3B4455;\n",
              "      fill: #D2E3FC;\n",
              "    }\n",
              "\n",
              "    [theme=dark] .colab-df-convert:hover {\n",
              "      background-color: #434B5C;\n",
              "      box-shadow: 0px 1px 3px 1px rgba(0, 0, 0, 0.15);\n",
              "      filter: drop-shadow(0px 1px 2px rgba(0, 0, 0, 0.3));\n",
              "      fill: #FFFFFF;\n",
              "    }\n",
              "  </style>\n",
              "\n",
              "      <script>\n",
              "        const buttonEl =\n",
              "          document.querySelector('#df-e623ed67-d920-4a91-9a1b-5c2ad91f0a95 button.colab-df-convert');\n",
              "        buttonEl.style.display =\n",
              "          google.colab.kernel.accessAllowed ? 'block' : 'none';\n",
              "\n",
              "        async function convertToInteractive(key) {\n",
              "          const element = document.querySelector('#df-e623ed67-d920-4a91-9a1b-5c2ad91f0a95');\n",
              "          const dataTable =\n",
              "            await google.colab.kernel.invokeFunction('convertToInteractive',\n",
              "                                                     [key], {});\n",
              "          if (!dataTable) return;\n",
              "\n",
              "          const docLinkHtml = 'Like what you see? Visit the ' +\n",
              "            '<a target=\"_blank\" href=https://colab.research.google.com/notebooks/data_table.ipynb>data table notebook</a>'\n",
              "            + ' to learn more about interactive tables.';\n",
              "          element.innerHTML = '';\n",
              "          dataTable['output_type'] = 'display_data';\n",
              "          await google.colab.output.renderOutput(dataTable, element);\n",
              "          const docLink = document.createElement('div');\n",
              "          docLink.innerHTML = docLinkHtml;\n",
              "          element.appendChild(docLink);\n",
              "        }\n",
              "      </script>\n",
              "    </div>\n",
              "  </div>\n",
              "  "
            ]
          },
          "metadata": {},
          "execution_count": 10
        }
      ]
    },
    {
      "cell_type": "code",
      "source": [
        "#전체 시총 데이터 -- 소문자 d\n",
        "\n",
        "bsL = [bs15, bs16, bs17, bs18, bs19, bs20, bs21]\n",
        "cfL = [cf15, cf16, cf17, cf18, cf19, cf20, cf21]  \n",
        "dL = [d16, d17, d18, d19, d20, d21, d22]\n",
        "\n",
        "df_= pd.merge(bsL[0],cfL[0],on=['종목코드','회사명'])\n",
        "df__ = pd.merge(df_, dL[0], on='종목코드')\n",
        "df15 = df__  \n",
        "\n",
        "df_= pd.merge(bsL[1],cfL[1],on=['종목코드','회사명'])\n",
        "df__ = pd.merge(df_, dL[1], on='종목코드')\n",
        "df16 = df__  \n",
        "\n",
        "\n",
        "df_= pd.merge(bsL[2],cfL[2],on=['종목코드','회사명'])\n",
        "df__ = pd.merge(df_, dL[2], on='종목코드')\n",
        "df17 = df__  \n",
        "\n",
        "\n",
        "df_= pd.merge(bsL[3],cfL[3],on=['종목코드','회사명'])\n",
        "df__ = pd.merge(df_, dL[3], on='종목코드')\n",
        "df18 = df__  \n",
        "\n",
        "df_= pd.merge(bsL[4],cfL[4],on=['종목코드','회사명'])\n",
        "df__ = pd.merge(df_, dL[4], on='종목코드')\n",
        "df19 = df__  \n",
        "\n",
        "\n",
        "df_= pd.merge(bsL[5],cfL[5],on=['종목코드','회사명'])\n",
        "df__ = pd.merge(df_, dL[5], on='종목코드')\n",
        "df20 = df__  \n",
        "\n",
        "\n",
        "df_= pd.merge(bsL[6],cfL[6],on=['종목코드','회사명'])\n",
        "df__ = pd.merge(df_, dL[6], on='종목코드')\n",
        "df21 = df__  "
      ],
      "metadata": {
        "id": "5ZngRYLbFI-o"
      },
      "execution_count": null,
      "outputs": []
    },
    {
      "cell_type": "code",
      "source": [
        "# 시총 200위 데이터 -- 대문자 D\n",
        "\n",
        "bsL = [bs15, bs16, bs17, bs18, bs19, bs20, bs21]\n",
        "cfL = [cf15, cf16, cf17, cf18, cf19, cf20, cf21]  \n",
        "DL = [D16, D17, D18, D19, D20, D21, D22]\n",
        "\n",
        "DF_= pd.merge(bsL[0],cfL[0],on=['종목코드','회사명'])\n",
        "DF__ = pd.merge(DF_, DL[0], on='종목코드')\n",
        "DF15 = DF__  \n",
        "\n",
        "DF_= pd.merge(bsL[1],cfL[1],on=['종목코드','회사명'])\n",
        "DF__ = pd.merge(DF_, DL[1], on='종목코드')\n",
        "DF16 = DF__  \n",
        "\n",
        "\n",
        "DF_= pd.merge(bsL[2],cfL[2],on=['종목코드','회사명'])\n",
        "DF__ = pd.merge(DF_, DL[2], on='종목코드')\n",
        "DF17 = DF__  \n",
        "\n",
        "\n",
        "DF_= pd.merge(bsL[3],cfL[3],on=['종목코드','회사명'])\n",
        "DF__ = pd.merge(DF_, DL[3], on='종목코드')\n",
        "DF18 = DF__  \n",
        "\n",
        "DF_= pd.merge(bsL[4],cfL[4],on=['종목코드','회사명'])\n",
        "DF__ = pd.merge(DF_, DL[4], on='종목코드')\n",
        "DF19 = DF__  \n",
        "\n",
        "\n",
        "DF_= pd.merge(bsL[5],cfL[5],on=['종목코드','회사명'])\n",
        "DF__ = pd.merge(DF_, DL[5], on='종목코드')\n",
        "DF20 = DF__  \n",
        "\n",
        "\n",
        "DF_= pd.merge(bsL[6],cfL[6],on=['종목코드','회사명'])\n",
        "DF__ = pd.merge(DF_, DL[6], on='종목코드')\n",
        "DF21 = DF__  "
      ],
      "metadata": {
        "id": "lG8TAE1aG_tv"
      },
      "execution_count": null,
      "outputs": []
    },
    {
      "cell_type": "code",
      "source": [
        "# top 순위 추출하는 함수 function top(데이터)\n",
        "df = [df15, df16, df17, df18, df19, df20, df21, DF15, DF16, DF17, DF18, DF19, DF20, DF21]\n",
        "\n",
        "def top(ex_data) :\n",
        "  ex_data.drop(['자본총계','부채총계','유동자산','유동부채','부채비율','유동비율','영업활동현금흐름','종가','PBR','시가총액'], axis =1, inplace = True)\n",
        "  \n",
        "  col = ex_data.columns.to_numpy()\n",
        "  col = col[[5,0,1,2,3,4,6,9,7,8]]\n",
        "  ex_data = ex_data[col]\n",
        "\n",
        "  ex_data['순위합'] = ex_data['부채비율순위'] + ex_data['유동비율순위'] + ex_data['영업활동현금흐름_순위'] + ex_data['PBR 순위'] + ex_data['시가총액 순위'] \n",
        "\n",
        "  ex_data['순위합rank'] = ex_data.순위합.rank(method='average', ascending=True)\n",
        "  ex_data['순위합rank'] = ex_data['순위합rank'].astype('int')\n",
        "\n",
        "  ex_data = ex_data.sort_values('순위합rank')\n",
        "\n",
        "  ex_data['수익률'] = (ex_data['sell'] - ex_data['buy'])/ex_data['buy'] *100\n",
        "\n",
        "  ex_data20 = ex_data.head(20)\n",
        "\n",
        "  return ex_data20\n"
      ],
      "metadata": {
        "id": "8bf4YD-qTnB8"
      },
      "execution_count": null,
      "outputs": []
    },
    {
      "cell_type": "code",
      "source": [
        "#시가총액 순위 완전히 뺀 경우\n",
        "\n",
        "# def top_cap(ex_data) :\n",
        "#   ex_data.drop(['자본총계','부채총계','유동자산','유동부채','부채비율','유동비율','영업활동현금흐름','종가','PBR','시가총액'], axis =1, inplace = True)\n",
        "  \n",
        "#   col = ex_data.columns.to_numpy()\n",
        "#   col = col[[5,0,1,2,3,4,6,9,7,8]]\n",
        "#   ex_data = ex_data[col]\n",
        "\n",
        "#   ex_data['순위합'] = ex_data['부채비율순위'] + ex_data['유동비율순위'] + ex_data['영업활동현금흐름_순위'] + ex_data['PBR 순위'] \n",
        "\n",
        "#   ex_data['순위합rank'] = ex_data.순위합.rank(method='average', ascending=True)\n",
        "#   ex_data['순위합rank'] = ex_data['순위합rank'].astype('int')\n",
        "\n",
        "#   ex_data = ex_data.sort_values('순위합rank')\n",
        "\n",
        "#   ex_data['수익률'] = (ex_data['sell'] - ex_data['buy'])/ex_data['buy'] *100\n",
        "\n",
        "#   ex_data20 = ex_data.head(20)\n",
        "\n",
        "#   return ex_data, ex_data20"
      ],
      "metadata": {
        "id": "JVVMP9I7eFQK"
      },
      "execution_count": null,
      "outputs": []
    },
    {
      "cell_type": "code",
      "source": [
        "top16_17 = top(df15)\n",
        "top17_18 = top(df16)\n",
        "top18_19 = top(df17)\n",
        "top19_20 = top(df18)\n",
        "top20_21 = top(df19)\n",
        "top21_22 = top(df20)\n",
        "top22_23 = top(df21)\n",
        "\n",
        "TOP16_17 = top(DF15)\n",
        "TOP17_18 = top(DF16)\n",
        "TOP18_19 = top(DF17)\n",
        "TOP19_20 = top(DF18)\n",
        "TOP20_21 = top(DF19)\n",
        "TOP21_22 = top(DF20)\n",
        "TOP22_23 = top(DF21)"
      ],
      "metadata": {
        "colab": {
          "base_uri": "https://localhost:8080/"
        },
        "id": "WTjwyqHKW3za",
        "outputId": "a8bbfa6d-ebad-4edd-c20f-3e28495aac0b"
      },
      "execution_count": null,
      "outputs": [
        {
          "output_type": "stream",
          "name": "stderr",
          "text": [
            "/usr/local/lib/python3.7/dist-packages/ipykernel_launcher.py:11: SettingWithCopyWarning: \n",
            "A value is trying to be set on a copy of a slice from a DataFrame.\n",
            "Try using .loc[row_indexer,col_indexer] = value instead\n",
            "\n",
            "See the caveats in the documentation: https://pandas.pydata.org/pandas-docs/stable/user_guide/indexing.html#returning-a-view-versus-a-copy\n",
            "  # This is added back by InteractiveShellApp.init_path()\n",
            "/usr/local/lib/python3.7/dist-packages/ipykernel_launcher.py:13: SettingWithCopyWarning: \n",
            "A value is trying to be set on a copy of a slice from a DataFrame.\n",
            "Try using .loc[row_indexer,col_indexer] = value instead\n",
            "\n",
            "See the caveats in the documentation: https://pandas.pydata.org/pandas-docs/stable/user_guide/indexing.html#returning-a-view-versus-a-copy\n",
            "  del sys.path[0]\n",
            "/usr/local/lib/python3.7/dist-packages/ipykernel_launcher.py:14: SettingWithCopyWarning: \n",
            "A value is trying to be set on a copy of a slice from a DataFrame.\n",
            "Try using .loc[row_indexer,col_indexer] = value instead\n",
            "\n",
            "See the caveats in the documentation: https://pandas.pydata.org/pandas-docs/stable/user_guide/indexing.html#returning-a-view-versus-a-copy\n",
            "  \n"
          ]
        }
      ]
    },
    {
      "cell_type": "code",
      "source": [
        "# 두 데이터프레임 평균 수익률 비교 \n",
        "\n",
        "print('16~17년도 시총 200위 수익률 : ',round(TOP16_17['수익률'].mean(), 4) , '   | 16~17년도 전체 시총 수익률 : ', round(top16_17['수익률'].mean(), 4)  )\n",
        "print('17~18년도 시총 200위 수익률 : ',round(TOP17_18['수익률'].mean(), 4) , '  | 17~18년도 전체 시총 수익률 : ', round(top17_18['수익률'].mean(), 4)  )\n",
        "print('18~19년도 시총 200위 수익률 : ',round(TOP18_19['수익률'].mean(), 4) , ' | 18~19년도 전체 시총 수익률 : ', round(top18_19['수익률'].mean(), 4)  )\n",
        "print('19~20년도 시총 200위 수익률 : ',round(TOP19_20['수익률'].mean(), 4) , ' | 19~20년도 전체 시총 수익률 : ', round(top19_20['수익률'].mean(), 4)  )\n",
        "print('20~21년도 시총 200위 수익률 : ',round(TOP20_21['수익률'].mean(), 4) , '  | 20~21년도 전체 시총 수익률 : ', round(top20_21['수익률'].mean(), 4)  )\n",
        "print('21~22년도 시총 200위 수익률 : ',round(TOP21_22['수익률'].mean(), 4) , ' | 21~22년도 전체 시총 수익률 : ', round(top21_22['수익률'].mean(), 4)  )\n",
        "print('22~23년도 시총 200위 수익률 : ',round(TOP22_23['수익률'].mean(), 4) , '      | 22~23년도 전체 시총 수익률 : ', round(top22_23['수익률'].mean(), 4)  )\n"
      ],
      "metadata": {
        "colab": {
          "base_uri": "https://localhost:8080/"
        },
        "id": "5h5nyVopB2un",
        "outputId": "507fcf5b-54e6-4f14-d766-241052a31ceb"
      },
      "execution_count": null,
      "outputs": [
        {
          "output_type": "stream",
          "name": "stdout",
          "text": [
            "16~17년도 시총 200위 수익률 :  9.8498    | 16~17년도 전체 시총 수익률 :  7.967\n",
            "17~18년도 시총 200위 수익률 :  11.7637   | 17~18년도 전체 시총 수익률 :  6.6884\n",
            "18~19년도 시총 200위 수익률 :  -12.4701  | 18~19년도 전체 시총 수익률 :  -7.5418\n",
            "19~20년도 시총 200위 수익률 :  -37.5679  | 19~20년도 전체 시총 수익률 :  -40.0716\n",
            "20~21년도 시총 200위 수익률 :  86.2899   | 20~21년도 전체 시총 수익률 :  92.6835\n",
            "21~22년도 시총 200위 수익률 :  -10.1462  | 21~22년도 전체 시총 수익률 :  -4.7441\n",
            "22~23년도 시총 200위 수익률 :  nan       | 22~23년도 전체 시총 수익률 :  nan\n"
          ]
        }
      ]
    },
    {
      "cell_type": "code",
      "source": [
        "# total15.to_excel(excel_writer = 'total_15.xlsx') \n",
        "# top15.to_excel(excel_writer = \"top_15.xlsx\") \n",
        "# total16.to_excel(excel_writer = 'total_16.xlsx') \n",
        "# top16.to_excel(excel_writer = \"top_16.xlsx\") \n",
        "# total17.to_excel(excel_writer = 'total_17.xlsx') \n",
        "# top17.to_excel(excel_writer = \"top_17.xlsx\") \n",
        "# total18.to_excel(excel_writer = 'total_18.xlsx') \n",
        "# top18.to_excel(excel_writer = \"top_18.xlsx\") \n",
        "# total19.to_excel(excel_writer = 'total_19.xlsx') \n",
        "# top19.to_excel(excel_writer = \"top_19.xlsx\") \n",
        "# total20.to_excel(excel_writer = 'total_20.xlsx') \n",
        "# top20.to_excel(excel_writer = \"top_20.xlsx\") \n",
        "# total21.to_excel(excel_writer = 'total_21.xlsx') \n",
        "# top21.to_excel(excel_writer = \"top_21.xlsx\") "
      ],
      "metadata": {
        "id": "F13KCPBlmEUW"
      },
      "execution_count": null,
      "outputs": []
    },
    {
      "cell_type": "markdown",
      "source": [
        "## 종목리스트 추출"
      ],
      "metadata": {
        "id": "RZFtmXbgMANI"
      }
    },
    {
      "cell_type": "code",
      "source": [
        "name1617 = TOP16_17[['종목코드','회사명']]\n",
        "name1718 = TOP17_18[['종목코드','회사명']]\n",
        "name1819 = TOP18_19[['종목코드','회사명']]\n",
        "name1920 = TOP19_20[['종목코드','회사명']]\n",
        "name2021 = TOP20_21[['종목코드','회사명']]\n",
        "name2122 = TOP21_22[['종목코드','회사명']]\n",
        "name2223 = TOP22_23[['종목코드','회사명']]"
      ],
      "metadata": {
        "id": "IGCeSIvHm1en"
      },
      "execution_count": null,
      "outputs": []
    },
    {
      "cell_type": "code",
      "source": [
        "# name1617.to_excel(excel_writer = 'name1617.xlsx')\n",
        "# name1718.to_excel(excel_writer = 'name1718.xlsx')\n",
        "# name1819.to_excel(excel_writer = 'name1819.xlsx')\n",
        "# name1920.to_excel(excel_writer = 'name1920.xlsx')\n",
        "# name2021.to_excel(excel_writer = 'name2021.xlsx')\n",
        "# name2122.to_excel(excel_writer = 'name2122.xlsx')\n",
        "# name2223.to_excel(excel_writer = 'name2223.xlsx')"
      ],
      "metadata": {
        "id": "CuLkIbtDNvgX"
      },
      "execution_count": null,
      "outputs": []
    },
    {
      "cell_type": "markdown",
      "source": [
        "# MDD , 샤프지수 구하기"
      ],
      "metadata": {
        "id": "4E-gR_yAXbgy"
      }
    },
    {
      "cell_type": "code",
      "source": [
        "!pip install yfinance\n",
        "!pip install pandas_datareader\n",
        "!pip install pykrx"
      ],
      "metadata": {
        "id": "QvX2mNucXehf"
      },
      "execution_count": null,
      "outputs": []
    },
    {
      "cell_type": "code",
      "source": [
        "from pandas_datareader import data as pdr\n",
        "from pykrx import stock"
      ],
      "metadata": {
        "id": "yJdyRCuRXf_-"
      },
      "execution_count": null,
      "outputs": []
    },
    {
      "cell_type": "code",
      "source": [
        "import pandas as pd\n",
        "import numpy as np\n",
        "import yfinance as yf"
      ],
      "metadata": {
        "id": "oqe1lzbeYE5t"
      },
      "execution_count": null,
      "outputs": []
    },
    {
      "cell_type": "code",
      "source": [
        "pf1 =  ['005930.KS','000660.KS','035420.KS']"
      ],
      "metadata": {
        "id": "T7kGYxBNYHV0"
      },
      "execution_count": null,
      "outputs": []
    },
    {
      "cell_type": "code",
      "source": [
        "yf.Ticker('005930.KS').history(start='2016-04-01', end='2022-03-31')"
      ],
      "metadata": {
        "id": "Mlf8E0A1YLdd",
        "colab": {
          "base_uri": "https://localhost:8080/",
          "height": 455
        },
        "outputId": "5e5e4425-ae88-4b85-cefb-225f45b3af06"
      },
      "execution_count": null,
      "outputs": [
        {
          "output_type": "execute_result",
          "data": {
            "text/plain": [
              "                                   Open          High           Low  \\\n",
              "Date                                                                  \n",
              "2016-04-01 00:00:00+09:00  21786.947702  21954.668624  21317.329122   \n",
              "2016-04-04 00:00:00+09:00  21451.501857  21887.576172  21451.501857   \n",
              "2016-04-05 00:00:00+09:00  21786.943499  21786.943499  21132.832031   \n",
              "2016-04-06 00:00:00+09:00  21283.783265  21652.769264  21267.011175   \n",
              "2016-04-07 00:00:00+09:00  21803.720018  21803.720018  21099.292141   \n",
              "...                                 ...           ...           ...   \n",
              "2022-03-24 00:00:00+09:00  68351.618553  69039.062992  68351.618553   \n",
              "2022-03-25 00:00:00+09:00  68842.650295  68940.856644  68351.618553   \n",
              "2022-03-28 00:00:00+09:00  68253.407629  68646.232996  67958.788603   \n",
              "2022-03-29 00:00:00+09:00  68744.446670  69039.065727  68548.033965   \n",
              "2022-03-30 00:00:00+09:00  69395.934080  69593.362057  68902.364136   \n",
              "\n",
              "                                  Close    Volume  Dividends  Stock Splits  \n",
              "Date                                                                        \n",
              "2016-04-01 00:00:00+09:00  21451.505859  13557800        0.0           0.0  \n",
              "2016-04-04 00:00:00+09:00  21887.576172   9402300        0.0           0.0  \n",
              "2016-04-05 00:00:00+09:00  21132.832031  11815950        0.0           0.0  \n",
              "2016-04-06 00:00:00+09:00  21552.136719   9211700        0.0           0.0  \n",
              "2016-04-07 00:00:00+09:00  21283.785156  12939750        0.0           0.0  \n",
              "...                                 ...       ...        ...           ...  \n",
              "2022-03-24 00:00:00+09:00  68548.031250  37943357        0.0           0.0  \n",
              "2022-03-25 00:00:00+09:00  68548.031250  12986010        0.0           0.0  \n",
              "2022-03-28 00:00:00+09:00  68449.820312  12619289        0.0           0.0  \n",
              "2022-03-29 00:00:00+09:00  68940.859375  13686208        0.0           0.0  \n",
              "2022-03-30 00:00:00+09:00  69001.078125  12670187      361.0           0.0  \n",
              "\n",
              "[1470 rows x 7 columns]"
            ],
            "text/html": [
              "\n",
              "  <div id=\"df-f78a4f2d-7f7c-40d7-be5c-520a5e49d468\">\n",
              "    <div class=\"colab-df-container\">\n",
              "      <div>\n",
              "<style scoped>\n",
              "    .dataframe tbody tr th:only-of-type {\n",
              "        vertical-align: middle;\n",
              "    }\n",
              "\n",
              "    .dataframe tbody tr th {\n",
              "        vertical-align: top;\n",
              "    }\n",
              "\n",
              "    .dataframe thead th {\n",
              "        text-align: right;\n",
              "    }\n",
              "</style>\n",
              "<table border=\"1\" class=\"dataframe\">\n",
              "  <thead>\n",
              "    <tr style=\"text-align: right;\">\n",
              "      <th></th>\n",
              "      <th>Open</th>\n",
              "      <th>High</th>\n",
              "      <th>Low</th>\n",
              "      <th>Close</th>\n",
              "      <th>Volume</th>\n",
              "      <th>Dividends</th>\n",
              "      <th>Stock Splits</th>\n",
              "    </tr>\n",
              "    <tr>\n",
              "      <th>Date</th>\n",
              "      <th></th>\n",
              "      <th></th>\n",
              "      <th></th>\n",
              "      <th></th>\n",
              "      <th></th>\n",
              "      <th></th>\n",
              "      <th></th>\n",
              "    </tr>\n",
              "  </thead>\n",
              "  <tbody>\n",
              "    <tr>\n",
              "      <th>2016-04-01 00:00:00+09:00</th>\n",
              "      <td>21786.947702</td>\n",
              "      <td>21954.668624</td>\n",
              "      <td>21317.329122</td>\n",
              "      <td>21451.505859</td>\n",
              "      <td>13557800</td>\n",
              "      <td>0.0</td>\n",
              "      <td>0.0</td>\n",
              "    </tr>\n",
              "    <tr>\n",
              "      <th>2016-04-04 00:00:00+09:00</th>\n",
              "      <td>21451.501857</td>\n",
              "      <td>21887.576172</td>\n",
              "      <td>21451.501857</td>\n",
              "      <td>21887.576172</td>\n",
              "      <td>9402300</td>\n",
              "      <td>0.0</td>\n",
              "      <td>0.0</td>\n",
              "    </tr>\n",
              "    <tr>\n",
              "      <th>2016-04-05 00:00:00+09:00</th>\n",
              "      <td>21786.943499</td>\n",
              "      <td>21786.943499</td>\n",
              "      <td>21132.832031</td>\n",
              "      <td>21132.832031</td>\n",
              "      <td>11815950</td>\n",
              "      <td>0.0</td>\n",
              "      <td>0.0</td>\n",
              "    </tr>\n",
              "    <tr>\n",
              "      <th>2016-04-06 00:00:00+09:00</th>\n",
              "      <td>21283.783265</td>\n",
              "      <td>21652.769264</td>\n",
              "      <td>21267.011175</td>\n",
              "      <td>21552.136719</td>\n",
              "      <td>9211700</td>\n",
              "      <td>0.0</td>\n",
              "      <td>0.0</td>\n",
              "    </tr>\n",
              "    <tr>\n",
              "      <th>2016-04-07 00:00:00+09:00</th>\n",
              "      <td>21803.720018</td>\n",
              "      <td>21803.720018</td>\n",
              "      <td>21099.292141</td>\n",
              "      <td>21283.785156</td>\n",
              "      <td>12939750</td>\n",
              "      <td>0.0</td>\n",
              "      <td>0.0</td>\n",
              "    </tr>\n",
              "    <tr>\n",
              "      <th>...</th>\n",
              "      <td>...</td>\n",
              "      <td>...</td>\n",
              "      <td>...</td>\n",
              "      <td>...</td>\n",
              "      <td>...</td>\n",
              "      <td>...</td>\n",
              "      <td>...</td>\n",
              "    </tr>\n",
              "    <tr>\n",
              "      <th>2022-03-24 00:00:00+09:00</th>\n",
              "      <td>68351.618553</td>\n",
              "      <td>69039.062992</td>\n",
              "      <td>68351.618553</td>\n",
              "      <td>68548.031250</td>\n",
              "      <td>37943357</td>\n",
              "      <td>0.0</td>\n",
              "      <td>0.0</td>\n",
              "    </tr>\n",
              "    <tr>\n",
              "      <th>2022-03-25 00:00:00+09:00</th>\n",
              "      <td>68842.650295</td>\n",
              "      <td>68940.856644</td>\n",
              "      <td>68351.618553</td>\n",
              "      <td>68548.031250</td>\n",
              "      <td>12986010</td>\n",
              "      <td>0.0</td>\n",
              "      <td>0.0</td>\n",
              "    </tr>\n",
              "    <tr>\n",
              "      <th>2022-03-28 00:00:00+09:00</th>\n",
              "      <td>68253.407629</td>\n",
              "      <td>68646.232996</td>\n",
              "      <td>67958.788603</td>\n",
              "      <td>68449.820312</td>\n",
              "      <td>12619289</td>\n",
              "      <td>0.0</td>\n",
              "      <td>0.0</td>\n",
              "    </tr>\n",
              "    <tr>\n",
              "      <th>2022-03-29 00:00:00+09:00</th>\n",
              "      <td>68744.446670</td>\n",
              "      <td>69039.065727</td>\n",
              "      <td>68548.033965</td>\n",
              "      <td>68940.859375</td>\n",
              "      <td>13686208</td>\n",
              "      <td>0.0</td>\n",
              "      <td>0.0</td>\n",
              "    </tr>\n",
              "    <tr>\n",
              "      <th>2022-03-30 00:00:00+09:00</th>\n",
              "      <td>69395.934080</td>\n",
              "      <td>69593.362057</td>\n",
              "      <td>68902.364136</td>\n",
              "      <td>69001.078125</td>\n",
              "      <td>12670187</td>\n",
              "      <td>361.0</td>\n",
              "      <td>0.0</td>\n",
              "    </tr>\n",
              "  </tbody>\n",
              "</table>\n",
              "<p>1470 rows × 7 columns</p>\n",
              "</div>\n",
              "      <button class=\"colab-df-convert\" onclick=\"convertToInteractive('df-f78a4f2d-7f7c-40d7-be5c-520a5e49d468')\"\n",
              "              title=\"Convert this dataframe to an interactive table.\"\n",
              "              style=\"display:none;\">\n",
              "        \n",
              "  <svg xmlns=\"http://www.w3.org/2000/svg\" height=\"24px\"viewBox=\"0 0 24 24\"\n",
              "       width=\"24px\">\n",
              "    <path d=\"M0 0h24v24H0V0z\" fill=\"none\"/>\n",
              "    <path d=\"M18.56 5.44l.94 2.06.94-2.06 2.06-.94-2.06-.94-.94-2.06-.94 2.06-2.06.94zm-11 1L8.5 8.5l.94-2.06 2.06-.94-2.06-.94L8.5 2.5l-.94 2.06-2.06.94zm10 10l.94 2.06.94-2.06 2.06-.94-2.06-.94-.94-2.06-.94 2.06-2.06.94z\"/><path d=\"M17.41 7.96l-1.37-1.37c-.4-.4-.92-.59-1.43-.59-.52 0-1.04.2-1.43.59L10.3 9.45l-7.72 7.72c-.78.78-.78 2.05 0 2.83L4 21.41c.39.39.9.59 1.41.59.51 0 1.02-.2 1.41-.59l7.78-7.78 2.81-2.81c.8-.78.8-2.07 0-2.86zM5.41 20L4 18.59l7.72-7.72 1.47 1.35L5.41 20z\"/>\n",
              "  </svg>\n",
              "      </button>\n",
              "      \n",
              "  <style>\n",
              "    .colab-df-container {\n",
              "      display:flex;\n",
              "      flex-wrap:wrap;\n",
              "      gap: 12px;\n",
              "    }\n",
              "\n",
              "    .colab-df-convert {\n",
              "      background-color: #E8F0FE;\n",
              "      border: none;\n",
              "      border-radius: 50%;\n",
              "      cursor: pointer;\n",
              "      display: none;\n",
              "      fill: #1967D2;\n",
              "      height: 32px;\n",
              "      padding: 0 0 0 0;\n",
              "      width: 32px;\n",
              "    }\n",
              "\n",
              "    .colab-df-convert:hover {\n",
              "      background-color: #E2EBFA;\n",
              "      box-shadow: 0px 1px 2px rgba(60, 64, 67, 0.3), 0px 1px 3px 1px rgba(60, 64, 67, 0.15);\n",
              "      fill: #174EA6;\n",
              "    }\n",
              "\n",
              "    [theme=dark] .colab-df-convert {\n",
              "      background-color: #3B4455;\n",
              "      fill: #D2E3FC;\n",
              "    }\n",
              "\n",
              "    [theme=dark] .colab-df-convert:hover {\n",
              "      background-color: #434B5C;\n",
              "      box-shadow: 0px 1px 3px 1px rgba(0, 0, 0, 0.15);\n",
              "      filter: drop-shadow(0px 1px 2px rgba(0, 0, 0, 0.3));\n",
              "      fill: #FFFFFF;\n",
              "    }\n",
              "  </style>\n",
              "\n",
              "      <script>\n",
              "        const buttonEl =\n",
              "          document.querySelector('#df-f78a4f2d-7f7c-40d7-be5c-520a5e49d468 button.colab-df-convert');\n",
              "        buttonEl.style.display =\n",
              "          google.colab.kernel.accessAllowed ? 'block' : 'none';\n",
              "\n",
              "        async function convertToInteractive(key) {\n",
              "          const element = document.querySelector('#df-f78a4f2d-7f7c-40d7-be5c-520a5e49d468');\n",
              "          const dataTable =\n",
              "            await google.colab.kernel.invokeFunction('convertToInteractive',\n",
              "                                                     [key], {});\n",
              "          if (!dataTable) return;\n",
              "\n",
              "          const docLinkHtml = 'Like what you see? Visit the ' +\n",
              "            '<a target=\"_blank\" href=https://colab.research.google.com/notebooks/data_table.ipynb>data table notebook</a>'\n",
              "            + ' to learn more about interactive tables.';\n",
              "          element.innerHTML = '';\n",
              "          dataTable['output_type'] = 'display_data';\n",
              "          await google.colab.output.renderOutput(dataTable, element);\n",
              "          const docLink = document.createElement('div');\n",
              "          docLink.innerHTML = docLinkHtml;\n",
              "          element.appendChild(docLink);\n",
              "        }\n",
              "      </script>\n",
              "    </div>\n",
              "  </div>\n",
              "  "
            ]
          },
          "metadata": {},
          "execution_count": 23
        }
      ]
    },
    {
      "cell_type": "code",
      "source": [
        "yf.Ticker('^KS11').history(start='2016-04-01', end='2022-03-31')"
      ],
      "metadata": {
        "id": "7js9Ulh4YNPP",
        "colab": {
          "base_uri": "https://localhost:8080/",
          "height": 455
        },
        "outputId": "c4b3ad19-8a23-425d-da2d-bf27316e0785"
      },
      "execution_count": null,
      "outputs": [
        {
          "output_type": "execute_result",
          "data": {
            "text/plain": [
              "                                  Open         High          Low        Close  \\\n",
              "Date                                                                            \n",
              "2016-04-01 00:00:00+09:00  1994.770020  1994.770020  1970.170044  1973.569946   \n",
              "2016-04-04 00:00:00+09:00  1974.729980  1979.030029  1969.349976  1978.969971   \n",
              "2016-04-05 00:00:00+09:00  1972.380005  1973.170044  1959.260010  1962.739990   \n",
              "2016-04-06 00:00:00+09:00  1963.170044  1975.089966  1961.510010  1971.319946   \n",
              "2016-04-07 00:00:00+09:00  1978.750000  1980.430054  1964.989990  1973.890015   \n",
              "...                                ...          ...          ...          ...   \n",
              "2022-03-24 00:00:00+09:00  2716.250000  2729.659912  2705.139893  2729.659912   \n",
              "2022-03-25 00:00:00+09:00  2740.830078  2740.949951  2722.360107  2729.979980   \n",
              "2022-03-28 00:00:00+09:00  2721.219971  2737.459961  2707.739990  2729.560059   \n",
              "2022-03-29 00:00:00+09:00  2745.620117  2754.179932  2733.219971  2741.070068   \n",
              "2022-03-30 00:00:00+09:00  2758.310059  2760.600098  2740.020020  2746.739990   \n",
              "\n",
              "                           Volume  Dividends  Stock Splits  \n",
              "Date                                                        \n",
              "2016-04-01 00:00:00+09:00  392300          0             0  \n",
              "2016-04-04 00:00:00+09:00  363300          0             0  \n",
              "2016-04-05 00:00:00+09:00  368200          0             0  \n",
              "2016-04-06 00:00:00+09:00  358000          0             0  \n",
              "2016-04-07 00:00:00+09:00  434100          0             0  \n",
              "...                           ...        ...           ...  \n",
              "2022-03-24 00:00:00+09:00  959600          0             0  \n",
              "2022-03-25 00:00:00+09:00  599800          0             0  \n",
              "2022-03-28 00:00:00+09:00  768000          0             0  \n",
              "2022-03-29 00:00:00+09:00  726700          0             0  \n",
              "2022-03-30 00:00:00+09:00  837800          0             0  \n",
              "\n",
              "[1470 rows x 7 columns]"
            ],
            "text/html": [
              "\n",
              "  <div id=\"df-138d342a-84d7-490c-8099-d8ad8a246dd3\">\n",
              "    <div class=\"colab-df-container\">\n",
              "      <div>\n",
              "<style scoped>\n",
              "    .dataframe tbody tr th:only-of-type {\n",
              "        vertical-align: middle;\n",
              "    }\n",
              "\n",
              "    .dataframe tbody tr th {\n",
              "        vertical-align: top;\n",
              "    }\n",
              "\n",
              "    .dataframe thead th {\n",
              "        text-align: right;\n",
              "    }\n",
              "</style>\n",
              "<table border=\"1\" class=\"dataframe\">\n",
              "  <thead>\n",
              "    <tr style=\"text-align: right;\">\n",
              "      <th></th>\n",
              "      <th>Open</th>\n",
              "      <th>High</th>\n",
              "      <th>Low</th>\n",
              "      <th>Close</th>\n",
              "      <th>Volume</th>\n",
              "      <th>Dividends</th>\n",
              "      <th>Stock Splits</th>\n",
              "    </tr>\n",
              "    <tr>\n",
              "      <th>Date</th>\n",
              "      <th></th>\n",
              "      <th></th>\n",
              "      <th></th>\n",
              "      <th></th>\n",
              "      <th></th>\n",
              "      <th></th>\n",
              "      <th></th>\n",
              "    </tr>\n",
              "  </thead>\n",
              "  <tbody>\n",
              "    <tr>\n",
              "      <th>2016-04-01 00:00:00+09:00</th>\n",
              "      <td>1994.770020</td>\n",
              "      <td>1994.770020</td>\n",
              "      <td>1970.170044</td>\n",
              "      <td>1973.569946</td>\n",
              "      <td>392300</td>\n",
              "      <td>0</td>\n",
              "      <td>0</td>\n",
              "    </tr>\n",
              "    <tr>\n",
              "      <th>2016-04-04 00:00:00+09:00</th>\n",
              "      <td>1974.729980</td>\n",
              "      <td>1979.030029</td>\n",
              "      <td>1969.349976</td>\n",
              "      <td>1978.969971</td>\n",
              "      <td>363300</td>\n",
              "      <td>0</td>\n",
              "      <td>0</td>\n",
              "    </tr>\n",
              "    <tr>\n",
              "      <th>2016-04-05 00:00:00+09:00</th>\n",
              "      <td>1972.380005</td>\n",
              "      <td>1973.170044</td>\n",
              "      <td>1959.260010</td>\n",
              "      <td>1962.739990</td>\n",
              "      <td>368200</td>\n",
              "      <td>0</td>\n",
              "      <td>0</td>\n",
              "    </tr>\n",
              "    <tr>\n",
              "      <th>2016-04-06 00:00:00+09:00</th>\n",
              "      <td>1963.170044</td>\n",
              "      <td>1975.089966</td>\n",
              "      <td>1961.510010</td>\n",
              "      <td>1971.319946</td>\n",
              "      <td>358000</td>\n",
              "      <td>0</td>\n",
              "      <td>0</td>\n",
              "    </tr>\n",
              "    <tr>\n",
              "      <th>2016-04-07 00:00:00+09:00</th>\n",
              "      <td>1978.750000</td>\n",
              "      <td>1980.430054</td>\n",
              "      <td>1964.989990</td>\n",
              "      <td>1973.890015</td>\n",
              "      <td>434100</td>\n",
              "      <td>0</td>\n",
              "      <td>0</td>\n",
              "    </tr>\n",
              "    <tr>\n",
              "      <th>...</th>\n",
              "      <td>...</td>\n",
              "      <td>...</td>\n",
              "      <td>...</td>\n",
              "      <td>...</td>\n",
              "      <td>...</td>\n",
              "      <td>...</td>\n",
              "      <td>...</td>\n",
              "    </tr>\n",
              "    <tr>\n",
              "      <th>2022-03-24 00:00:00+09:00</th>\n",
              "      <td>2716.250000</td>\n",
              "      <td>2729.659912</td>\n",
              "      <td>2705.139893</td>\n",
              "      <td>2729.659912</td>\n",
              "      <td>959600</td>\n",
              "      <td>0</td>\n",
              "      <td>0</td>\n",
              "    </tr>\n",
              "    <tr>\n",
              "      <th>2022-03-25 00:00:00+09:00</th>\n",
              "      <td>2740.830078</td>\n",
              "      <td>2740.949951</td>\n",
              "      <td>2722.360107</td>\n",
              "      <td>2729.979980</td>\n",
              "      <td>599800</td>\n",
              "      <td>0</td>\n",
              "      <td>0</td>\n",
              "    </tr>\n",
              "    <tr>\n",
              "      <th>2022-03-28 00:00:00+09:00</th>\n",
              "      <td>2721.219971</td>\n",
              "      <td>2737.459961</td>\n",
              "      <td>2707.739990</td>\n",
              "      <td>2729.560059</td>\n",
              "      <td>768000</td>\n",
              "      <td>0</td>\n",
              "      <td>0</td>\n",
              "    </tr>\n",
              "    <tr>\n",
              "      <th>2022-03-29 00:00:00+09:00</th>\n",
              "      <td>2745.620117</td>\n",
              "      <td>2754.179932</td>\n",
              "      <td>2733.219971</td>\n",
              "      <td>2741.070068</td>\n",
              "      <td>726700</td>\n",
              "      <td>0</td>\n",
              "      <td>0</td>\n",
              "    </tr>\n",
              "    <tr>\n",
              "      <th>2022-03-30 00:00:00+09:00</th>\n",
              "      <td>2758.310059</td>\n",
              "      <td>2760.600098</td>\n",
              "      <td>2740.020020</td>\n",
              "      <td>2746.739990</td>\n",
              "      <td>837800</td>\n",
              "      <td>0</td>\n",
              "      <td>0</td>\n",
              "    </tr>\n",
              "  </tbody>\n",
              "</table>\n",
              "<p>1470 rows × 7 columns</p>\n",
              "</div>\n",
              "      <button class=\"colab-df-convert\" onclick=\"convertToInteractive('df-138d342a-84d7-490c-8099-d8ad8a246dd3')\"\n",
              "              title=\"Convert this dataframe to an interactive table.\"\n",
              "              style=\"display:none;\">\n",
              "        \n",
              "  <svg xmlns=\"http://www.w3.org/2000/svg\" height=\"24px\"viewBox=\"0 0 24 24\"\n",
              "       width=\"24px\">\n",
              "    <path d=\"M0 0h24v24H0V0z\" fill=\"none\"/>\n",
              "    <path d=\"M18.56 5.44l.94 2.06.94-2.06 2.06-.94-2.06-.94-.94-2.06-.94 2.06-2.06.94zm-11 1L8.5 8.5l.94-2.06 2.06-.94-2.06-.94L8.5 2.5l-.94 2.06-2.06.94zm10 10l.94 2.06.94-2.06 2.06-.94-2.06-.94-.94-2.06-.94 2.06-2.06.94z\"/><path d=\"M17.41 7.96l-1.37-1.37c-.4-.4-.92-.59-1.43-.59-.52 0-1.04.2-1.43.59L10.3 9.45l-7.72 7.72c-.78.78-.78 2.05 0 2.83L4 21.41c.39.39.9.59 1.41.59.51 0 1.02-.2 1.41-.59l7.78-7.78 2.81-2.81c.8-.78.8-2.07 0-2.86zM5.41 20L4 18.59l7.72-7.72 1.47 1.35L5.41 20z\"/>\n",
              "  </svg>\n",
              "      </button>\n",
              "      \n",
              "  <style>\n",
              "    .colab-df-container {\n",
              "      display:flex;\n",
              "      flex-wrap:wrap;\n",
              "      gap: 12px;\n",
              "    }\n",
              "\n",
              "    .colab-df-convert {\n",
              "      background-color: #E8F0FE;\n",
              "      border: none;\n",
              "      border-radius: 50%;\n",
              "      cursor: pointer;\n",
              "      display: none;\n",
              "      fill: #1967D2;\n",
              "      height: 32px;\n",
              "      padding: 0 0 0 0;\n",
              "      width: 32px;\n",
              "    }\n",
              "\n",
              "    .colab-df-convert:hover {\n",
              "      background-color: #E2EBFA;\n",
              "      box-shadow: 0px 1px 2px rgba(60, 64, 67, 0.3), 0px 1px 3px 1px rgba(60, 64, 67, 0.15);\n",
              "      fill: #174EA6;\n",
              "    }\n",
              "\n",
              "    [theme=dark] .colab-df-convert {\n",
              "      background-color: #3B4455;\n",
              "      fill: #D2E3FC;\n",
              "    }\n",
              "\n",
              "    [theme=dark] .colab-df-convert:hover {\n",
              "      background-color: #434B5C;\n",
              "      box-shadow: 0px 1px 3px 1px rgba(0, 0, 0, 0.15);\n",
              "      filter: drop-shadow(0px 1px 2px rgba(0, 0, 0, 0.3));\n",
              "      fill: #FFFFFF;\n",
              "    }\n",
              "  </style>\n",
              "\n",
              "      <script>\n",
              "        const buttonEl =\n",
              "          document.querySelector('#df-138d342a-84d7-490c-8099-d8ad8a246dd3 button.colab-df-convert');\n",
              "        buttonEl.style.display =\n",
              "          google.colab.kernel.accessAllowed ? 'block' : 'none';\n",
              "\n",
              "        async function convertToInteractive(key) {\n",
              "          const element = document.querySelector('#df-138d342a-84d7-490c-8099-d8ad8a246dd3');\n",
              "          const dataTable =\n",
              "            await google.colab.kernel.invokeFunction('convertToInteractive',\n",
              "                                                     [key], {});\n",
              "          if (!dataTable) return;\n",
              "\n",
              "          const docLinkHtml = 'Like what you see? Visit the ' +\n",
              "            '<a target=\"_blank\" href=https://colab.research.google.com/notebooks/data_table.ipynb>data table notebook</a>'\n",
              "            + ' to learn more about interactive tables.';\n",
              "          element.innerHTML = '';\n",
              "          dataTable['output_type'] = 'display_data';\n",
              "          await google.colab.output.renderOutput(dataTable, element);\n",
              "          const docLink = document.createElement('div');\n",
              "          docLink.innerHTML = docLinkHtml;\n",
              "          element.appendChild(docLink);\n",
              "        }\n",
              "      </script>\n",
              "    </div>\n",
              "  </div>\n",
              "  "
            ]
          },
          "metadata": {},
          "execution_count": 24
        }
      ]
    },
    {
      "cell_type": "code",
      "source": [
        "df_1 = yf.Ticker('^KS11').history(start='2016-04-01', end='2017-03-31')\n",
        "df_2 = yf.Ticker('^KS11').history(start='2017-04-01', end='2018-03-31')\n",
        "df_3 = yf.Ticker('^KS11').history(start='2018-04-01', end='2019-03-31')\n",
        "df_4 = yf.Ticker('^KS11').history(start='2019-04-01', end='2020-03-31')\n",
        "df_5 = yf.Ticker('^KS11').history(start='2020-04-01', end='2021-03-31')\n",
        "df_6 = yf.Ticker('^KS11').history(start='2021-04-01', end='2022-03-31')\n"
      ],
      "metadata": {
        "id": "REaCLIy_YPP0"
      },
      "execution_count": null,
      "outputs": []
    },
    {
      "cell_type": "code",
      "source": [
        "df_1.drop(['Dividends','Stock Splits','Volume'], axis =1, inplace = True)\n",
        "df_2.drop(['Dividends','Stock Splits','Volume'], axis =1, inplace = True)\n",
        "df_3.drop(['Dividends','Stock Splits','Volume'], axis =1, inplace = True)\n",
        "df_4.drop(['Dividends','Stock Splits','Volume'], axis =1, inplace = True)\n",
        "df_5.drop(['Dividends','Stock Splits','Volume'], axis =1, inplace = True)\n",
        "df_6.drop(['Dividends','Stock Splits','Volume'], axis =1, inplace = True)\n"
      ],
      "metadata": {
        "id": "Pi9QIQBQYRH9"
      },
      "execution_count": null,
      "outputs": []
    },
    {
      "cell_type": "markdown",
      "source": [
        "# 전고점 ,DD 컬럼 추가 - 코스피지수\n",
        "- ks1_MDD : MDD 값\n",
        "- ks1 : 컬럼이 추가된 데이터프레임"
      ],
      "metadata": {
        "id": "q6oP3vIWacBN"
      }
    },
    {
      "cell_type": "code",
      "source": [
        "df_ks11 = [df_1, df_2, df_3, df_4, df_5, df_6]"
      ],
      "metadata": {
        "id": "kTwIi-_MbxnE"
      },
      "execution_count": null,
      "outputs": []
    },
    {
      "cell_type": "code",
      "source": [
        "def DD(data):\n",
        "  data[\"전고점\"] = data[\"Close\"].cummax()\n",
        "  data['DD'] = (1- data[\"Close\"]/data['전고점']) * 100\n",
        "  MDD = data['DD'].max()\n",
        "  return MDD, data"
      ],
      "metadata": {
        "id": "kcWW_99DbZr2"
      },
      "execution_count": null,
      "outputs": []
    },
    {
      "cell_type": "code",
      "source": [
        "ks1_MDD, ks1 = DD(df_1)\n",
        "ks2_MDD, ks2 = DD(df_2)\n",
        "ks3_MDD, ks3 = DD(df_3)\n",
        "ks4_MDD, ks4 = DD(df_4)\n",
        "ks5_MDD, ks5 = DD(df_5)\n",
        "ks6_MDD, ks6 = DD(df_6)"
      ],
      "metadata": {
        "id": "GIBbeF4yb3nU"
      },
      "execution_count": null,
      "outputs": []
    },
    {
      "cell_type": "markdown",
      "source": [
        "# 돈벌래 포트폴리오 MDD, 샤프지수 구하기"
      ],
      "metadata": {
        "id": "sY9vZxH7ctdn"
      }
    },
    {
      "cell_type": "markdown",
      "source": [
        "## 데이터 불러오기 -- 종목별"
      ],
      "metadata": {
        "id": "INxy3S6kcyqv"
      }
    },
    {
      "cell_type": "code",
      "source": [
        "name1617 = TOP16_17[['종목코드','회사명']]\n",
        "name1718 = TOP17_18[['종목코드','회사명']]\n",
        "name1819 = TOP18_19[['종목코드','회사명']]\n",
        "name1920 = TOP19_20[['종목코드','회사명']]\n",
        "name2021 = TOP20_21[['종목코드','회사명']]\n",
        "name2122 = TOP21_22[['종목코드','회사명']]\n",
        "name2223 = TOP22_23[['종목코드','회사명']]"
      ],
      "metadata": {
        "id": "aXscsWxrhJMu"
      },
      "execution_count": null,
      "outputs": []
    },
    {
      "cell_type": "code",
      "source": [
        "name1617.reset_index(drop= True , inplace = True)\n",
        "name1718.reset_index(drop= True , inplace = True)\n",
        "name1819.reset_index(drop= True , inplace = True)\n",
        "name1920.reset_index(drop= True , inplace = True)\n",
        "name2021.reset_index(drop= True , inplace = True)\n",
        "name2122.reset_index(drop= True , inplace = True)\n",
        "name2223.reset_index(drop= True , inplace = True)"
      ],
      "metadata": {
        "id": "YIGC90rIc5d4"
      },
      "execution_count": null,
      "outputs": []
    },
    {
      "cell_type": "code",
      "source": [
        "name1617['종목코드'] = name1617['종목코드'] + '.KS'\n",
        "name1718['종목코드'] = name1718['종목코드'] + '.KS'\n",
        "name1819['종목코드'] = name1819['종목코드'] + '.KS'\n",
        "name1920['종목코드'] = name1920['종목코드'] + '.KS'\n",
        "name2021['종목코드'] = name2021['종목코드'] + '.KS'\n",
        "name2122['종목코드'] = name2122['종목코드'] + '.KS'"
      ],
      "metadata": {
        "colab": {
          "base_uri": "https://localhost:8080/"
        },
        "id": "irYxLFBadBXh",
        "outputId": "5a2cd82c-69d8-4a0d-e8e4-e1120fa92e0d"
      },
      "execution_count": null,
      "outputs": [
        {
          "output_type": "stream",
          "name": "stderr",
          "text": [
            "/usr/local/lib/python3.7/dist-packages/ipykernel_launcher.py:1: SettingWithCopyWarning: \n",
            "A value is trying to be set on a copy of a slice from a DataFrame.\n",
            "Try using .loc[row_indexer,col_indexer] = value instead\n",
            "\n",
            "See the caveats in the documentation: https://pandas.pydata.org/pandas-docs/stable/user_guide/indexing.html#returning-a-view-versus-a-copy\n",
            "  \"\"\"Entry point for launching an IPython kernel.\n",
            "/usr/local/lib/python3.7/dist-packages/ipykernel_launcher.py:2: SettingWithCopyWarning: \n",
            "A value is trying to be set on a copy of a slice from a DataFrame.\n",
            "Try using .loc[row_indexer,col_indexer] = value instead\n",
            "\n",
            "See the caveats in the documentation: https://pandas.pydata.org/pandas-docs/stable/user_guide/indexing.html#returning-a-view-versus-a-copy\n",
            "  \n",
            "/usr/local/lib/python3.7/dist-packages/ipykernel_launcher.py:3: SettingWithCopyWarning: \n",
            "A value is trying to be set on a copy of a slice from a DataFrame.\n",
            "Try using .loc[row_indexer,col_indexer] = value instead\n",
            "\n",
            "See the caveats in the documentation: https://pandas.pydata.org/pandas-docs/stable/user_guide/indexing.html#returning-a-view-versus-a-copy\n",
            "  This is separate from the ipykernel package so we can avoid doing imports until\n",
            "/usr/local/lib/python3.7/dist-packages/ipykernel_launcher.py:4: SettingWithCopyWarning: \n",
            "A value is trying to be set on a copy of a slice from a DataFrame.\n",
            "Try using .loc[row_indexer,col_indexer] = value instead\n",
            "\n",
            "See the caveats in the documentation: https://pandas.pydata.org/pandas-docs/stable/user_guide/indexing.html#returning-a-view-versus-a-copy\n",
            "  after removing the cwd from sys.path.\n",
            "/usr/local/lib/python3.7/dist-packages/ipykernel_launcher.py:5: SettingWithCopyWarning: \n",
            "A value is trying to be set on a copy of a slice from a DataFrame.\n",
            "Try using .loc[row_indexer,col_indexer] = value instead\n",
            "\n",
            "See the caveats in the documentation: https://pandas.pydata.org/pandas-docs/stable/user_guide/indexing.html#returning-a-view-versus-a-copy\n",
            "  \"\"\"\n",
            "/usr/local/lib/python3.7/dist-packages/ipykernel_launcher.py:6: SettingWithCopyWarning: \n",
            "A value is trying to be set on a copy of a slice from a DataFrame.\n",
            "Try using .loc[row_indexer,col_indexer] = value instead\n",
            "\n",
            "See the caveats in the documentation: https://pandas.pydata.org/pandas-docs/stable/user_guide/indexing.html#returning-a-view-versus-a-copy\n",
            "  \n"
          ]
        }
      ]
    },
    {
      "cell_type": "markdown",
      "source": [
        "## 함수 정리"
      ],
      "metadata": {
        "id": "fhokvsQVs6q3"
      }
    },
    {
      "cell_type": "code",
      "source": [
        "def 수익률(data) : \n",
        "  data['sum'] = data.sum(axis = 'columns')\n",
        "  data['sum_전날'] = data['sum'].shift(1)\n",
        "  data['일별수익률'] = (data['sum'] - data['sum_전날'])/data['sum_전날']\n",
        "  초기기준 = data['sum'][0]\n",
        "  data['누적수익률'] = (data['sum'] - 초기기준)/초기기준\n",
        "  return data"
      ],
      "metadata": {
        "id": "9Lw6FphbrcgJ"
      },
      "execution_count": null,
      "outputs": []
    },
    {
      "cell_type": "code",
      "source": [
        "def DD(data):\n",
        "  data[\"전고점\"] = data[\"sum\"].cummax()\n",
        "  data['DD'] = (1- data[\"sum\"]/data['전고점']) * 100\n",
        "  MDD = data['DD'].max()\n",
        "  return MDD, data"
      ],
      "metadata": {
        "id": "LK3c0bh3k74N"
      },
      "execution_count": null,
      "outputs": []
    },
    {
      "cell_type": "markdown",
      "source": [
        "## 2016~2017년도"
      ],
      "metadata": {
        "id": "Z6qY5qKXsM3a"
      }
    },
    {
      "cell_type": "code",
      "source": [
        "start = pd.DataFrame(yf.Ticker(name1617['종목코드'][0]).history(start='2016-04-01', end='2017-03-31')['Close'])\n",
        "start.rename(columns = {'Close':name1617['종목코드'][0]}, inplace = True)\n",
        "\n",
        "for i in range(1,20):\n",
        "\n",
        "  plus = pd.DataFrame(yf.Ticker(name1617['종목코드'][i]).history(start='2016-04-01', end='2017-03-31')['Close'])\n",
        "  plus.rename(columns = {'Close':name1617['종목코드'][i]}, inplace = True)\n",
        "\n",
        "  a = pd.concat([start ,plus], axis=1)\n",
        "  start = a "
      ],
      "metadata": {
        "id": "mSCdrij7es2_"
      },
      "execution_count": null,
      "outputs": []
    },
    {
      "cell_type": "code",
      "source": [
        "df1 = 수익률(start)"
      ],
      "metadata": {
        "id": "JAe-PVCsr0Vb"
      },
      "execution_count": null,
      "outputs": []
    },
    {
      "cell_type": "code",
      "source": [
        "mdd1, df1 = DD(df1)"
      ],
      "metadata": {
        "id": "fovtorqVphhX"
      },
      "execution_count": null,
      "outputs": []
    },
    {
      "cell_type": "code",
      "source": [
        "# start = start.reset_index(drop=True)\n",
        "# start.to_excel(excel_writer = 'start.xlsx')"
      ],
      "metadata": {
        "id": "99xwIo-r1Aq9"
      },
      "execution_count": null,
      "outputs": []
    },
    {
      "cell_type": "markdown",
      "source": [
        "## 2017~2018 "
      ],
      "metadata": {
        "id": "Ur0GMtWTsfYk"
      }
    },
    {
      "cell_type": "code",
      "source": [
        "start = pd.DataFrame(yf.Ticker(name1718['종목코드'][0]).history(start='2017-04-03', end='2018-03-30')['Close'])\n",
        "start.rename(columns = {'Close':name1718['종목코드'][0]}, inplace = True)\n",
        "\n",
        "for i in range(1,20):\n",
        "\n",
        "  plus = pd.DataFrame(yf.Ticker(name1718['종목코드'][i]).history(start='2017-04-03', end='2018-03-30')['Close'])\n",
        "  plus.rename(columns = {'Close':name1718['종목코드'][i]}, inplace = True)\n",
        "\n",
        "  a = pd.concat([start ,plus],axis=1)\n",
        "  start = a "
      ],
      "metadata": {
        "id": "PEhIvOvMsBO-"
      },
      "execution_count": null,
      "outputs": []
    },
    {
      "cell_type": "code",
      "source": [
        "df2 = 수익률(start)\n",
        "mdd2, df2 = DD(df2)"
      ],
      "metadata": {
        "id": "f8TBE0VxsnbZ"
      },
      "execution_count": null,
      "outputs": []
    },
    {
      "cell_type": "markdown",
      "source": [
        "##2018~2019"
      ],
      "metadata": {
        "id": "jZbu1ZCxtYNM"
      }
    },
    {
      "cell_type": "code",
      "source": [
        "start = pd.DataFrame(yf.Ticker(name1819['종목코드'][0]).history(start='2018-04-02', end='2019-03-29')['Close'])\n",
        "start.rename(columns = {'Close':name1819['종목코드'][0]}, inplace = True)\n",
        "\n",
        "for i in range(1,20):\n",
        "\n",
        "  plus = pd.DataFrame(yf.Ticker(name1819['종목코드'][i]).history(start='2018-04-02', end='2019-03-29')['Close'])\n",
        "  plus.rename(columns = {'Close':name1819['종목코드'][i]}, inplace = True)\n",
        "\n",
        "  a = pd.concat([start ,plus],axis=1)\n",
        "  start = a "
      ],
      "metadata": {
        "id": "ArBloXWDtXwn"
      },
      "execution_count": null,
      "outputs": []
    },
    {
      "cell_type": "code",
      "source": [
        "df3 = 수익률(start)\n",
        "mdd3, df3 = DD(df3)"
      ],
      "metadata": {
        "id": "z6RLGhCntXt8"
      },
      "execution_count": null,
      "outputs": []
    },
    {
      "cell_type": "markdown",
      "source": [
        "##2019~2020"
      ],
      "metadata": {
        "id": "Og2T0V7ktdiW"
      }
    },
    {
      "cell_type": "code",
      "source": [
        "start = pd.DataFrame(yf.Ticker(name1920['종목코드'][0]).history(start='2019-04-01', end='2020-03-31')['Close'])\n",
        "start.rename(columns = {'Close':name1920['종목코드'][0]}, inplace = True)\n",
        "\n",
        "for i in range(1,20):\n",
        "\n",
        "  plus = pd.DataFrame(yf.Ticker(name1920['종목코드'][i]).history(start='2019-04-01', end='2020-03-31')['Close'])\n",
        "  plus.rename(columns = {'Close':name1920['종목코드'][i]}, inplace = True)\n",
        "\n",
        "  a = pd.concat([start ,plus],axis=1)\n",
        "  start = a "
      ],
      "metadata": {
        "id": "Gma3ptGPtXrY"
      },
      "execution_count": null,
      "outputs": []
    },
    {
      "cell_type": "code",
      "source": [
        "df4 = 수익률(start)\n",
        "mdd4, df4 = DD(df4)"
      ],
      "metadata": {
        "id": "W6tN16ndtXor"
      },
      "execution_count": null,
      "outputs": []
    },
    {
      "cell_type": "markdown",
      "source": [
        "##2020~2021"
      ],
      "metadata": {
        "id": "svm8FJa2tilZ"
      }
    },
    {
      "cell_type": "code",
      "source": [
        "start = pd.DataFrame(yf.Ticker(name2021['종목코드'][0]).history(start='2020-04-01', end='2021-03-31')['Close'])\n",
        "start.rename(columns = {'Close':name2021['종목코드'][0]}, inplace = True)\n",
        "\n",
        "for i in range(1,20):\n",
        "\n",
        "  plus = pd.DataFrame(yf.Ticker(name2021['종목코드'][i]).history(start='2020-04-01', end='2021-03-31')['Close'])\n",
        "  plus.rename(columns = {'Close':name2021['종목코드'][i]}, inplace = True)\n",
        "\n",
        "  a = pd.concat([start ,plus],axis=1)\n",
        "  start = a "
      ],
      "metadata": {
        "id": "fBJp6AOutfpB"
      },
      "execution_count": null,
      "outputs": []
    },
    {
      "cell_type": "code",
      "source": [
        "df5 = 수익률(start)\n",
        "mdd5, df5 = DD(df5)"
      ],
      "metadata": {
        "id": "4dEajyvgtfWj"
      },
      "execution_count": null,
      "outputs": []
    },
    {
      "cell_type": "markdown",
      "source": [
        "##2021~2022"
      ],
      "metadata": {
        "id": "F0d-vls6uj3Q"
      }
    },
    {
      "cell_type": "code",
      "source": [
        "start = pd.DataFrame(yf.Ticker(name2122['종목코드'][0]).history(start='2021-04-01', end='2022-03-31')['Close'])\n",
        "start.rename(columns = {'Close':name2122['종목코드'][0]}, inplace = True)\n",
        "\n",
        "for i in range(1,20):\n",
        "\n",
        "  plus = pd.DataFrame(yf.Ticker(name2122['종목코드'][i]).history(start='2021-04-01', end='2022-03-31')['Close'])\n",
        "  plus.rename(columns = {'Close':name2122['종목코드'][i]}, inplace = True)\n",
        "\n",
        "  a = pd.concat([start ,plus],axis=1)\n",
        "  start = a "
      ],
      "metadata": {
        "id": "PRzSt2UutfQi"
      },
      "execution_count": null,
      "outputs": []
    },
    {
      "cell_type": "code",
      "source": [
        "df6 = 수익률(start)\n",
        "mdd6, df6 = DD(df6)"
      ],
      "metadata": {
        "id": "KWHsOniyuoCK"
      },
      "execution_count": null,
      "outputs": []
    },
    {
      "cell_type": "markdown",
      "source": [
        "## 투자금 2000 만원, 각 종목 당 100만원씩\n",
        "-  round( 100만원 / 첫 날 종가 가격 , 2) * 마지막 날 종가 가격 의 합들을 구한 뒤 초기 투자금 2000만원에서 수익률을 구해야 함 !"
      ],
      "metadata": {
        "id": "domykju4JNgV"
      }
    },
    {
      "cell_type": "code",
      "source": [
        "df1.loc[-1] = 1000000 / df1.head(1)"
      ],
      "metadata": {
        "id": "enbErqfKDsSK"
      },
      "execution_count": null,
      "outputs": []
    },
    {
      "cell_type": "code",
      "source": [
        "count.drop(['sum','sum_전날','일별수익률','누적수익률','전고점','DD'], axis = 1, inplace = True)"
      ],
      "metadata": {
        "id": "nZjNi59wFLFf"
      },
      "execution_count": null,
      "outputs": []
    },
    {
      "cell_type": "code",
      "source": [
        "a = df1.tail(1)"
      ],
      "metadata": {
        "id": "aDQseIh4HTQk"
      },
      "execution_count": null,
      "outputs": []
    },
    {
      "cell_type": "code",
      "source": [
        "a.drop(['sum','sum_전날','일별수익률','누적수익률','전고점','DD'], axis = 1, inplace = True)"
      ],
      "metadata": {
        "colab": {
          "base_uri": "https://localhost:8080/"
        },
        "id": "CHuMwX1FHILg",
        "outputId": "b0d78891-bff9-4205-ebda-814c7e39240e"
      },
      "execution_count": null,
      "outputs": [
        {
          "output_type": "stream",
          "name": "stderr",
          "text": [
            "/usr/local/lib/python3.7/dist-packages/pandas/core/frame.py:4913: SettingWithCopyWarning: \n",
            "A value is trying to be set on a copy of a slice from a DataFrame\n",
            "\n",
            "See the caveats in the documentation: https://pandas.pydata.org/pandas-docs/stable/user_guide/indexing.html#returning-a-view-versus-a-copy\n",
            "  errors=errors,\n"
          ]
        }
      ]
    },
    {
      "cell_type": "code",
      "source": [],
      "metadata": {
        "id": "Yw_EXBFbJbxA"
      },
      "execution_count": null,
      "outputs": []
    },
    {
      "cell_type": "code",
      "source": [],
      "metadata": {
        "id": "Wt0yPUobJbaf"
      },
      "execution_count": null,
      "outputs": []
    },
    {
      "cell_type": "code",
      "source": [
        "count.dtypes"
      ],
      "metadata": {
        "colab": {
          "base_uri": "https://localhost:8080/"
        },
        "id": "uyotxOrYIpEn",
        "outputId": "c9697ef2-a4c4-41c0-bcfe-24991fd08f09"
      },
      "execution_count": null,
      "outputs": [
        {
          "output_type": "execute_result",
          "data": {
            "text/plain": [
              "005490.KS    float64\n",
              "003240.KS    float64\n",
              "096770.KS    float64\n",
              "003550.KS    float64\n",
              "000240.KS    float64\n",
              "010130.KS    float64\n",
              "012330.KS    float64\n",
              "005380.KS    float64\n",
              "000670.KS    float64\n",
              "005930.KS    float64\n",
              "006400.KS    float64\n",
              "001430.KS    float64\n",
              "093050.KS    float64\n",
              "009150.KS    float64\n",
              "000660.KS    float64\n",
              "002790.KS    float64\n",
              "004000.KS    float64\n",
              "020000.KS    float64\n",
              "006260.KS    float64\n",
              "033780.KS    float64\n",
              "dtype: object"
            ]
          },
          "metadata": {},
          "execution_count": 124
        }
      ]
    },
    {
      "cell_type": "code",
      "source": [
        "a = a.values.tolist()"
      ],
      "metadata": {
        "id": "Gd-Pbt1MHNtA"
      },
      "execution_count": null,
      "outputs": []
    },
    {
      "cell_type": "code",
      "source": [
        "count = count.values.tolist()"
      ],
      "metadata": {
        "id": "n5qBVcIgGvox"
      },
      "execution_count": null,
      "outputs": []
    },
    {
      "cell_type": "code",
      "source": [
        "product = [x*y for x,y in zip(a,count)]\n",
        "print(product)"
      ],
      "metadata": {
        "id": "WYoO7GqnJNT0",
        "colab": {
          "base_uri": "https://localhost:8080/",
          "height": 264
        },
        "outputId": "e45e505c-c8f6-4ea5-df70-9974e34f0e13"
      },
      "execution_count": null,
      "outputs": [
        {
          "output_type": "error",
          "ename": "TypeError",
          "evalue": "ignored",
          "traceback": [
            "\u001b[0;31m---------------------------------------------------------------------------\u001b[0m",
            "\u001b[0;31mTypeError\u001b[0m                                 Traceback (most recent call last)",
            "\u001b[0;32m<ipython-input-112-eba779038f59>\u001b[0m in \u001b[0;36m<module>\u001b[0;34m\u001b[0m\n\u001b[0;32m----> 1\u001b[0;31m \u001b[0mproduct\u001b[0m \u001b[0;34m=\u001b[0m \u001b[0;34m[\u001b[0m\u001b[0mx\u001b[0m\u001b[0;34m*\u001b[0m\u001b[0my\u001b[0m \u001b[0;32mfor\u001b[0m \u001b[0mx\u001b[0m\u001b[0;34m,\u001b[0m\u001b[0my\u001b[0m \u001b[0;32min\u001b[0m \u001b[0mzip\u001b[0m\u001b[0;34m(\u001b[0m\u001b[0ma\u001b[0m\u001b[0;34m,\u001b[0m\u001b[0mcount\u001b[0m\u001b[0;34m)\u001b[0m\u001b[0;34m]\u001b[0m\u001b[0;34m\u001b[0m\u001b[0;34m\u001b[0m\u001b[0m\n\u001b[0m\u001b[1;32m      2\u001b[0m \u001b[0mprint\u001b[0m\u001b[0;34m(\u001b[0m\u001b[0mproduct\u001b[0m\u001b[0;34m)\u001b[0m\u001b[0;34m\u001b[0m\u001b[0;34m\u001b[0m\u001b[0m\n",
            "\u001b[0;32m<ipython-input-112-eba779038f59>\u001b[0m in \u001b[0;36m<listcomp>\u001b[0;34m(.0)\u001b[0m\n\u001b[0;32m----> 1\u001b[0;31m \u001b[0mproduct\u001b[0m \u001b[0;34m=\u001b[0m \u001b[0;34m[\u001b[0m\u001b[0mx\u001b[0m\u001b[0;34m*\u001b[0m\u001b[0my\u001b[0m \u001b[0;32mfor\u001b[0m \u001b[0mx\u001b[0m\u001b[0;34m,\u001b[0m\u001b[0my\u001b[0m \u001b[0;32min\u001b[0m \u001b[0mzip\u001b[0m\u001b[0;34m(\u001b[0m\u001b[0ma\u001b[0m\u001b[0;34m,\u001b[0m\u001b[0mcount\u001b[0m\u001b[0;34m)\u001b[0m\u001b[0;34m]\u001b[0m\u001b[0;34m\u001b[0m\u001b[0;34m\u001b[0m\u001b[0m\n\u001b[0m\u001b[1;32m      2\u001b[0m \u001b[0mprint\u001b[0m\u001b[0;34m(\u001b[0m\u001b[0mproduct\u001b[0m\u001b[0;34m)\u001b[0m\u001b[0;34m\u001b[0m\u001b[0;34m\u001b[0m\u001b[0m\n",
            "\u001b[0;31mTypeError\u001b[0m: can't multiply sequence by non-int of type 'list'"
          ]
        }
      ]
    },
    {
      "cell_type": "code",
      "source": [],
      "metadata": {
        "colab": {
          "base_uri": "https://localhost:8080/",
          "height": 341
        },
        "id": "I6bFY2_nFqza",
        "outputId": "850a23c1-6809-4245-a26d-3fd1712b899d"
      },
      "execution_count": null,
      "outputs": [
        {
          "output_type": "execute_result",
          "data": {
            "text/plain": [
              "                           005490.KS  003240.KS  096770.KS  003550.KS  \\\n",
              "Date                                                                    \n",
              "2016-04-01 00:00:00+09:00        NaN        NaN        NaN        NaN   \n",
              "2017-03-30 00:00:00+09:00        NaN        NaN        NaN        NaN   \n",
              "\n",
              "                           000240.KS  010130.KS  012330.KS  005380.KS  \\\n",
              "Date                                                                    \n",
              "2016-04-01 00:00:00+09:00        NaN        NaN        NaN        NaN   \n",
              "2017-03-30 00:00:00+09:00        NaN        NaN        NaN        NaN   \n",
              "\n",
              "                           000670.KS  005930.KS  ...  004000.KS  020000.KS  \\\n",
              "Date                                             ...                         \n",
              "2016-04-01 00:00:00+09:00        NaN        NaN  ...        NaN        NaN   \n",
              "2017-03-30 00:00:00+09:00        NaN        NaN  ...        NaN        NaN   \n",
              "\n",
              "                           006260.KS  033780.KS  sum  sum_전날  일별수익률  누적수익률  \\\n",
              "Date                                                                         \n",
              "2016-04-01 00:00:00+09:00        NaN        NaN  NaN     NaN    NaN    NaN   \n",
              "2017-03-30 00:00:00+09:00        NaN        NaN  NaN     NaN    NaN    NaN   \n",
              "\n",
              "                           전고점  DD  \n",
              "Date                                \n",
              "2016-04-01 00:00:00+09:00  NaN NaN  \n",
              "2017-03-30 00:00:00+09:00  NaN NaN  \n",
              "\n",
              "[2 rows x 26 columns]"
            ],
            "text/html": [
              "\n",
              "  <div id=\"df-c52b90a9-29c1-492a-bf53-032663ed27b2\">\n",
              "    <div class=\"colab-df-container\">\n",
              "      <div>\n",
              "<style scoped>\n",
              "    .dataframe tbody tr th:only-of-type {\n",
              "        vertical-align: middle;\n",
              "    }\n",
              "\n",
              "    .dataframe tbody tr th {\n",
              "        vertical-align: top;\n",
              "    }\n",
              "\n",
              "    .dataframe thead th {\n",
              "        text-align: right;\n",
              "    }\n",
              "</style>\n",
              "<table border=\"1\" class=\"dataframe\">\n",
              "  <thead>\n",
              "    <tr style=\"text-align: right;\">\n",
              "      <th></th>\n",
              "      <th>005490.KS</th>\n",
              "      <th>003240.KS</th>\n",
              "      <th>096770.KS</th>\n",
              "      <th>003550.KS</th>\n",
              "      <th>000240.KS</th>\n",
              "      <th>010130.KS</th>\n",
              "      <th>012330.KS</th>\n",
              "      <th>005380.KS</th>\n",
              "      <th>000670.KS</th>\n",
              "      <th>005930.KS</th>\n",
              "      <th>...</th>\n",
              "      <th>004000.KS</th>\n",
              "      <th>020000.KS</th>\n",
              "      <th>006260.KS</th>\n",
              "      <th>033780.KS</th>\n",
              "      <th>sum</th>\n",
              "      <th>sum_전날</th>\n",
              "      <th>일별수익률</th>\n",
              "      <th>누적수익률</th>\n",
              "      <th>전고점</th>\n",
              "      <th>DD</th>\n",
              "    </tr>\n",
              "    <tr>\n",
              "      <th>Date</th>\n",
              "      <th></th>\n",
              "      <th></th>\n",
              "      <th></th>\n",
              "      <th></th>\n",
              "      <th></th>\n",
              "      <th></th>\n",
              "      <th></th>\n",
              "      <th></th>\n",
              "      <th></th>\n",
              "      <th></th>\n",
              "      <th></th>\n",
              "      <th></th>\n",
              "      <th></th>\n",
              "      <th></th>\n",
              "      <th></th>\n",
              "      <th></th>\n",
              "      <th></th>\n",
              "      <th></th>\n",
              "      <th></th>\n",
              "      <th></th>\n",
              "      <th></th>\n",
              "    </tr>\n",
              "  </thead>\n",
              "  <tbody>\n",
              "    <tr>\n",
              "      <th>2016-04-01 00:00:00+09:00</th>\n",
              "      <td>NaN</td>\n",
              "      <td>NaN</td>\n",
              "      <td>NaN</td>\n",
              "      <td>NaN</td>\n",
              "      <td>NaN</td>\n",
              "      <td>NaN</td>\n",
              "      <td>NaN</td>\n",
              "      <td>NaN</td>\n",
              "      <td>NaN</td>\n",
              "      <td>NaN</td>\n",
              "      <td>...</td>\n",
              "      <td>NaN</td>\n",
              "      <td>NaN</td>\n",
              "      <td>NaN</td>\n",
              "      <td>NaN</td>\n",
              "      <td>NaN</td>\n",
              "      <td>NaN</td>\n",
              "      <td>NaN</td>\n",
              "      <td>NaN</td>\n",
              "      <td>NaN</td>\n",
              "      <td>NaN</td>\n",
              "    </tr>\n",
              "    <tr>\n",
              "      <th>2017-03-30 00:00:00+09:00</th>\n",
              "      <td>NaN</td>\n",
              "      <td>NaN</td>\n",
              "      <td>NaN</td>\n",
              "      <td>NaN</td>\n",
              "      <td>NaN</td>\n",
              "      <td>NaN</td>\n",
              "      <td>NaN</td>\n",
              "      <td>NaN</td>\n",
              "      <td>NaN</td>\n",
              "      <td>NaN</td>\n",
              "      <td>...</td>\n",
              "      <td>NaN</td>\n",
              "      <td>NaN</td>\n",
              "      <td>NaN</td>\n",
              "      <td>NaN</td>\n",
              "      <td>NaN</td>\n",
              "      <td>NaN</td>\n",
              "      <td>NaN</td>\n",
              "      <td>NaN</td>\n",
              "      <td>NaN</td>\n",
              "      <td>NaN</td>\n",
              "    </tr>\n",
              "  </tbody>\n",
              "</table>\n",
              "<p>2 rows × 26 columns</p>\n",
              "</div>\n",
              "      <button class=\"colab-df-convert\" onclick=\"convertToInteractive('df-c52b90a9-29c1-492a-bf53-032663ed27b2')\"\n",
              "              title=\"Convert this dataframe to an interactive table.\"\n",
              "              style=\"display:none;\">\n",
              "        \n",
              "  <svg xmlns=\"http://www.w3.org/2000/svg\" height=\"24px\"viewBox=\"0 0 24 24\"\n",
              "       width=\"24px\">\n",
              "    <path d=\"M0 0h24v24H0V0z\" fill=\"none\"/>\n",
              "    <path d=\"M18.56 5.44l.94 2.06.94-2.06 2.06-.94-2.06-.94-.94-2.06-.94 2.06-2.06.94zm-11 1L8.5 8.5l.94-2.06 2.06-.94-2.06-.94L8.5 2.5l-.94 2.06-2.06.94zm10 10l.94 2.06.94-2.06 2.06-.94-2.06-.94-.94-2.06-.94 2.06-2.06.94z\"/><path d=\"M17.41 7.96l-1.37-1.37c-.4-.4-.92-.59-1.43-.59-.52 0-1.04.2-1.43.59L10.3 9.45l-7.72 7.72c-.78.78-.78 2.05 0 2.83L4 21.41c.39.39.9.59 1.41.59.51 0 1.02-.2 1.41-.59l7.78-7.78 2.81-2.81c.8-.78.8-2.07 0-2.86zM5.41 20L4 18.59l7.72-7.72 1.47 1.35L5.41 20z\"/>\n",
              "  </svg>\n",
              "      </button>\n",
              "      \n",
              "  <style>\n",
              "    .colab-df-container {\n",
              "      display:flex;\n",
              "      flex-wrap:wrap;\n",
              "      gap: 12px;\n",
              "    }\n",
              "\n",
              "    .colab-df-convert {\n",
              "      background-color: #E8F0FE;\n",
              "      border: none;\n",
              "      border-radius: 50%;\n",
              "      cursor: pointer;\n",
              "      display: none;\n",
              "      fill: #1967D2;\n",
              "      height: 32px;\n",
              "      padding: 0 0 0 0;\n",
              "      width: 32px;\n",
              "    }\n",
              "\n",
              "    .colab-df-convert:hover {\n",
              "      background-color: #E2EBFA;\n",
              "      box-shadow: 0px 1px 2px rgba(60, 64, 67, 0.3), 0px 1px 3px 1px rgba(60, 64, 67, 0.15);\n",
              "      fill: #174EA6;\n",
              "    }\n",
              "\n",
              "    [theme=dark] .colab-df-convert {\n",
              "      background-color: #3B4455;\n",
              "      fill: #D2E3FC;\n",
              "    }\n",
              "\n",
              "    [theme=dark] .colab-df-convert:hover {\n",
              "      background-color: #434B5C;\n",
              "      box-shadow: 0px 1px 3px 1px rgba(0, 0, 0, 0.15);\n",
              "      filter: drop-shadow(0px 1px 2px rgba(0, 0, 0, 0.3));\n",
              "      fill: #FFFFFF;\n",
              "    }\n",
              "  </style>\n",
              "\n",
              "      <script>\n",
              "        const buttonEl =\n",
              "          document.querySelector('#df-c52b90a9-29c1-492a-bf53-032663ed27b2 button.colab-df-convert');\n",
              "        buttonEl.style.display =\n",
              "          google.colab.kernel.accessAllowed ? 'block' : 'none';\n",
              "\n",
              "        async function convertToInteractive(key) {\n",
              "          const element = document.querySelector('#df-c52b90a9-29c1-492a-bf53-032663ed27b2');\n",
              "          const dataTable =\n",
              "            await google.colab.kernel.invokeFunction('convertToInteractive',\n",
              "                                                     [key], {});\n",
              "          if (!dataTable) return;\n",
              "\n",
              "          const docLinkHtml = 'Like what you see? Visit the ' +\n",
              "            '<a target=\"_blank\" href=https://colab.research.google.com/notebooks/data_table.ipynb>data table notebook</a>'\n",
              "            + ' to learn more about interactive tables.';\n",
              "          element.innerHTML = '';\n",
              "          dataTable['output_type'] = 'display_data';\n",
              "          await google.colab.output.renderOutput(dataTable, element);\n",
              "          const docLink = document.createElement('div');\n",
              "          docLink.innerHTML = docLinkHtml;\n",
              "          element.appendChild(docLink);\n",
              "        }\n",
              "      </script>\n",
              "    </div>\n",
              "  </div>\n",
              "  "
            ]
          },
          "metadata": {},
          "execution_count": 79
        }
      ]
    },
    {
      "cell_type": "markdown",
      "source": [
        "## 각 지수들 list -> dataFrame 으로 변환"
      ],
      "metadata": {
        "id": "6L0lWbSYJq2r"
      }
    },
    {
      "cell_type": "code",
      "source": [
        "mdd_list= [mdd1, mdd2, mdd3, mdd4, mdd5, mdd6]"
      ],
      "metadata": {
        "id": "SBGvvYViuzGt"
      },
      "execution_count": null,
      "outputs": []
    },
    {
      "cell_type": "code",
      "source": [
        "Apr_li = [0.01493, 0.01467, 0.01873, 0.01751, 0.00893, 0.00659, 0.02002] \n",
        "df_li = [df1, df2, df3, df4, df5, df6]\n",
        "VOL_list = []\n",
        "SHARP_list = []\n",
        "\n",
        "for i in range(0,6):\n",
        "  VOL = np.std(df_li[i][\"일별수익률\"]) * np.sqrt(len(df_li[i]))\n",
        "  SHARP = np.mean(df_li[i][\"누적수익률\"][-1]) - Apr_li[i] / VOL\n",
        "\n",
        "\n",
        "  VOL_list.append(VOL)\n",
        "  SHARP_list.append(SHARP)\n",
        "\n",
        "  print(VOL, SHARP)"
      ],
      "metadata": {
        "id": "Qq3YVdtev6a1"
      },
      "execution_count": null,
      "outputs": []
    },
    {
      "cell_type": "code",
      "source": [
        "VOL_list"
      ],
      "metadata": {
        "id": "_zPE2qvjybkk"
      },
      "execution_count": null,
      "outputs": []
    },
    {
      "cell_type": "code",
      "source": [
        "SHARP_list"
      ],
      "metadata": {
        "id": "-rnbHRT_y1Dw"
      },
      "execution_count": null,
      "outputs": []
    },
    {
      "cell_type": "code",
      "source": [
        "mdd_list"
      ],
      "metadata": {
        "id": "DGKvidyUy8UN"
      },
      "execution_count": null,
      "outputs": []
    },
    {
      "cell_type": "code",
      "source": [
        "y_prof = [df1[\"누적수익률\"][-1], df2[\"누적수익률\"][-1], df3[\"누적수익률\"][-1], df4[\"누적수익률\"][-1], df5[\"누적수익률\"][-1], df6[\"누적수익률\"][-1] ]"
      ],
      "metadata": {
        "id": "BIhmkOsazCW5"
      },
      "execution_count": null,
      "outputs": []
    },
    {
      "cell_type": "code",
      "source": [
        "y_prof #연간수익률"
      ],
      "metadata": {
        "id": "acd7-tsezjrL"
      },
      "execution_count": null,
      "outputs": []
    },
    {
      "cell_type": "code",
      "source": [],
      "metadata": {
        "id": "ccLzCEoWzk5d"
      },
      "execution_count": null,
      "outputs": []
    },
    {
      "cell_type": "code",
      "source": [],
      "metadata": {
        "id": "CAG2nUk-Dd8m"
      },
      "execution_count": null,
      "outputs": []
    }
  ]
}